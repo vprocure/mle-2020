{
 "cells": [
  {
   "cell_type": "markdown",
   "metadata": {
    "id": "lp_axZQrhGQz"
   },
   "source": [
    "\n",
    "# Intro\n"
   ]
  },
  {
   "cell_type": "markdown",
   "metadata": {
    "id": "NvQTANJbO92-"
   },
   "source": [
    "**Notes**\n",
    "\n",
    "The main bulk of the material comes from https://developers.google.com/machine-learning/recommendation/overview/candidate-generation. If you want to go further later, you can take a look at http://nicolas-hug.com/blog/matrix_facto_3. It is absolutely not expected to look at these two links for the interviews  or to complete the test."
   ]
  },
  {
   "cell_type": "markdown",
   "metadata": {
    "id": "fWJwwtLUeGn3"
   },
   "source": [
    "**Context**: \n",
    "\n",
    "We want to build a movies' recommender in order to get new movies to watch during the lock down. We will base our work on a variation of the MovieLens dataset. \n",
    "The data consists of movies seen by the users, some informations about the movies, and some informations about the users. The problem consists in predicting which movies a given user might like.\n",
    "\n",
    "We are presenting you here first a naive approach in order to familarize yourself with the problem and show you how it might be solved.\n",
    "\n",
    "**Task**:\n",
    "\n",
    "The code presented is a first implementation but has a number of shortcomings in its structure and features (more on that in the conclusion). Your task consist in producing a refactoring, so as to be one step closer to a \"clean\" code.\n",
    "\n",
    "**Evaluation**:\n",
    "\n",
    "Our goal here is two fold:\n",
    "- See how you understand a problem and adapt to an already given approach to tackle it.\n",
    "- See how you can design new features.\n",
    "- See how you manipulate python code: understanding, ideas to refactor etc ...\n",
    "\n",
    "The projects will be evaluated on the quality of the source code produced."
   ]
  },
  {
   "cell_type": "markdown",
   "metadata": {
    "id": "C09qoiwchTfd"
   },
   "source": [
    "# The data\n",
    "\n",
    "## First, let's load some data."
   ]
  },
  {
   "cell_type": "code",
   "execution_count": 1,
   "metadata": {
    "colab": {
     "base_uri": "https://localhost:8080/",
     "height": 278
    },
    "id": "M4w1EYJrdvVA",
    "outputId": "c53c2a48-ddfc-40c8-e2a1-9130681cfd51"
   },
   "outputs": [
    {
     "name": "stdout",
     "output_type": "stream",
     "text": [
      "(6040, 5)\n"
     ]
    },
    {
     "data": {
      "text/html": [
       "<div>\n",
       "<style scoped>\n",
       "    .dataframe tbody tr th:only-of-type {\n",
       "        vertical-align: middle;\n",
       "    }\n",
       "\n",
       "    .dataframe tbody tr th {\n",
       "        vertical-align: top;\n",
       "    }\n",
       "\n",
       "    .dataframe thead th {\n",
       "        text-align: right;\n",
       "    }\n",
       "</style>\n",
       "<table border=\"1\" class=\"dataframe\">\n",
       "  <thead>\n",
       "    <tr style=\"text-align: right;\">\n",
       "      <th></th>\n",
       "      <th>user_id</th>\n",
       "      <th>gender</th>\n",
       "      <th>age</th>\n",
       "      <th>occupation</th>\n",
       "      <th>zip_code</th>\n",
       "    </tr>\n",
       "  </thead>\n",
       "  <tbody>\n",
       "    <tr>\n",
       "      <td>0</td>\n",
       "      <td>0</td>\n",
       "      <td>F</td>\n",
       "      <td>1</td>\n",
       "      <td>10</td>\n",
       "      <td>48067</td>\n",
       "    </tr>\n",
       "    <tr>\n",
       "      <td>1</td>\n",
       "      <td>1</td>\n",
       "      <td>M</td>\n",
       "      <td>56</td>\n",
       "      <td>16</td>\n",
       "      <td>70072</td>\n",
       "    </tr>\n",
       "    <tr>\n",
       "      <td>2</td>\n",
       "      <td>2</td>\n",
       "      <td>M</td>\n",
       "      <td>25</td>\n",
       "      <td>15</td>\n",
       "      <td>55117</td>\n",
       "    </tr>\n",
       "    <tr>\n",
       "      <td>3</td>\n",
       "      <td>3</td>\n",
       "      <td>M</td>\n",
       "      <td>45</td>\n",
       "      <td>7</td>\n",
       "      <td>02460</td>\n",
       "    </tr>\n",
       "    <tr>\n",
       "      <td>4</td>\n",
       "      <td>4</td>\n",
       "      <td>M</td>\n",
       "      <td>25</td>\n",
       "      <td>20</td>\n",
       "      <td>55455</td>\n",
       "    </tr>\n",
       "  </tbody>\n",
       "</table>\n",
       "</div>"
      ],
      "text/plain": [
       "   user_id gender  age  occupation zip_code\n",
       "0        0      F    1          10    48067\n",
       "1        1      M   56          16    70072\n",
       "2        2      M   25          15    55117\n",
       "3        3      M   45           7    02460\n",
       "4        4      M   25          20    55455"
      ]
     },
     "execution_count": 1,
     "metadata": {},
     "output_type": "execute_result"
    }
   ],
   "source": [
    "import pandas as pd\n",
    "\n",
    "users = pd.read_csv(\"data/users.csv\")\n",
    "print(users.shape)\n",
    "users.head()"
   ]
  },
  {
   "cell_type": "code",
   "execution_count": 2,
   "metadata": {
    "id": "1oGlGDVWfLD5"
   },
   "outputs": [
    {
     "name": "stdout",
     "output_type": "stream",
     "text": [
      "(3883, 21)\n"
     ]
    },
    {
     "data": {
      "text/html": [
       "<div>\n",
       "<style scoped>\n",
       "    .dataframe tbody tr th:only-of-type {\n",
       "        vertical-align: middle;\n",
       "    }\n",
       "\n",
       "    .dataframe tbody tr th {\n",
       "        vertical-align: top;\n",
       "    }\n",
       "\n",
       "    .dataframe thead th {\n",
       "        text-align: right;\n",
       "    }\n",
       "</style>\n",
       "<table border=\"1\" class=\"dataframe\">\n",
       "  <thead>\n",
       "    <tr style=\"text-align: right;\">\n",
       "      <th></th>\n",
       "      <th>movie_id</th>\n",
       "      <th>title</th>\n",
       "      <th>year</th>\n",
       "      <th>Animation</th>\n",
       "      <th>Children's</th>\n",
       "      <th>Comedy</th>\n",
       "      <th>Adventure</th>\n",
       "      <th>Fantasy</th>\n",
       "      <th>Romance</th>\n",
       "      <th>Drama</th>\n",
       "      <th>...</th>\n",
       "      <th>Crime</th>\n",
       "      <th>Thriller</th>\n",
       "      <th>Horror</th>\n",
       "      <th>Sci-Fi</th>\n",
       "      <th>Documentary</th>\n",
       "      <th>War</th>\n",
       "      <th>Musical</th>\n",
       "      <th>Mystery</th>\n",
       "      <th>Film-Noir</th>\n",
       "      <th>Western</th>\n",
       "    </tr>\n",
       "  </thead>\n",
       "  <tbody>\n",
       "    <tr>\n",
       "      <td>0</td>\n",
       "      <td>0</td>\n",
       "      <td>Toy Story</td>\n",
       "      <td>1995</td>\n",
       "      <td>1.0</td>\n",
       "      <td>1.0</td>\n",
       "      <td>1.0</td>\n",
       "      <td>0.0</td>\n",
       "      <td>0.0</td>\n",
       "      <td>0.0</td>\n",
       "      <td>0.0</td>\n",
       "      <td>...</td>\n",
       "      <td>0.0</td>\n",
       "      <td>0.0</td>\n",
       "      <td>0.0</td>\n",
       "      <td>0.0</td>\n",
       "      <td>0.0</td>\n",
       "      <td>0.0</td>\n",
       "      <td>0.0</td>\n",
       "      <td>0.0</td>\n",
       "      <td>0.0</td>\n",
       "      <td>0.0</td>\n",
       "    </tr>\n",
       "    <tr>\n",
       "      <td>1</td>\n",
       "      <td>1</td>\n",
       "      <td>Jumanji</td>\n",
       "      <td>1995</td>\n",
       "      <td>0.0</td>\n",
       "      <td>1.0</td>\n",
       "      <td>0.0</td>\n",
       "      <td>1.0</td>\n",
       "      <td>1.0</td>\n",
       "      <td>0.0</td>\n",
       "      <td>0.0</td>\n",
       "      <td>...</td>\n",
       "      <td>0.0</td>\n",
       "      <td>0.0</td>\n",
       "      <td>0.0</td>\n",
       "      <td>0.0</td>\n",
       "      <td>0.0</td>\n",
       "      <td>0.0</td>\n",
       "      <td>0.0</td>\n",
       "      <td>0.0</td>\n",
       "      <td>0.0</td>\n",
       "      <td>0.0</td>\n",
       "    </tr>\n",
       "    <tr>\n",
       "      <td>2</td>\n",
       "      <td>2</td>\n",
       "      <td>Grumpier Old Men</td>\n",
       "      <td>1995</td>\n",
       "      <td>0.0</td>\n",
       "      <td>0.0</td>\n",
       "      <td>1.0</td>\n",
       "      <td>0.0</td>\n",
       "      <td>0.0</td>\n",
       "      <td>1.0</td>\n",
       "      <td>0.0</td>\n",
       "      <td>...</td>\n",
       "      <td>0.0</td>\n",
       "      <td>0.0</td>\n",
       "      <td>0.0</td>\n",
       "      <td>0.0</td>\n",
       "      <td>0.0</td>\n",
       "      <td>0.0</td>\n",
       "      <td>0.0</td>\n",
       "      <td>0.0</td>\n",
       "      <td>0.0</td>\n",
       "      <td>0.0</td>\n",
       "    </tr>\n",
       "    <tr>\n",
       "      <td>3</td>\n",
       "      <td>3</td>\n",
       "      <td>Waiting to Exhale</td>\n",
       "      <td>1995</td>\n",
       "      <td>0.0</td>\n",
       "      <td>0.0</td>\n",
       "      <td>1.0</td>\n",
       "      <td>0.0</td>\n",
       "      <td>0.0</td>\n",
       "      <td>0.0</td>\n",
       "      <td>1.0</td>\n",
       "      <td>...</td>\n",
       "      <td>0.0</td>\n",
       "      <td>0.0</td>\n",
       "      <td>0.0</td>\n",
       "      <td>0.0</td>\n",
       "      <td>0.0</td>\n",
       "      <td>0.0</td>\n",
       "      <td>0.0</td>\n",
       "      <td>0.0</td>\n",
       "      <td>0.0</td>\n",
       "      <td>0.0</td>\n",
       "    </tr>\n",
       "    <tr>\n",
       "      <td>4</td>\n",
       "      <td>4</td>\n",
       "      <td>Father of the Bride Part II</td>\n",
       "      <td>1995</td>\n",
       "      <td>0.0</td>\n",
       "      <td>0.0</td>\n",
       "      <td>1.0</td>\n",
       "      <td>0.0</td>\n",
       "      <td>0.0</td>\n",
       "      <td>0.0</td>\n",
       "      <td>0.0</td>\n",
       "      <td>...</td>\n",
       "      <td>0.0</td>\n",
       "      <td>0.0</td>\n",
       "      <td>0.0</td>\n",
       "      <td>0.0</td>\n",
       "      <td>0.0</td>\n",
       "      <td>0.0</td>\n",
       "      <td>0.0</td>\n",
       "      <td>0.0</td>\n",
       "      <td>0.0</td>\n",
       "      <td>0.0</td>\n",
       "    </tr>\n",
       "  </tbody>\n",
       "</table>\n",
       "<p>5 rows × 21 columns</p>\n",
       "</div>"
      ],
      "text/plain": [
       "   movie_id                        title  year  Animation  Children's  Comedy  \\\n",
       "0         0                    Toy Story  1995        1.0         1.0     1.0   \n",
       "1         1                      Jumanji  1995        0.0         1.0     0.0   \n",
       "2         2             Grumpier Old Men  1995        0.0         0.0     1.0   \n",
       "3         3            Waiting to Exhale  1995        0.0         0.0     1.0   \n",
       "4         4  Father of the Bride Part II  1995        0.0         0.0     1.0   \n",
       "\n",
       "   Adventure  Fantasy  Romance  Drama  ...  Crime  Thriller  Horror  Sci-Fi  \\\n",
       "0        0.0      0.0      0.0    0.0  ...    0.0       0.0     0.0     0.0   \n",
       "1        1.0      1.0      0.0    0.0  ...    0.0       0.0     0.0     0.0   \n",
       "2        0.0      0.0      1.0    0.0  ...    0.0       0.0     0.0     0.0   \n",
       "3        0.0      0.0      0.0    1.0  ...    0.0       0.0     0.0     0.0   \n",
       "4        0.0      0.0      0.0    0.0  ...    0.0       0.0     0.0     0.0   \n",
       "\n",
       "   Documentary  War  Musical  Mystery  Film-Noir  Western  \n",
       "0          0.0  0.0      0.0      0.0        0.0      0.0  \n",
       "1          0.0  0.0      0.0      0.0        0.0      0.0  \n",
       "2          0.0  0.0      0.0      0.0        0.0      0.0  \n",
       "3          0.0  0.0      0.0      0.0        0.0      0.0  \n",
       "4          0.0  0.0      0.0      0.0        0.0      0.0  \n",
       "\n",
       "[5 rows x 21 columns]"
      ]
     },
     "execution_count": 2,
     "metadata": {},
     "output_type": "execute_result"
    }
   ],
   "source": [
    "movies = pd.read_csv(\"data/movies.csv\")\n",
    "print(movies.shape)\n",
    "movies.head()"
   ]
  },
  {
   "cell_type": "code",
   "execution_count": 3,
   "metadata": {
    "id": "f06rRH9OetFc"
   },
   "outputs": [
    {
     "name": "stdout",
     "output_type": "stream",
     "text": [
      "(1000209, 3)\n"
     ]
    },
    {
     "data": {
      "text/html": [
       "<div>\n",
       "<style scoped>\n",
       "    .dataframe tbody tr th:only-of-type {\n",
       "        vertical-align: middle;\n",
       "    }\n",
       "\n",
       "    .dataframe tbody tr th {\n",
       "        vertical-align: top;\n",
       "    }\n",
       "\n",
       "    .dataframe thead th {\n",
       "        text-align: right;\n",
       "    }\n",
       "</style>\n",
       "<table border=\"1\" class=\"dataframe\">\n",
       "  <thead>\n",
       "    <tr style=\"text-align: right;\">\n",
       "      <th></th>\n",
       "      <th>user_id</th>\n",
       "      <th>movie_id</th>\n",
       "      <th>rating</th>\n",
       "    </tr>\n",
       "  </thead>\n",
       "  <tbody>\n",
       "    <tr>\n",
       "      <td>0</td>\n",
       "      <td>0</td>\n",
       "      <td>1176</td>\n",
       "      <td>5</td>\n",
       "    </tr>\n",
       "    <tr>\n",
       "      <td>1</td>\n",
       "      <td>0</td>\n",
       "      <td>655</td>\n",
       "      <td>3</td>\n",
       "    </tr>\n",
       "    <tr>\n",
       "      <td>2</td>\n",
       "      <td>0</td>\n",
       "      <td>902</td>\n",
       "      <td>3</td>\n",
       "    </tr>\n",
       "    <tr>\n",
       "      <td>3</td>\n",
       "      <td>0</td>\n",
       "      <td>3339</td>\n",
       "      <td>4</td>\n",
       "    </tr>\n",
       "    <tr>\n",
       "      <td>4</td>\n",
       "      <td>0</td>\n",
       "      <td>2286</td>\n",
       "      <td>5</td>\n",
       "    </tr>\n",
       "  </tbody>\n",
       "</table>\n",
       "</div>"
      ],
      "text/plain": [
       "   user_id  movie_id  rating\n",
       "0        0      1176       5\n",
       "1        0       655       3\n",
       "2        0       902       3\n",
       "3        0      3339       4\n",
       "4        0      2286       5"
      ]
     },
     "execution_count": 3,
     "metadata": {},
     "output_type": "execute_result"
    }
   ],
   "source": [
    "ratings = pd.read_csv(\"data/ratings.csv\")\n",
    "print(ratings.shape) # Over 1M ratings\n",
    "ratings.head()"
   ]
  },
  {
   "cell_type": "markdown",
   "metadata": {},
   "source": [
    "## EDA :\n",
    "\n",
    "Before anything else, I think it is important and relevant to do some exploratory data analysis to know what we are working with and to maybe detect some anomalies in the dataset (presence of *NaN* values, negative ratings, no movie genre assigned, etc...)\n",
    "\n",
    "\n",
    "### Number of occurences for each movie genre :"
   ]
  },
  {
   "cell_type": "code",
   "execution_count": 4,
   "metadata": {},
   "outputs": [
    {
     "data": {
      "text/plain": [
       "Text(0, 0.5, 'Occurences of each genres')"
      ]
     },
     "execution_count": 4,
     "metadata": {},
     "output_type": "execute_result"
    },
    {
     "data": {
      "image/png": "[encoded data removed]",
      "text/plain": [
       "<Figure size 1296x1152 with 1 Axes>"
      ]
     },
     "metadata": {
      "needs_background": "light"
     },
     "output_type": "display_data"
    }
   ],
   "source": [
    "import matplotlib.pyplot as plt\n",
    "import numpy as np\n",
    "\n",
    "genre_cols = [\"Animation\", \"Children's\", \n",
    "       'Comedy', 'Adventure', 'Fantasy', 'Romance', 'Drama',\n",
    "       'Action', 'Crime', 'Thriller', 'Horror', 'Sci-Fi', 'Documentary', 'War',\n",
    "       'Musical', 'Mystery', 'Film-Noir', 'Western']\n",
    "\n",
    "occurences_of_each_genre = movies[genre_cols].sum()\n",
    "\n",
    "plt.figure(figsize=(18,16))\n",
    "plt.bar(np.arange(len(occurences_of_each_genre)),occurences_of_each_genre.to_list())\n",
    "plt.xticks(np.arange(len(occurences_of_each_genre)),genre_cols)\n",
    "plt.xlabel('Genres')\n",
    "plt.ylabel('Occurences of each genres')"
   ]
  },
  {
   "cell_type": "markdown",
   "metadata": {},
   "source": [
    "This bar chart allows us to see the distribution of each movie genre present in the dataset. \n",
    "Drama and Comedy are obviously the two most prominent genres in this study.\n",
    "\n",
    "### Count of occurences for the different number of genres for movies"
   ]
  },
  {
   "cell_type": "code",
   "execution_count": 5,
   "metadata": {},
   "outputs": [
    {
     "name": "stderr",
     "output_type": "stream",
     "text": [
      "c:\\users\\procu\\appdata\\local\\programs\\python\\python37\\lib\\site-packages\\pandas\\core\\indexing.py:376: SettingWithCopyWarning: \n",
      "A value is trying to be set on a copy of a slice from a DataFrame.\n",
      "Try using .loc[row_indexer,col_indexer] = value instead\n",
      "\n",
      "See the caveats in the documentation: http://pandas.pydata.org/pandas-docs/stable/user_guide/indexing.html#returning-a-view-versus-a-copy\n",
      "  self.obj[key] = _infer_fill_value(value)\n",
      "c:\\users\\procu\\appdata\\local\\programs\\python\\python37\\lib\\site-packages\\pandas\\core\\indexing.py:576: SettingWithCopyWarning: \n",
      "A value is trying to be set on a copy of a slice from a DataFrame.\n",
      "Try using .loc[row_indexer,col_indexer] = value instead\n",
      "\n",
      "See the caveats in the documentation: http://pandas.pydata.org/pandas-docs/stable/user_guide/indexing.html#returning-a-view-versus-a-copy\n",
      "  self.obj[item_labels[indexer[info_axis]]] = value\n"
     ]
    },
    {
     "data": {
      "text/plain": [
       "Text(0.5, 0, 'Number of genres for a movie')"
      ]
     },
     "execution_count": 5,
     "metadata": {},
     "output_type": "execute_result"
    },
    {
     "data": {
      "image/png": "[encoded data removed]",
      "text/plain": [
       "<Figure size 432x288 with 1 Axes>"
      ]
     },
     "metadata": {
      "needs_background": "light"
     },
     "output_type": "display_data"
    }
   ],
   "source": [
    "nb_gender_per_movies = movies[genre_cols]\n",
    "nb_gender_per_movies.loc[:,'count']=movies[genre_cols].sum(axis=1)\n",
    "\n",
    "nb_gender_set=list(set(nb_gender_per_movies['count']))\n",
    "\n",
    "counts_nb_gender = list()\n",
    "for i in nb_gender_set:\n",
    "    counts_nb_gender.append(nb_gender_per_movies.loc[nb_gender_per_movies['count']==i].shape[0])\n",
    "    \n",
    "plt.bar(nb_gender_set,counts_nb_gender)\n",
    "plt.xticks(nb_gender_set,nb_gender_set)\n",
    "plt.ylabel('Occurences of the number of genres')\n",
    "plt.xlabel('Number of genres for a movie')"
   ]
  },
  {
   "cell_type": "markdown",
   "metadata": {},
   "source": [
    "We can see two relevant informations on this bar chart :\n",
    "\n",
    "1. No movie has 0 genre assigned, which is good to know for the rest of the study.\n",
    "\n",
    "2. Most movies are concentrated in the first two bars, which means that a large majority of them is assigned to one or two genres. This will also reveal to be relevant in what's comming next.\n",
    "\n",
    "We might now want to explore in details the most common movie genre to see how they compose with other genres.\n",
    "\n",
    "### Drama and comedy genres study"
   ]
  },
  {
   "cell_type": "code",
   "execution_count": 6,
   "metadata": {},
   "outputs": [
    {
     "data": {
      "text/plain": [
       "Text(0.5, 0, 'Number of genres for a comedy movie')"
      ]
     },
     "execution_count": 6,
     "metadata": {},
     "output_type": "execute_result"
    },
    {
     "data": {
      "image/png": "[encoded data removed]",
      "text/plain": [
       "<Figure size 432x288 with 1 Axes>"
      ]
     },
     "metadata": {
      "needs_background": "light"
     },
     "output_type": "display_data"
    },
    {
     "data": {
      "image/png": "[encoded data removed]",
      "text/plain": [
       "<Figure size 432x288 with 1 Axes>"
      ]
     },
     "metadata": {
      "needs_background": "light"
     },
     "output_type": "display_data"
    }
   ],
   "source": [
    "nb_gender_per_drama_movies = movies[genre_cols].loc[nb_gender_per_movies['Drama']==1]\n",
    "nb_gender_per_drama_movies.loc[:,'count']=movies[genre_cols].loc[nb_gender_per_movies['Drama']==1].sum(axis=1)\n",
    "\n",
    "nb_gender_per_comedy_movies = movies[genre_cols].loc[nb_gender_per_movies['Comedy']==1]\n",
    "nb_gender_per_comedy_movies.loc[:,'count']=movies[genre_cols].loc[nb_gender_per_movies['Comedy']==1].sum(axis=1)\n",
    "\n",
    "nb_gender_drama_set=list(set(nb_gender_per_drama_movies['count']))\n",
    "nb_gender_comedy_set=list(set(nb_gender_per_comedy_movies['count']))\n",
    "\n",
    "counts_nb_gender_drama = list()\n",
    "counts_nb_gender_comedy = list()\n",
    "\n",
    "for i in nb_gender_drama_set:\n",
    "    counts_nb_gender_drama.append(nb_gender_per_drama_movies.loc[nb_gender_per_drama_movies['count']==i].shape[0])\n",
    "    \n",
    "for i in nb_gender_comedy_set:\n",
    "    counts_nb_gender_comedy.append(nb_gender_per_comedy_movies.loc[nb_gender_per_comedy_movies['count']==i].shape[0])\n",
    "    \n",
    "plt.bar(nb_gender_drama_set,counts_nb_gender_drama)\n",
    "plt.xticks(nb_gender_drama_set,nb_gender_drama_set)\n",
    "plt.ylabel('Occurences of the number of genres')\n",
    "plt.xlabel('Number of genres for a drama movie')\n",
    "\n",
    "plt.figure(2)\n",
    "plt.bar(nb_gender_comedy_set,counts_nb_gender_comedy)\n",
    "plt.xticks(nb_gender_comedy_set,nb_gender_comedy_set)\n",
    "plt.ylabel('Occurences of the number of genres')\n",
    "plt.xlabel('Number of genres for a comedy movie')"
   ]
  },
  {
   "cell_type": "markdown",
   "metadata": {},
   "source": [
    "This informs us that drama and comedy genres follows the general trend of movies: most of them have 1 or 2 genres assigned.\n",
    "    \n",
    "### Ratings distribution"
   ]
  },
  {
   "cell_type": "code",
   "execution_count": 7,
   "metadata": {},
   "outputs": [
    {
     "data": {
      "text/plain": [
       "Text(0, 0.5, 'Occurences of each rating')"
      ]
     },
     "execution_count": 7,
     "metadata": {},
     "output_type": "execute_result"
    },
    {
     "data": {
      "image/png": "[encoded data removed]",
      "text/plain": [
       "<Figure size 432x288 with 1 Axes>"
      ]
     },
     "metadata": {
      "needs_background": "light"
     },
     "output_type": "display_data"
    }
   ],
   "source": [
    "ratings_counts = []\n",
    "ratings_set = list(set(ratings['rating']))\n",
    "\n",
    "for i in ratings_set:\n",
    "    ratings_counts.append(ratings.loc[ratings['rating']==i].shape[0])\n",
    "    \n",
    "plt.bar(ratings_set,ratings_counts)\n",
    "plt.xticks(ratings_set,ratings_set)\n",
    "plt.xlabel('Ratings')\n",
    "plt.ylabel('Occurences of each rating')"
   ]
  },
  {
   "cell_type": "markdown",
   "metadata": {},
   "source": [
    "This chart teaches us two important things :\n",
    "\n",
    "1. The ratings are discrete and entirely in the {1,2,3,4,5} set (no 0, negative, or NaN rating).\n",
    "2. Most ratings are concentrated between 3 and 5."
   ]
  },
  {
   "cell_type": "markdown",
   "metadata": {},
   "source": [
    "### Dataframe merging for correlation heatmap studies (find relevant features)\n",
    "\n",
    "Here, we are going to merge the data with the foreign keys included in the dataset (`movie_id` and `user_id`) :\n"
   ]
  },
  {
   "cell_type": "code",
   "execution_count": 8,
   "metadata": {},
   "outputs": [],
   "source": [
    "import seaborn as sns\n",
    "\n",
    "\n",
    "columns = genre_cols+['movie_id','user_id','occupation','zip_code','year','gender','age','rating']\n",
    "df = movies.merge(ratings,left_on='movie_id',right_on='movie_id').merge(users,left_on='user_id',right_on='user_id')[columns]\n",
    "\n",
    "df = pd.concat([df,pd.get_dummies(df['gender'],prefix='gender')],axis=1).drop(['gender'],axis=1) # one-hot encode the gender feature\n",
    "df = pd.concat([df,pd.get_dummies(df['occupation'],prefix='occupation')],axis=1).drop(['occupation'],axis=1) # one-hot encode the occupation feature\n",
    "corr_pearson = df.corr().loc['rating'].apply(abs)"
   ]
  },
  {
   "cell_type": "code",
   "execution_count": 9,
   "metadata": {},
   "outputs": [
    {
     "data": {
      "text/plain": [
       "<matplotlib.axes._subplots.AxesSubplot at 0x143e679b1c8>"
      ]
     },
     "execution_count": 9,
     "metadata": {},
     "output_type": "execute_result"
    },
    {
     "data": {
      "image/png": "[encoded data removed]",
      "text/plain": [
       "<Figure size 720x720 with 2 Axes>"
      ]
     },
     "metadata": {
      "needs_background": "light"
     },
     "output_type": "display_data"
    }
   ],
   "source": [
    "fig, ax = plt.subplots(figsize=(10,10)) \n",
    "sns.heatmap(pd.DataFrame(corr_pearson),center=0)"
   ]
  },
  {
   "cell_type": "markdown",
   "metadata": {},
   "source": [
    "From this heatmap of correlation, we can conclude one main thing : the profile of a user (age, occupation, gender) does not seem to have an effect on their rating. \n",
    "\n",
    "Therefore, if we want to include a feature where a user get recommendations based on other similar users, it would have to be more about their tastes in movies rather than their profile. \n",
    "\n",
    "### EDA Conclusion\n",
    "\n",
    "From this exploratory data analysis we learned a few relevant information. \n",
    "\n",
    "First, and a very important one, is that all the data is in the expected shape. Every movie has atleast one genre assigned, every rating is between 1 and 5. This will allow us to work on the data without the fear of having to deal with unconform data.\n",
    "\n",
    "Second, we now know that most movies have 1 or 2 genres assigned, and that is also true for `Drama` and `Comedy` genres which are the most popular. Also, the ratings are mostly comprised of *3,4 and 5* ratings.\n",
    "\n",
    "Third, in the case of implementation of a recommendation based on similar users, it would not be relevant to use the profile (gender, occupation or age), but rather go for tastes in common."
   ]
  },
  {
   "cell_type": "markdown",
   "metadata": {
    "id": "YZVOENCtl83E"
   },
   "source": [
    "# Content-based Filtering\n",
    "\n",
    "Content-based filtering uses item features to recommend other items similar to what the user likes, based on their previous actions or explicit feedback. We dont use other users information !\n",
    "\n",
    "For example, if user `A` liked `Harry Potter 1`, he/she will like `Harry Potter 2`"
   ]
  },
  {
   "cell_type": "code",
   "execution_count": 10,
   "metadata": {
    "colab": {
     "base_uri": "https://localhost:8080/",
     "height": 322
    },
    "id": "FZ4yhO-4Zx15",
    "outputId": "5739f88e-b73d-497d-928d-3608df9cd724"
   },
   "outputs": [
    {
     "data": {
      "text/html": [
       "<img src='https://miro.medium.com/max/1642/1*BME1JjIlBEAI9BV5pOO5Mg.png' height=\"300\" width=\"250\"/>\n"
      ],
      "text/plain": [
       "<IPython.core.display.HTML object>"
      ]
     },
     "metadata": {},
     "output_type": "display_data"
    }
   ],
   "source": [
    "%%html\n",
    "<img src='https://miro.medium.com/max/1642/1*BME1JjIlBEAI9BV5pOO5Mg.png' height=\"300\" width=\"250\"/>"
   ]
  },
  {
   "cell_type": "markdown",
   "metadata": {
    "id": "PfVv_CVWagIo"
   },
   "source": [
    "What are similar movies ? In order to answer to this question we need to build a similiarity measure. \n",
    "\n",
    "## Features\n",
    "\n",
    "This measure will operate on the characteristics (**features**) of the movies to determine which are close. In our case, we have access to the genres of the movies. For example, the genres of `Toy Story` are: `Animation`, `Children's` and `Comedy`. This is represented as follow in our dataset:"
   ]
  },
  {
   "cell_type": "code",
   "execution_count": 11,
   "metadata": {
    "id": "1noUwSktbEUJ"
   },
   "outputs": [
    {
     "data": {
      "text/html": [
       "<div>\n",
       "<style scoped>\n",
       "    .dataframe tbody tr th:only-of-type {\n",
       "        vertical-align: middle;\n",
       "    }\n",
       "\n",
       "    .dataframe tbody tr th {\n",
       "        vertical-align: top;\n",
       "    }\n",
       "\n",
       "    .dataframe thead th {\n",
       "        text-align: right;\n",
       "    }\n",
       "</style>\n",
       "<table border=\"1\" class=\"dataframe\">\n",
       "  <thead>\n",
       "    <tr style=\"text-align: right;\">\n",
       "      <th></th>\n",
       "      <th>title</th>\n",
       "      <th>Animation</th>\n",
       "      <th>Children's</th>\n",
       "      <th>Comedy</th>\n",
       "      <th>Adventure</th>\n",
       "      <th>Fantasy</th>\n",
       "      <th>Romance</th>\n",
       "      <th>Drama</th>\n",
       "      <th>Action</th>\n",
       "      <th>Crime</th>\n",
       "      <th>Thriller</th>\n",
       "      <th>Horror</th>\n",
       "      <th>Sci-Fi</th>\n",
       "      <th>Documentary</th>\n",
       "      <th>War</th>\n",
       "      <th>Musical</th>\n",
       "      <th>Mystery</th>\n",
       "      <th>Film-Noir</th>\n",
       "      <th>Western</th>\n",
       "    </tr>\n",
       "  </thead>\n",
       "  <tbody>\n",
       "    <tr>\n",
       "      <td>0</td>\n",
       "      <td>Toy Story</td>\n",
       "      <td>1.0</td>\n",
       "      <td>1.0</td>\n",
       "      <td>1.0</td>\n",
       "      <td>0.0</td>\n",
       "      <td>0.0</td>\n",
       "      <td>0.0</td>\n",
       "      <td>0.0</td>\n",
       "      <td>0.0</td>\n",
       "      <td>0.0</td>\n",
       "      <td>0.0</td>\n",
       "      <td>0.0</td>\n",
       "      <td>0.0</td>\n",
       "      <td>0.0</td>\n",
       "      <td>0.0</td>\n",
       "      <td>0.0</td>\n",
       "      <td>0.0</td>\n",
       "      <td>0.0</td>\n",
       "      <td>0.0</td>\n",
       "    </tr>\n",
       "    <tr>\n",
       "      <td>1</td>\n",
       "      <td>Jumanji</td>\n",
       "      <td>0.0</td>\n",
       "      <td>1.0</td>\n",
       "      <td>0.0</td>\n",
       "      <td>1.0</td>\n",
       "      <td>1.0</td>\n",
       "      <td>0.0</td>\n",
       "      <td>0.0</td>\n",
       "      <td>0.0</td>\n",
       "      <td>0.0</td>\n",
       "      <td>0.0</td>\n",
       "      <td>0.0</td>\n",
       "      <td>0.0</td>\n",
       "      <td>0.0</td>\n",
       "      <td>0.0</td>\n",
       "      <td>0.0</td>\n",
       "      <td>0.0</td>\n",
       "      <td>0.0</td>\n",
       "      <td>0.0</td>\n",
       "    </tr>\n",
       "    <tr>\n",
       "      <td>2</td>\n",
       "      <td>Grumpier Old Men</td>\n",
       "      <td>0.0</td>\n",
       "      <td>0.0</td>\n",
       "      <td>1.0</td>\n",
       "      <td>0.0</td>\n",
       "      <td>0.0</td>\n",
       "      <td>1.0</td>\n",
       "      <td>0.0</td>\n",
       "      <td>0.0</td>\n",
       "      <td>0.0</td>\n",
       "      <td>0.0</td>\n",
       "      <td>0.0</td>\n",
       "      <td>0.0</td>\n",
       "      <td>0.0</td>\n",
       "      <td>0.0</td>\n",
       "      <td>0.0</td>\n",
       "      <td>0.0</td>\n",
       "      <td>0.0</td>\n",
       "      <td>0.0</td>\n",
       "    </tr>\n",
       "    <tr>\n",
       "      <td>3</td>\n",
       "      <td>Waiting to Exhale</td>\n",
       "      <td>0.0</td>\n",
       "      <td>0.0</td>\n",
       "      <td>1.0</td>\n",
       "      <td>0.0</td>\n",
       "      <td>0.0</td>\n",
       "      <td>0.0</td>\n",
       "      <td>1.0</td>\n",
       "      <td>0.0</td>\n",
       "      <td>0.0</td>\n",
       "      <td>0.0</td>\n",
       "      <td>0.0</td>\n",
       "      <td>0.0</td>\n",
       "      <td>0.0</td>\n",
       "      <td>0.0</td>\n",
       "      <td>0.0</td>\n",
       "      <td>0.0</td>\n",
       "      <td>0.0</td>\n",
       "      <td>0.0</td>\n",
       "    </tr>\n",
       "    <tr>\n",
       "      <td>4</td>\n",
       "      <td>Father of the Bride Part II</td>\n",
       "      <td>0.0</td>\n",
       "      <td>0.0</td>\n",
       "      <td>1.0</td>\n",
       "      <td>0.0</td>\n",
       "      <td>0.0</td>\n",
       "      <td>0.0</td>\n",
       "      <td>0.0</td>\n",
       "      <td>0.0</td>\n",
       "      <td>0.0</td>\n",
       "      <td>0.0</td>\n",
       "      <td>0.0</td>\n",
       "      <td>0.0</td>\n",
       "      <td>0.0</td>\n",
       "      <td>0.0</td>\n",
       "      <td>0.0</td>\n",
       "      <td>0.0</td>\n",
       "      <td>0.0</td>\n",
       "      <td>0.0</td>\n",
       "    </tr>\n",
       "  </tbody>\n",
       "</table>\n",
       "</div>"
      ],
      "text/plain": [
       "                         title  Animation  Children's  Comedy  Adventure  \\\n",
       "0                    Toy Story        1.0         1.0     1.0        0.0   \n",
       "1                      Jumanji        0.0         1.0     0.0        1.0   \n",
       "2             Grumpier Old Men        0.0         0.0     1.0        0.0   \n",
       "3            Waiting to Exhale        0.0         0.0     1.0        0.0   \n",
       "4  Father of the Bride Part II        0.0         0.0     1.0        0.0   \n",
       "\n",
       "   Fantasy  Romance  Drama  Action  Crime  Thriller  Horror  Sci-Fi  \\\n",
       "0      0.0      0.0    0.0     0.0    0.0       0.0     0.0     0.0   \n",
       "1      1.0      0.0    0.0     0.0    0.0       0.0     0.0     0.0   \n",
       "2      0.0      1.0    0.0     0.0    0.0       0.0     0.0     0.0   \n",
       "3      0.0      0.0    1.0     0.0    0.0       0.0     0.0     0.0   \n",
       "4      0.0      0.0    0.0     0.0    0.0       0.0     0.0     0.0   \n",
       "\n",
       "   Documentary  War  Musical  Mystery  Film-Noir  Western  \n",
       "0          0.0  0.0      0.0      0.0        0.0      0.0  \n",
       "1          0.0  0.0      0.0      0.0        0.0      0.0  \n",
       "2          0.0  0.0      0.0      0.0        0.0      0.0  \n",
       "3          0.0  0.0      0.0      0.0        0.0      0.0  \n",
       "4          0.0  0.0      0.0      0.0        0.0      0.0  "
      ]
     },
     "execution_count": 11,
     "metadata": {},
     "output_type": "execute_result"
    }
   ],
   "source": [
    "genre_and_title_cols = ['title'] + genre_cols \n",
    "\n",
    "movies[genre_and_title_cols].head()"
   ]
  },
  {
   "cell_type": "markdown",
   "metadata": {
    "id": "f-jorqHSb8LA"
   },
   "source": [
    "## Similarity\n",
    "\n",
    "Now that we have some features, we will try to find a function that performs a similiarity measure. The Similarity function will take two items (two list of features) and return a number proportional to their similarity. \n",
    "\n",
    "For the following we will consider that the Similarity between two movies is the number of genres they have in common.\n",
    "\n",
    "Here is an example with `Toy Story` and `E.T`"
   ]
  },
  {
   "cell_type": "code",
   "execution_count": 12,
   "metadata": {
    "colab": {
     "base_uri": "https://localhost:8080/"
    },
    "id": "YBBh17Rfc6SJ",
    "outputId": "f854fe57-36b7-4f3c-9c8b-2d3e97726863"
   },
   "outputs": [
    {
     "data": {
      "text/plain": [
       "Animation      1.0\n",
       "Children's     1.0\n",
       "Comedy         1.0\n",
       "Adventure      0.0\n",
       "Fantasy        0.0\n",
       "Romance        0.0\n",
       "Drama          0.0\n",
       "Action         0.0\n",
       "Crime          0.0\n",
       "Thriller       0.0\n",
       "Horror         0.0\n",
       "Sci-Fi         0.0\n",
       "Documentary    0.0\n",
       "War            0.0\n",
       "Musical        0.0\n",
       "Mystery        0.0\n",
       "Film-Noir      0.0\n",
       "Western        0.0\n",
       "Name: 0, dtype: float64"
      ]
     },
     "execution_count": 12,
     "metadata": {},
     "output_type": "execute_result"
    }
   ],
   "source": [
    "toy_story_genres = movies[genre_and_title_cols].loc[movies.title == 'Toy Story'][genre_cols].iloc[0]\n",
    "toy_story_genres"
   ]
  },
  {
   "cell_type": "code",
   "execution_count": 13,
   "metadata": {
    "colab": {
     "base_uri": "https://localhost:8080/"
    },
    "id": "o6ieFMXGb7Rx",
    "outputId": "a30a5499-c875-4ef5-b4f1-9a633064a7a4"
   },
   "outputs": [
    {
     "data": {
      "text/plain": [
       "Animation      0.0\n",
       "Children's     1.0\n",
       "Comedy         0.0\n",
       "Adventure      0.0\n",
       "Fantasy        1.0\n",
       "Romance        0.0\n",
       "Drama          1.0\n",
       "Action         0.0\n",
       "Crime          0.0\n",
       "Thriller       0.0\n",
       "Horror         0.0\n",
       "Sci-Fi         1.0\n",
       "Documentary    0.0\n",
       "War            0.0\n",
       "Musical        0.0\n",
       "Mystery        0.0\n",
       "Film-Noir      0.0\n",
       "Western        0.0\n",
       "Name: 1081, dtype: float64"
      ]
     },
     "execution_count": 13,
     "metadata": {},
     "output_type": "execute_result"
    }
   ],
   "source": [
    "et_genres = movies[genre_and_title_cols].loc[movies.title == 'E.T. the Extra-Terrestrial'][genre_cols].iloc[0]\n",
    "et_genres"
   ]
  },
  {
   "cell_type": "code",
   "execution_count": 14,
   "metadata": {
    "colab": {
     "base_uri": "https://localhost:8080/"
    },
    "id": "BZ82Q6GPYa7J",
    "outputId": "1f223d04-16b6-47c8-d526-6ef2adb90ac8"
   },
   "outputs": [
    {
     "data": {
      "text/plain": [
       "Animation      0.0\n",
       "Children's     1.0\n",
       "Comedy         0.0\n",
       "Adventure      0.0\n",
       "Fantasy        0.0\n",
       "Romance        0.0\n",
       "Drama          0.0\n",
       "Action         0.0\n",
       "Crime          0.0\n",
       "Thriller       0.0\n",
       "Horror         0.0\n",
       "Sci-Fi         0.0\n",
       "Documentary    0.0\n",
       "War            0.0\n",
       "Musical        0.0\n",
       "Mystery        0.0\n",
       "Film-Noir      0.0\n",
       "Western        0.0\n",
       "Name: 0, dtype: float64"
      ]
     },
     "execution_count": 14,
     "metadata": {},
     "output_type": "execute_result"
    }
   ],
   "source": [
    "et_genres.values * toy_story_genres"
   ]
  },
  {
   "cell_type": "code",
   "execution_count": 15,
   "metadata": {
    "colab": {
     "base_uri": "https://localhost:8080/"
    },
    "id": "kqD2q2_Se12z",
    "outputId": "43d355f6-c654-4e2e-cd3c-f852e2fd234f"
   },
   "outputs": [
    {
     "data": {
      "text/plain": [
       "0.3333333333333333"
      ]
     },
     "execution_count": 15,
     "metadata": {},
     "output_type": "execute_result"
    }
   ],
   "source": [
    "(et_genres.values * toy_story_genres).sum()/(toy_story_genres.values.sum()) # scalar product divided by the number of genres of Toy Story"
   ]
  },
  {
   "cell_type": "markdown",
   "metadata": {},
   "source": [
    "So our similarity measure returns `0.3333333333333333` for these two movies - because one out of three of the genres of Toy Story is shared with E.T (`Children`).\n",
    "\n",
    "Let's see another example where we compare `Toy Stories` and `Pocahontas`"
   ]
  },
  {
   "cell_type": "code",
   "execution_count": 16,
   "metadata": {},
   "outputs": [
    {
     "data": {
      "text/plain": [
       "Animation      1.0\n",
       "Children's     1.0\n",
       "Comedy         0.0\n",
       "Adventure      0.0\n",
       "Fantasy        0.0\n",
       "Romance        1.0\n",
       "Drama          0.0\n",
       "Action         0.0\n",
       "Crime          0.0\n",
       "Thriller       0.0\n",
       "Horror         0.0\n",
       "Sci-Fi         0.0\n",
       "Documentary    0.0\n",
       "War            0.0\n",
       "Musical        1.0\n",
       "Mystery        0.0\n",
       "Film-Noir      0.0\n",
       "Western        0.0\n",
       "Name: 47, dtype: float64"
      ]
     },
     "execution_count": 16,
     "metadata": {},
     "output_type": "execute_result"
    }
   ],
   "source": [
    "pocahontas_genres = movies[genre_and_title_cols].loc[movies.title == 'Pocahontas'][genre_cols].iloc[0]\n",
    "pocahontas_genres"
   ]
  },
  {
   "cell_type": "code",
   "execution_count": 17,
   "metadata": {},
   "outputs": [
    {
     "data": {
      "text/plain": [
       "0.6666666666666666"
      ]
     },
     "execution_count": 17,
     "metadata": {},
     "output_type": "execute_result"
    }
   ],
   "source": [
    "(pocahontas_genres.values * toy_story_genres).sum()/(toy_story_genres.values.sum())"
   ]
  },
  {
   "cell_type": "markdown",
   "metadata": {},
   "source": [
    "This tells us that `Pocahontas` is closer to `Toy Stories` than `E.T.` which makes sense - two out of the three genres of Toy Story is found in Pocahontas (`Animation` and `Children`).\n",
    "\n",
    "I took the decision of normalizing the similarity between 0 and 1, because this way we have shared boundaries of similarity for every movie.\n",
    "Top similarity is 1, bottom similarity is 0."
   ]
  },
  {
   "cell_type": "markdown",
   "metadata": {
    "id": "X8ofE1Saoy0E"
   },
   "source": [
    "## Scaling up\n",
    "\n",
    "Ok, that's a nice measure. Now we are going to scale it up to all movies of our dataset. To do so smartly, let's take a look at the operation we just did, but from a mathematical point of view. To do so, we will think of the list of features of a movie as a vector `V`. Then, our similarity measure between `Toy Story` and `E.T.` becomes:\n",
    "$ V_{ToyStory} \\cdot V_{ET}^{T}$\n",
    "\n",
    "More generally the similarity measure between a movie `i` and another movie `j` is : $ V_{i} \\cdot V_{j}^{T}$\n",
    "\n",
    "Now we can think of `movies` as a matrix containing all features vectors describing the movies. Here is how our similiarity measure looks in this context:"
   ]
  },
  {
   "cell_type": "markdown",
   "metadata": {
    "id": "IhMxm6S1SrPb"
   },
   "source": [
    "![](imgs/dot_product_matrices.png)"
   ]
  },
  {
   "cell_type": "markdown",
   "metadata": {},
   "source": [
    "To obtain the similiarity between all movies of our dataset we have to perform the dot product of the `movies` matrix with the transposed of the `movies` matrix.\n",
    "The `lambda` function allows to divide each row by the sum of the row. This way, the resulting similarity matrix is normalized between 0 and 1."
   ]
  },
  {
   "cell_type": "code",
   "execution_count": 18,
   "metadata": {
    "colab": {
     "base_uri": "https://localhost:8080/"
    },
    "id": "Sc0c4IOie14q",
    "outputId": "b53c89d7-a1b5-495a-e94e-00df0f144cc6"
   },
   "outputs": [
    {
     "data": {
      "text/html": [
       "<div>\n",
       "<style scoped>\n",
       "    .dataframe tbody tr th:only-of-type {\n",
       "        vertical-align: middle;\n",
       "    }\n",
       "\n",
       "    .dataframe tbody tr th {\n",
       "        vertical-align: top;\n",
       "    }\n",
       "\n",
       "    .dataframe thead th {\n",
       "        text-align: right;\n",
       "    }\n",
       "</style>\n",
       "<table border=\"1\" class=\"dataframe\">\n",
       "  <thead>\n",
       "    <tr style=\"text-align: right;\">\n",
       "      <th>movie_id</th>\n",
       "      <th>0</th>\n",
       "      <th>1</th>\n",
       "      <th>2</th>\n",
       "      <th>3</th>\n",
       "      <th>4</th>\n",
       "      <th>5</th>\n",
       "      <th>6</th>\n",
       "      <th>7</th>\n",
       "      <th>8</th>\n",
       "      <th>9</th>\n",
       "      <th>...</th>\n",
       "      <th>3873</th>\n",
       "      <th>3874</th>\n",
       "      <th>3875</th>\n",
       "      <th>3876</th>\n",
       "      <th>3877</th>\n",
       "      <th>3878</th>\n",
       "      <th>3879</th>\n",
       "      <th>3880</th>\n",
       "      <th>3881</th>\n",
       "      <th>3882</th>\n",
       "    </tr>\n",
       "    <tr>\n",
       "      <th>movie_id</th>\n",
       "      <th></th>\n",
       "      <th></th>\n",
       "      <th></th>\n",
       "      <th></th>\n",
       "      <th></th>\n",
       "      <th></th>\n",
       "      <th></th>\n",
       "      <th></th>\n",
       "      <th></th>\n",
       "      <th></th>\n",
       "      <th></th>\n",
       "      <th></th>\n",
       "      <th></th>\n",
       "      <th></th>\n",
       "      <th></th>\n",
       "      <th></th>\n",
       "      <th></th>\n",
       "      <th></th>\n",
       "      <th></th>\n",
       "      <th></th>\n",
       "      <th></th>\n",
       "    </tr>\n",
       "  </thead>\n",
       "  <tbody>\n",
       "    <tr>\n",
       "      <td>0</td>\n",
       "      <td>1.000000</td>\n",
       "      <td>0.333333</td>\n",
       "      <td>0.333333</td>\n",
       "      <td>0.333333</td>\n",
       "      <td>0.333333</td>\n",
       "      <td>0.0</td>\n",
       "      <td>0.333333</td>\n",
       "      <td>0.333333</td>\n",
       "      <td>0.0</td>\n",
       "      <td>0.000000</td>\n",
       "      <td>...</td>\n",
       "      <td>0.333333</td>\n",
       "      <td>0.333333</td>\n",
       "      <td>0.666667</td>\n",
       "      <td>0.0</td>\n",
       "      <td>0.0</td>\n",
       "      <td>0.333333</td>\n",
       "      <td>0.0</td>\n",
       "      <td>0.0</td>\n",
       "      <td>0.0</td>\n",
       "      <td>0.0</td>\n",
       "    </tr>\n",
       "    <tr>\n",
       "      <td>1</td>\n",
       "      <td>0.333333</td>\n",
       "      <td>1.000000</td>\n",
       "      <td>0.000000</td>\n",
       "      <td>0.000000</td>\n",
       "      <td>0.000000</td>\n",
       "      <td>0.0</td>\n",
       "      <td>0.000000</td>\n",
       "      <td>0.666667</td>\n",
       "      <td>0.0</td>\n",
       "      <td>0.333333</td>\n",
       "      <td>...</td>\n",
       "      <td>0.000000</td>\n",
       "      <td>0.000000</td>\n",
       "      <td>0.666667</td>\n",
       "      <td>0.0</td>\n",
       "      <td>0.0</td>\n",
       "      <td>0.000000</td>\n",
       "      <td>0.0</td>\n",
       "      <td>0.0</td>\n",
       "      <td>0.0</td>\n",
       "      <td>0.0</td>\n",
       "    </tr>\n",
       "    <tr>\n",
       "      <td>2</td>\n",
       "      <td>0.500000</td>\n",
       "      <td>0.000000</td>\n",
       "      <td>1.000000</td>\n",
       "      <td>0.500000</td>\n",
       "      <td>0.500000</td>\n",
       "      <td>0.0</td>\n",
       "      <td>1.000000</td>\n",
       "      <td>0.000000</td>\n",
       "      <td>0.0</td>\n",
       "      <td>0.000000</td>\n",
       "      <td>...</td>\n",
       "      <td>0.500000</td>\n",
       "      <td>0.500000</td>\n",
       "      <td>0.000000</td>\n",
       "      <td>0.0</td>\n",
       "      <td>0.0</td>\n",
       "      <td>0.500000</td>\n",
       "      <td>0.0</td>\n",
       "      <td>0.0</td>\n",
       "      <td>0.0</td>\n",
       "      <td>0.0</td>\n",
       "    </tr>\n",
       "    <tr>\n",
       "      <td>3</td>\n",
       "      <td>0.500000</td>\n",
       "      <td>0.000000</td>\n",
       "      <td>0.500000</td>\n",
       "      <td>1.000000</td>\n",
       "      <td>0.500000</td>\n",
       "      <td>0.0</td>\n",
       "      <td>0.500000</td>\n",
       "      <td>0.000000</td>\n",
       "      <td>0.0</td>\n",
       "      <td>0.000000</td>\n",
       "      <td>...</td>\n",
       "      <td>0.500000</td>\n",
       "      <td>1.000000</td>\n",
       "      <td>0.000000</td>\n",
       "      <td>0.5</td>\n",
       "      <td>0.0</td>\n",
       "      <td>0.500000</td>\n",
       "      <td>0.5</td>\n",
       "      <td>0.5</td>\n",
       "      <td>0.5</td>\n",
       "      <td>0.5</td>\n",
       "    </tr>\n",
       "    <tr>\n",
       "      <td>4</td>\n",
       "      <td>1.000000</td>\n",
       "      <td>0.000000</td>\n",
       "      <td>1.000000</td>\n",
       "      <td>1.000000</td>\n",
       "      <td>1.000000</td>\n",
       "      <td>0.0</td>\n",
       "      <td>1.000000</td>\n",
       "      <td>0.000000</td>\n",
       "      <td>0.0</td>\n",
       "      <td>0.000000</td>\n",
       "      <td>...</td>\n",
       "      <td>1.000000</td>\n",
       "      <td>1.000000</td>\n",
       "      <td>0.000000</td>\n",
       "      <td>0.0</td>\n",
       "      <td>0.0</td>\n",
       "      <td>1.000000</td>\n",
       "      <td>0.0</td>\n",
       "      <td>0.0</td>\n",
       "      <td>0.0</td>\n",
       "      <td>0.0</td>\n",
       "    </tr>\n",
       "    <tr>\n",
       "      <td>...</td>\n",
       "      <td>...</td>\n",
       "      <td>...</td>\n",
       "      <td>...</td>\n",
       "      <td>...</td>\n",
       "      <td>...</td>\n",
       "      <td>...</td>\n",
       "      <td>...</td>\n",
       "      <td>...</td>\n",
       "      <td>...</td>\n",
       "      <td>...</td>\n",
       "      <td>...</td>\n",
       "      <td>...</td>\n",
       "      <td>...</td>\n",
       "      <td>...</td>\n",
       "      <td>...</td>\n",
       "      <td>...</td>\n",
       "      <td>...</td>\n",
       "      <td>...</td>\n",
       "      <td>...</td>\n",
       "      <td>...</td>\n",
       "      <td>...</td>\n",
       "    </tr>\n",
       "    <tr>\n",
       "      <td>3878</td>\n",
       "      <td>1.000000</td>\n",
       "      <td>0.000000</td>\n",
       "      <td>1.000000</td>\n",
       "      <td>1.000000</td>\n",
       "      <td>1.000000</td>\n",
       "      <td>0.0</td>\n",
       "      <td>1.000000</td>\n",
       "      <td>0.000000</td>\n",
       "      <td>0.0</td>\n",
       "      <td>0.000000</td>\n",
       "      <td>...</td>\n",
       "      <td>1.000000</td>\n",
       "      <td>1.000000</td>\n",
       "      <td>0.000000</td>\n",
       "      <td>0.0</td>\n",
       "      <td>0.0</td>\n",
       "      <td>1.000000</td>\n",
       "      <td>0.0</td>\n",
       "      <td>0.0</td>\n",
       "      <td>0.0</td>\n",
       "      <td>0.0</td>\n",
       "    </tr>\n",
       "    <tr>\n",
       "      <td>3879</td>\n",
       "      <td>0.000000</td>\n",
       "      <td>0.000000</td>\n",
       "      <td>0.000000</td>\n",
       "      <td>1.000000</td>\n",
       "      <td>0.000000</td>\n",
       "      <td>0.0</td>\n",
       "      <td>0.000000</td>\n",
       "      <td>0.000000</td>\n",
       "      <td>0.0</td>\n",
       "      <td>0.000000</td>\n",
       "      <td>...</td>\n",
       "      <td>0.000000</td>\n",
       "      <td>1.000000</td>\n",
       "      <td>0.000000</td>\n",
       "      <td>1.0</td>\n",
       "      <td>0.0</td>\n",
       "      <td>0.000000</td>\n",
       "      <td>1.0</td>\n",
       "      <td>1.0</td>\n",
       "      <td>1.0</td>\n",
       "      <td>1.0</td>\n",
       "    </tr>\n",
       "    <tr>\n",
       "      <td>3880</td>\n",
       "      <td>0.000000</td>\n",
       "      <td>0.000000</td>\n",
       "      <td>0.000000</td>\n",
       "      <td>1.000000</td>\n",
       "      <td>0.000000</td>\n",
       "      <td>0.0</td>\n",
       "      <td>0.000000</td>\n",
       "      <td>0.000000</td>\n",
       "      <td>0.0</td>\n",
       "      <td>0.000000</td>\n",
       "      <td>...</td>\n",
       "      <td>0.000000</td>\n",
       "      <td>1.000000</td>\n",
       "      <td>0.000000</td>\n",
       "      <td>1.0</td>\n",
       "      <td>0.0</td>\n",
       "      <td>0.000000</td>\n",
       "      <td>1.0</td>\n",
       "      <td>1.0</td>\n",
       "      <td>1.0</td>\n",
       "      <td>1.0</td>\n",
       "    </tr>\n",
       "    <tr>\n",
       "      <td>3881</td>\n",
       "      <td>0.000000</td>\n",
       "      <td>0.000000</td>\n",
       "      <td>0.000000</td>\n",
       "      <td>1.000000</td>\n",
       "      <td>0.000000</td>\n",
       "      <td>0.0</td>\n",
       "      <td>0.000000</td>\n",
       "      <td>0.000000</td>\n",
       "      <td>0.0</td>\n",
       "      <td>0.000000</td>\n",
       "      <td>...</td>\n",
       "      <td>0.000000</td>\n",
       "      <td>1.000000</td>\n",
       "      <td>0.000000</td>\n",
       "      <td>1.0</td>\n",
       "      <td>0.0</td>\n",
       "      <td>0.000000</td>\n",
       "      <td>1.0</td>\n",
       "      <td>1.0</td>\n",
       "      <td>1.0</td>\n",
       "      <td>1.0</td>\n",
       "    </tr>\n",
       "    <tr>\n",
       "      <td>3882</td>\n",
       "      <td>0.000000</td>\n",
       "      <td>0.000000</td>\n",
       "      <td>0.000000</td>\n",
       "      <td>0.500000</td>\n",
       "      <td>0.000000</td>\n",
       "      <td>0.5</td>\n",
       "      <td>0.000000</td>\n",
       "      <td>0.000000</td>\n",
       "      <td>0.0</td>\n",
       "      <td>0.500000</td>\n",
       "      <td>...</td>\n",
       "      <td>0.000000</td>\n",
       "      <td>0.500000</td>\n",
       "      <td>0.000000</td>\n",
       "      <td>1.0</td>\n",
       "      <td>0.5</td>\n",
       "      <td>0.000000</td>\n",
       "      <td>0.5</td>\n",
       "      <td>0.5</td>\n",
       "      <td>0.5</td>\n",
       "      <td>1.0</td>\n",
       "    </tr>\n",
       "  </tbody>\n",
       "</table>\n",
       "<p>3883 rows × 3883 columns</p>\n",
       "</div>"
      ],
      "text/plain": [
       "movie_id      0         1         2         3         4     5         6     \\\n",
       "movie_id                                                                     \n",
       "0         1.000000  0.333333  0.333333  0.333333  0.333333   0.0  0.333333   \n",
       "1         0.333333  1.000000  0.000000  0.000000  0.000000   0.0  0.000000   \n",
       "2         0.500000  0.000000  1.000000  0.500000  0.500000   0.0  1.000000   \n",
       "3         0.500000  0.000000  0.500000  1.000000  0.500000   0.0  0.500000   \n",
       "4         1.000000  0.000000  1.000000  1.000000  1.000000   0.0  1.000000   \n",
       "...            ...       ...       ...       ...       ...   ...       ...   \n",
       "3878      1.000000  0.000000  1.000000  1.000000  1.000000   0.0  1.000000   \n",
       "3879      0.000000  0.000000  0.000000  1.000000  0.000000   0.0  0.000000   \n",
       "3880      0.000000  0.000000  0.000000  1.000000  0.000000   0.0  0.000000   \n",
       "3881      0.000000  0.000000  0.000000  1.000000  0.000000   0.0  0.000000   \n",
       "3882      0.000000  0.000000  0.000000  0.500000  0.000000   0.5  0.000000   \n",
       "\n",
       "movie_id      7     8         9     ...      3873      3874      3875  3876  \\\n",
       "movie_id                            ...                                       \n",
       "0         0.333333   0.0  0.000000  ...  0.333333  0.333333  0.666667   0.0   \n",
       "1         0.666667   0.0  0.333333  ...  0.000000  0.000000  0.666667   0.0   \n",
       "2         0.000000   0.0  0.000000  ...  0.500000  0.500000  0.000000   0.0   \n",
       "3         0.000000   0.0  0.000000  ...  0.500000  1.000000  0.000000   0.5   \n",
       "4         0.000000   0.0  0.000000  ...  1.000000  1.000000  0.000000   0.0   \n",
       "...            ...   ...       ...  ...       ...       ...       ...   ...   \n",
       "3878      0.000000   0.0  0.000000  ...  1.000000  1.000000  0.000000   0.0   \n",
       "3879      0.000000   0.0  0.000000  ...  0.000000  1.000000  0.000000   1.0   \n",
       "3880      0.000000   0.0  0.000000  ...  0.000000  1.000000  0.000000   1.0   \n",
       "3881      0.000000   0.0  0.000000  ...  0.000000  1.000000  0.000000   1.0   \n",
       "3882      0.000000   0.0  0.500000  ...  0.000000  0.500000  0.000000   1.0   \n",
       "\n",
       "movie_id  3877      3878  3879  3880  3881  3882  \n",
       "movie_id                                          \n",
       "0          0.0  0.333333   0.0   0.0   0.0   0.0  \n",
       "1          0.0  0.000000   0.0   0.0   0.0   0.0  \n",
       "2          0.0  0.500000   0.0   0.0   0.0   0.0  \n",
       "3          0.0  0.500000   0.5   0.5   0.5   0.5  \n",
       "4          0.0  1.000000   0.0   0.0   0.0   0.0  \n",
       "...        ...       ...   ...   ...   ...   ...  \n",
       "3878       0.0  1.000000   0.0   0.0   0.0   0.0  \n",
       "3879       0.0  0.000000   1.0   1.0   1.0   1.0  \n",
       "3880       0.0  0.000000   1.0   1.0   1.0   1.0  \n",
       "3881       0.0  0.000000   1.0   1.0   1.0   1.0  \n",
       "3882       0.5  0.000000   0.5   0.5   0.5   1.0  \n",
       "\n",
       "[3883 rows x 3883 columns]"
      ]
     },
     "execution_count": 18,
     "metadata": {},
     "output_type": "execute_result"
    }
   ],
   "source": [
    "similarity = pd.DataFrame(data=movies[genre_cols].apply(lambda x : x/sum(x),axis=1).values.dot(movies[genre_cols].values.T),index=movies.loc[:,'movie_id'],columns=movies.loc[:,'movie_id'])\n",
    "similarity #has to be read through lines : similarity.loc[0,2]!=similarity.loc[2,0]\n",
    "#it means that movie_id=0 has one of his three genres shared with movie_id=2\n",
    "#and movie_id=2 has one of his two genres shared with movie_id=0"
   ]
  },
  {
   "cell_type": "markdown",
   "metadata": {},
   "source": [
    "We can now get the similarity between `Toy Story` and any other movie of our dataset"
   ]
  },
  {
   "cell_type": "code",
   "execution_count": 19,
   "metadata": {
    "colab": {
     "base_uri": "https://localhost:8080/"
    },
    "id": "7NQwxobBlJ1N",
    "outputId": "81bd2069-9b05-449e-986c-2608eb04d90b"
   },
   "outputs": [
    {
     "data": {
      "text/plain": [
       "movie_id\n",
       "0       1.000000\n",
       "1       0.333333\n",
       "2       0.333333\n",
       "3       0.333333\n",
       "4       0.333333\n",
       "          ...   \n",
       "3878    0.333333\n",
       "3879    0.000000\n",
       "3880    0.000000\n",
       "3881    0.000000\n",
       "3882    0.000000\n",
       "Name: 0, Length: 3883, dtype: float64"
      ]
     },
     "execution_count": 19,
     "metadata": {},
     "output_type": "execute_result"
    }
   ],
   "source": [
    "similarity_with_toy_story = similarity.loc[0,:] # 0 is Toy Story\n",
    "similarity_with_toy_story"
   ]
  },
  {
   "cell_type": "code",
   "execution_count": 20,
   "metadata": {
    "colab": {
     "base_uri": "https://localhost:8080/"
    },
    "id": "TpTkvXGflZhc",
    "outputId": "e688d431-2953-419e-a14d-af1428a7e95a"
   },
   "outputs": [
    {
     "name": "stdout",
     "output_type": "stream",
     "text": [
      "Similarity between Toy story and Toy Story (index 0) is 1.0\n",
      "Similarity between Toy story and Jumanji (index 1) is 0.3333333333333333\n",
      "Similarity between Toy story and Grumpier Old Men (index 2) is 0.3333333333333333\n",
      "Similarity between Toy story and Waiting to Exhale (index 3) is 0.3333333333333333\n",
      "Similarity between Toy story and Father of the Bride Part II (index 4) is 0.3333333333333333\n",
      "Similarity between Toy story and Heat (index 5) is 0.0\n",
      "Similarity between Toy story and Sabrina (index 6) is 0.3333333333333333\n",
      "Similarity between Toy story and Tom and Huck (index 7) is 0.3333333333333333\n",
      "Similarity between Toy story and Sudden Death (index 8) is 0.0\n",
      "Similarity between Toy story and GoldenEye (index 9) is 0.0\n"
     ]
    }
   ],
   "source": [
    "for i in range(10):\n",
    "    print(f\"Similarity between Toy story and {movies.iloc[i]['title']} (index {i}) is {similarity_with_toy_story[i]}\")"
   ]
  },
  {
   "cell_type": "markdown",
   "metadata": {},
   "source": [
    "## A bit of polishing"
   ]
  },
  {
   "cell_type": "markdown",
   "metadata": {
    "id": "eGaBP8Y2pCBF"
   },
   "source": [
    "### Helpers:\n",
    "\n",
    "We also built some helpers to handle the movies dataset:"
   ]
  },
  {
   "cell_type": "code",
   "execution_count": 21,
   "metadata": {
    "id": "g1PpvXUOofHE"
   },
   "outputs": [
    {
     "name": "stdout",
     "output_type": "stream",
     "text": [
      "0\n",
      "1023\n",
      "Toy Story\n",
      "Die Hard\n",
      "1961\n"
     ]
    }
   ],
   "source": [
    "import importlib\n",
    "import sys\n",
    "\n",
    "#so that changes to movies.py is considered in the notebook without restarting the kernel\n",
    "#importlib.reload(sys.modules['content_based_filtering.helpers.movies']) \n",
    "from content_based_filtering.helpers.movies import get_movie_id, get_movie_name, get_movie_year \n",
    "    \n",
    "print (get_movie_id(movies, 'Toy Story'))\n",
    "print (get_movie_id(movies, 'Die Hard'))\n",
    "\n",
    "print (get_movie_name(movies, 0))\n",
    "print (get_movie_name(movies, 1023))\n",
    "print (get_movie_year(movies, 1000))"
   ]
  },
  {
   "cell_type": "markdown",
   "metadata": {
    "id": "osEKhTEz2-IR"
   },
   "source": [
    "### Finding similar movies:\n",
    "Here is a method giving us the movie the most similar to another movie:"
   ]
  },
  {
   "cell_type": "code",
   "execution_count": 22,
   "metadata": {
    "id": "KvKxJsLi2858"
   },
   "outputs": [],
   "source": [
    "def get_most_similar(similarity, movie_name, year=None, top=similarity.shape[0]): \n",
    "    #I changed the default top to the similarity's number of rows. To get the similarity with all other movies.\n",
    "    index_movie = get_movie_id(movies, movie_name, year)\n",
    "    best = list(similarity.loc[index_movie,:].sort_values(ascending=False).index)\n",
    "    return [(ind, movies[movies['movie_id']==ind].title.values[0], similarity.loc[index_movie, ind]) for ind in best[:top] if ind != index_movie]"
   ]
  },
  {
   "cell_type": "code",
   "execution_count": 23,
   "metadata": {
    "colab": {
     "base_uri": "https://localhost:8080/"
    },
    "id": "McgT_CoxgM8d",
    "outputId": "755202de-fec9-476a-8725-0f04b1869c64"
   },
   "outputs": [
    {
     "data": {
      "text/plain": [
       "[(667, 'Space Jam', 1.0),\n",
       " (3685, 'Adventures of Rocky and Bullwinkle, The', 1.0),\n",
       " (3682, 'Chicken Run', 1.0),\n",
       " (2009, 'Jungle Book, The', 1.0),\n",
       " (2011, 'Lady and the Tramp', 1.0),\n",
       " (2012, 'Little Mermaid, The', 1.0),\n",
       " (2033, 'Steamboat Willie', 1.0),\n",
       " (2072, 'American Tail, An', 1.0),\n",
       " (2073, 'American Tail: Fievel Goes West, An', 1.0),\n",
       " (3542, 'Saludos Amigos', 1.0)]"
      ]
     },
     "execution_count": 23,
     "metadata": {},
     "output_type": "execute_result"
    }
   ],
   "source": [
    "get_most_similar(similarity,'Toy Story')[:10]"
   ]
  },
  {
   "cell_type": "code",
   "execution_count": 24,
   "metadata": {
    "colab": {
     "base_uri": "https://localhost:8080/"
    },
    "id": "mq_uQJkstgo_",
    "outputId": "20259fc7-e55a-46ed-9efa-7154791cdaec"
   },
   "outputs": [
    {
     "data": {
      "text/plain": [
       "[(3593, \"Puppet Master III: Toulon's Revenge\", 1.0),\n",
       " (2923, 'Rawhead Rex', 1.0),\n",
       " (1312, 'Believers, The', 1.0),\n",
       " (3407, \"Jacob's Ladder\", 1.0),\n",
       " (1957, 'Disturbing Behavior', 1.0),\n",
       " (1927, 'Poltergeist III', 1.0),\n",
       " (1926, 'Poltergeist II: The Other Side', 1.0),\n",
       " (1925, 'Poltergeist', 1.0),\n",
       " (732, 'Thinner', 1.0),\n",
       " (69, 'From Dusk Till Dawn', 1.0)]"
      ]
     },
     "execution_count": 24,
     "metadata": {},
     "output_type": "execute_result"
    }
   ],
   "source": [
    "get_most_similar(similarity, 'Psycho', 1960)[:10]"
   ]
  },
  {
   "cell_type": "markdown",
   "metadata": {},
   "source": [
    "### Giving a recommendation:\n",
    "\n",
    "And finally, let's find some movies to recommend based on previously liked movies:"
   ]
  },
  {
   "cell_type": "code",
   "execution_count": 25,
   "metadata": {},
   "outputs": [],
   "source": [
    "def MAPE(test,recommendations):\n",
    "    mape=0\n",
    "    for index,row in test.iterrows():\n",
    "        rating = row['rating']\n",
    "        #scaling the similarity to fit the rating values to compute the error\n",
    "        scaled_similarity = (recommendations.loc[recommendations['movie_id']==row['movie_id']].loc[:,'similarity'].values*4)+1\n",
    "        if scaled_similarity<1.5:\n",
    "            scaled_similarity=1\n",
    "        elif scaled_similarity<2.5:\n",
    "            scaled_similarity=2\n",
    "        elif scaled_similarity<3.5:\n",
    "            scaled_similarity=3\n",
    "        elif scaled_similarity<4.5:\n",
    "            scaled_similarity=4\n",
    "        else:\n",
    "            scaled_similarity=5\n",
    "        #rounding scaled_similarity to fit the discreteness of rating\n",
    "            \n",
    "        #print(\"Index:\",str(index),\" | Rating\",rating,\" | Computed Similarity: \",str(recommendations.loc[recommendations['movie_id']==row['movie_id']].loc[:,'similarity'].values),\" | Scaled Similarity\",str(scaled_similarity))\n",
    "        mape+=abs(rating-scaled_similarity)/rating\n",
    "        \n",
    "    return mape/test.shape[0]"
   ]
  },
  {
   "cell_type": "code",
   "execution_count": 26,
   "metadata": {},
   "outputs": [],
   "source": [
    "def get_recommendations(user_id,nb_top_movies=3,nb_movies_return=5):\n",
    "    \n",
    "    train=ratings[ratings['user_id']==user_id].sample(frac=0.7).reset_index(drop=True)\n",
    "    test=pd.concat([ratings[ratings['user_id']==user_id],train]).drop_duplicates(keep=False)\n",
    "    #Introducing a train and test split to evaluate the recommendation system (70%-30%)\n",
    "    \n",
    "    top_movies = train[train['user_id'] == user_id].sort_values(by='rating', ascending=False).head(nb_top_movies).loc[:,'movie_id']\n",
    "    index=['movie_id', 'title', 'similarity']\n",
    "\n",
    "    most_similars = []\n",
    "    for top_movie in top_movies:\n",
    "        most_similars += get_most_similar(similarity, get_movie_name(movies, top_movie), get_movie_year(movies, top_movie))\n",
    "\n",
    "    res = pd.DataFrame(most_similars, columns=index).groupby('movie_id',as_index=False).max().sort_values(by='similarity', ascending=False).reset_index(drop=True) \n",
    "    # I changed the drop_duplicates to a groupby to remove the duplicates, but keeping the maximum between the duplicates\n",
    "    \n",
    "    #for index,row in test.iterrows():\n",
    "       #print(f\"Movie id: {row['movie_id']}, Rated: {row['rating']}, Computed Similarity: {res.loc[res['movie_id']==row['movie_id']][:,'similarity'].values}\")\n",
    "    print('MAPE : ',MAPE(test,res)*100,'%')    \n",
    "    return res.head(nb_movies_return)"
   ]
  },
  {
   "cell_type": "code",
   "execution_count": 27,
   "metadata": {},
   "outputs": [
    {
     "name": "stdout",
     "output_type": "stream",
     "text": [
      "MAPE :  21.875 %\n"
     ]
    },
    {
     "data": {
      "text/html": [
       "<div>\n",
       "<style scoped>\n",
       "    .dataframe tbody tr th:only-of-type {\n",
       "        vertical-align: middle;\n",
       "    }\n",
       "\n",
       "    .dataframe tbody tr th {\n",
       "        vertical-align: top;\n",
       "    }\n",
       "\n",
       "    .dataframe thead th {\n",
       "        text-align: right;\n",
       "    }\n",
       "</style>\n",
       "<table border=\"1\" class=\"dataframe\">\n",
       "  <thead>\n",
       "    <tr style=\"text-align: right;\">\n",
       "      <th></th>\n",
       "      <th>movie_id</th>\n",
       "      <th>title</th>\n",
       "      <th>similarity</th>\n",
       "    </tr>\n",
       "  </thead>\n",
       "  <tbody>\n",
       "    <tr>\n",
       "      <td>0</td>\n",
       "      <td>0</td>\n",
       "      <td>Toy Story</td>\n",
       "      <td>1.0</td>\n",
       "    </tr>\n",
       "    <tr>\n",
       "      <td>1</td>\n",
       "      <td>1819</td>\n",
       "      <td>Hope Floats</td>\n",
       "      <td>1.0</td>\n",
       "    </tr>\n",
       "    <tr>\n",
       "      <td>2</td>\n",
       "      <td>2033</td>\n",
       "      <td>Steamboat Willie</td>\n",
       "      <td>1.0</td>\n",
       "    </tr>\n",
       "    <tr>\n",
       "      <td>3</td>\n",
       "      <td>2035</td>\n",
       "      <td>Tex</td>\n",
       "      <td>1.0</td>\n",
       "    </tr>\n",
       "    <tr>\n",
       "      <td>4</td>\n",
       "      <td>2037</td>\n",
       "      <td>Swing Kids</td>\n",
       "      <td>1.0</td>\n",
       "    </tr>\n",
       "  </tbody>\n",
       "</table>\n",
       "</div>"
      ],
      "text/plain": [
       "   movie_id             title  similarity\n",
       "0         0         Toy Story         1.0\n",
       "1      1819       Hope Floats         1.0\n",
       "2      2033  Steamboat Willie         1.0\n",
       "3      2035               Tex         1.0\n",
       "4      2037        Swing Kids         1.0"
      ]
     },
     "execution_count": 27,
     "metadata": {},
     "output_type": "execute_result"
    }
   ],
   "source": [
    "get_recommendations(user_id=0,nb_top_movies=10)"
   ]
  },
  {
   "cell_type": "code",
   "execution_count": 28,
   "metadata": {},
   "outputs": [
    {
     "name": "stdout",
     "output_type": "stream",
     "text": [
      "MAPE :  57.4822695035461 %\n"
     ]
    },
    {
     "data": {
      "text/html": [
       "<div>\n",
       "<style scoped>\n",
       "    .dataframe tbody tr th:only-of-type {\n",
       "        vertical-align: middle;\n",
       "    }\n",
       "\n",
       "    .dataframe tbody tr th {\n",
       "        vertical-align: top;\n",
       "    }\n",
       "\n",
       "    .dataframe thead th {\n",
       "        text-align: right;\n",
       "    }\n",
       "</style>\n",
       "<table border=\"1\" class=\"dataframe\">\n",
       "  <thead>\n",
       "    <tr style=\"text-align: right;\">\n",
       "      <th></th>\n",
       "      <th>movie_id</th>\n",
       "      <th>title</th>\n",
       "      <th>similarity</th>\n",
       "    </tr>\n",
       "  </thead>\n",
       "  <tbody>\n",
       "    <tr>\n",
       "      <td>0</td>\n",
       "      <td>0</td>\n",
       "      <td>Toy Story</td>\n",
       "      <td>1.0</td>\n",
       "    </tr>\n",
       "    <tr>\n",
       "      <td>1</td>\n",
       "      <td>3105</td>\n",
       "      <td>Man on the Moon</td>\n",
       "      <td>1.0</td>\n",
       "    </tr>\n",
       "    <tr>\n",
       "      <td>2</td>\n",
       "      <td>3093</td>\n",
       "      <td>Simpatico</td>\n",
       "      <td>1.0</td>\n",
       "    </tr>\n",
       "    <tr>\n",
       "      <td>3</td>\n",
       "      <td>1899</td>\n",
       "      <td>Breakfast Club, The</td>\n",
       "      <td>1.0</td>\n",
       "    </tr>\n",
       "    <tr>\n",
       "      <td>4</td>\n",
       "      <td>2531</td>\n",
       "      <td>eXistenZ</td>\n",
       "      <td>1.0</td>\n",
       "    </tr>\n",
       "  </tbody>\n",
       "</table>\n",
       "</div>"
      ],
      "text/plain": [
       "   movie_id                title  similarity\n",
       "0         0            Toy Story         1.0\n",
       "1      3105      Man on the Moon         1.0\n",
       "2      3093            Simpatico         1.0\n",
       "3      1899  Breakfast Club, The         1.0\n",
       "4      2531             eXistenZ         1.0"
      ]
     },
     "execution_count": 28,
     "metadata": {},
     "output_type": "execute_result"
    }
   ],
   "source": [
    "test_recommendation=get_recommendations(user_id=150,nb_top_movies=10)\n",
    "test_recommendation"
   ]
  },
  {
   "cell_type": "markdown",
   "metadata": {
    "id": "BOeXGuBqt-j1"
   },
   "source": [
    "With the testing system implemented, we could develop an error function to determine the quality of the prediction.\n",
    "I chose the MAPE function (mean absolute percentage error), because this is a function that describes well the average error relatively to the actual rating. This function takes into account the difference between forecast and actual and its importance when compared to the magnitude of the rating. \n",
    "\n",
    "# User-based recommendation\n",
    "\n",
    "In this section, we will develop a recommendation system based on what movies similar users liked.\n",
    "\n",
    "We will use the previously created `df` dataframe in the EDA section that is the combination of the 3 data-sets."
   ]
  },
  {
   "cell_type": "code",
   "execution_count": 29,
   "metadata": {},
   "outputs": [
    {
     "data": {
      "text/html": [
       "<div>\n",
       "<style scoped>\n",
       "    .dataframe tbody tr th:only-of-type {\n",
       "        vertical-align: middle;\n",
       "    }\n",
       "\n",
       "    .dataframe tbody tr th {\n",
       "        vertical-align: top;\n",
       "    }\n",
       "\n",
       "    .dataframe thead th {\n",
       "        text-align: right;\n",
       "    }\n",
       "</style>\n",
       "<table border=\"1\" class=\"dataframe\">\n",
       "  <thead>\n",
       "    <tr style=\"text-align: right;\">\n",
       "      <th></th>\n",
       "      <th>movie_id</th>\n",
       "      <th>rating</th>\n",
       "    </tr>\n",
       "  </thead>\n",
       "  <tbody>\n",
       "    <tr>\n",
       "      <td>0</td>\n",
       "      <td>0</td>\n",
       "      <td>5</td>\n",
       "    </tr>\n",
       "    <tr>\n",
       "      <td>1</td>\n",
       "      <td>47</td>\n",
       "      <td>5</td>\n",
       "    </tr>\n",
       "    <tr>\n",
       "      <td>2</td>\n",
       "      <td>148</td>\n",
       "      <td>5</td>\n",
       "    </tr>\n",
       "    <tr>\n",
       "      <td>4</td>\n",
       "      <td>523</td>\n",
       "      <td>5</td>\n",
       "    </tr>\n",
       "    <tr>\n",
       "      <td>8</td>\n",
       "      <td>591</td>\n",
       "      <td>5</td>\n",
       "    </tr>\n",
       "    <tr>\n",
       "      <td>17</td>\n",
       "      <td>1009</td>\n",
       "      <td>5</td>\n",
       "    </tr>\n",
       "    <tr>\n",
       "      <td>18</td>\n",
       "      <td>1015</td>\n",
       "      <td>5</td>\n",
       "    </tr>\n",
       "    <tr>\n",
       "      <td>19</td>\n",
       "      <td>1016</td>\n",
       "      <td>5</td>\n",
       "    </tr>\n",
       "    <tr>\n",
       "      <td>20</td>\n",
       "      <td>1022</td>\n",
       "      <td>5</td>\n",
       "    </tr>\n",
       "    <tr>\n",
       "      <td>22</td>\n",
       "      <td>1176</td>\n",
       "      <td>5</td>\n",
       "    </tr>\n",
       "    <tr>\n",
       "      <td>26</td>\n",
       "      <td>1250</td>\n",
       "      <td>5</td>\n",
       "    </tr>\n",
       "    <tr>\n",
       "      <td>27</td>\n",
       "      <td>1267</td>\n",
       "      <td>5</td>\n",
       "    </tr>\n",
       "    <tr>\n",
       "      <td>31</td>\n",
       "      <td>1768</td>\n",
       "      <td>5</td>\n",
       "    </tr>\n",
       "    <tr>\n",
       "      <td>33</td>\n",
       "      <td>1892</td>\n",
       "      <td>5</td>\n",
       "    </tr>\n",
       "    <tr>\n",
       "      <td>36</td>\n",
       "      <td>1959</td>\n",
       "      <td>5</td>\n",
       "    </tr>\n",
       "    <tr>\n",
       "      <td>40</td>\n",
       "      <td>2286</td>\n",
       "      <td>5</td>\n",
       "    </tr>\n",
       "    <tr>\n",
       "      <td>47</td>\n",
       "      <td>2735</td>\n",
       "      <td>5</td>\n",
       "    </tr>\n",
       "    <tr>\n",
       "      <td>49</td>\n",
       "      <td>3036</td>\n",
       "      <td>5</td>\n",
       "    </tr>\n",
       "  </tbody>\n",
       "</table>\n",
       "</div>"
      ],
      "text/plain": [
       "    movie_id  rating\n",
       "0          0       5\n",
       "1         47       5\n",
       "2        148       5\n",
       "4        523       5\n",
       "8        591       5\n",
       "17      1009       5\n",
       "18      1015       5\n",
       "19      1016       5\n",
       "20      1022       5\n",
       "22      1176       5\n",
       "26      1250       5\n",
       "27      1267       5\n",
       "31      1768       5\n",
       "33      1892       5\n",
       "36      1959       5\n",
       "40      2286       5\n",
       "47      2735       5\n",
       "49      3036       5"
      ]
     },
     "execution_count": 29,
     "metadata": {},
     "output_type": "execute_result"
    }
   ],
   "source": [
    "def GetTopMovies(user_id,dataframe,nb_top_movies=None):\n",
    "    if (nb_top_movies):\n",
    "        return dataframe.loc[df['user_id']==user_id].sort_values(by='rating',ascending=False).loc[:,['movie_id','rating']].head(nb_top_movies)\n",
    "    else:\n",
    "        max_rating=max(dataframe.loc[dataframe['user_id']==user_id].loc[:,'rating'])\n",
    "        return dataframe.loc[(df['user_id']==user_id)&(df['rating']==max_rating)].loc[:,['movie_id','rating']]\n",
    "\n",
    "GetTopMovies(0,df)"
   ]
  },
  {
   "cell_type": "code",
   "execution_count": 30,
   "metadata": {},
   "outputs": [
    {
     "data": {
      "text/plain": [
       "0    5794\n",
       "dtype: int64"
      ]
     },
     "execution_count": 30,
     "metadata": {},
     "output_type": "execute_result"
    }
   ],
   "source": [
    "def FindSimilarUsers(user_id,dataframe,nb_top_movies):\n",
    "    top_movies=GetTopMovies(user_id,dataframe,nb_top_movies)\n",
    "    users=dataframe.loc[(dataframe['movie_id']==top_movies.iloc[0].loc['movie_id']) & (dataframe['rating']==top_movies.iloc[0].loc['rating']) & (dataframe['user_id']!=user_id) ].loc[:,'user_id']\n",
    "    for index,row in top_movies.iterrows():\n",
    "        curr_users = dataframe.loc[(dataframe['movie_id']==row.loc['movie_id'])&(dataframe['rating']==row.loc['rating'])].loc[:,'user_id']\n",
    "        users = pd.Series(list(set(curr_users).intersection(set(users))))#returns the values in common between curr_users and users\n",
    "    \n",
    "    if(len(users)==0):\n",
    "        raise Exception(\"No similar users. Try lowering the number of top movies to find the similar users.\")\n",
    "    return users\n",
    "        \n",
    "FindSimilarUsers(0,df,6)"
   ]
  },
  {
   "cell_type": "code",
   "execution_count": 31,
   "metadata": {},
   "outputs": [
    {
     "data": {
      "text/plain": [
       "555568      13\n",
       "555570      15\n",
       "555571      16\n",
       "555577      24\n",
       "555581      35\n",
       "          ... \n",
       "556806    3474\n",
       "556809    3477\n",
       "556811    3482\n",
       "556832    3651\n",
       "556834    3714\n",
       "Name: movie_id, Length: 287, dtype: int64"
      ]
     },
     "execution_count": 31,
     "metadata": {},
     "output_type": "execute_result"
    }
   ],
   "source": [
    "def UserSimilarityRecommendation(user_id,dataframe,nb_recommendation=None,nb_top_movies=5):\n",
    "    top_similar_users = FindSimilarUsers(user_id,dataframe,nb_top_movies)\n",
    "    watched_movies=dataframe.loc[dataframe['user_id']==user_id].loc[:,'movie_id']\n",
    "    max_rating=max(dataframe.loc[dataframe['user_id']==top_similar_users[0]].loc[:,'rating'])\n",
    "    top_movies=dataframe.loc[(dataframe['user_id']==top_similar_users[0])&(~dataframe['movie_id'].isin(watched_movies))&(dataframe['rating']==max_rating)].loc[:,'movie_id']\n",
    "    if(len(top_similar_users)!=1):\n",
    "        for i in range(1,len(top_similar_users)):\n",
    "            max_rating=max(dataframe.loc[dataframe['user_id']==top_similar_users[i]].loc[:,'rating'])\n",
    "            curr_top_movies=dataframe.loc[(dataframe['user_id']==top_similar_users[i])&(~dataframe['movie_id'].isin(watched_movies))&(dataframe['rating']==max_rating)].loc[:,'movie_id']\n",
    "            top_movies=pd.Series(list(set(curr_top_movies).intersection(set(top_movies))))\n",
    "    if(nb_recommendation):\n",
    "        if(len(top_movies)<nb_recommendation):\n",
    "            return top_movies\n",
    "        else:\n",
    "            return top_movies[:nb_recommendation]\n",
    "    else:\n",
    "        return top_movies\n",
    "    \n",
    "user_based_recomm=UserSimilarityRecommendation(0,df,nb_top_movies=6)\n",
    "user_based_recomm"
   ]
  },
  {
   "cell_type": "markdown",
   "metadata": {},
   "source": [
    "This is the list of movie_id recommended to the user `user_id=0` based on the similar users.\n",
    "The similar users were chosen by giving the same rating to the `nb_top_movies=6` rated by the target user.\n",
    "The function then searches for the movies not watched by the targeted user and that were given the highest rating by the similar users.\n",
    "\n",
    "Let's implement an error function to determine the accuracy of the recommendations.\n",
    "For that, we will simply change the condition that asks for the movie to not have been watched by the targeted user, and make it so that the movie must have been watched and top rated by the targeted user. We will then compare it to the list of the targeted user's top movies."
   ]
  },
  {
   "cell_type": "code",
   "execution_count": 32,
   "metadata": {},
   "outputs": [
    {
     "data": {
      "text/plain": [
       "555558       0\n",
       "555780     523\n",
       "555812     591\n",
       "555927    1009\n",
       "555932    1015\n",
       "555933    1016\n",
       "555938    1022\n",
       "555984    1176\n",
       "556031    1250\n",
       "556283    1959\n",
       "556402    2286\n",
       "556570    2735\n",
       "556675    3036\n",
       "Name: movie_id, dtype: int64"
      ]
     },
     "execution_count": 32,
     "metadata": {},
     "output_type": "execute_result"
    }
   ],
   "source": [
    "def UserSimilarityRecommendation_evaluation(user_id,dataframe,nb_recommendation=None,nb_top_movies=5):\n",
    "    top_similar_users = FindSimilarUsers(user_id,dataframe,nb_top_movies)\n",
    "    #print(top_similar_users)\n",
    "    top_watched_movies=GetTopMovies(user_id,dataframe).loc[:,'movie_id']\n",
    "    max_rating=max(dataframe.loc[dataframe['user_id']==top_similar_users[0]].loc[:,'rating'])\n",
    "    top_movies=dataframe.loc[(dataframe['user_id']==top_similar_users[0])&(dataframe['rating']==max_rating)&(dataframe['movie_id'].isin(top_watched_movies))].loc[:,'movie_id']\n",
    "    if(len(top_similar_users)!=1):\n",
    "        for i in range(1,len(top_similar_users)):\n",
    "            max_rating=max(dataframe.loc[dataframe['user_id']==top_similar_users[i]].loc[:,'rating'])\n",
    "            curr_top_movies=dataframe.loc[(dataframe['user_id']==top_similar_users[i])&(dataframe['rating']==max_rating)&(dataframe['movie_id'].isin(top_watched_movies))].loc[:,'movie_id']\n",
    "            top_movies=pd.Series(list(set(curr_top_movies).intersection(set(top_movies))))\n",
    "    if(nb_recommendation):\n",
    "        if(len(top_movies)<nb_recommendation):\n",
    "            return top_movies\n",
    "        else:\n",
    "            return top_movies[:nb_recommendation]\n",
    "    else:\n",
    "        return top_movies\n",
    "\n",
    "user_based_recomm_eval=UserSimilarityRecommendation_evaluation(0,df,nb_top_movies=6)\n",
    "user_based_recomm_eval"
   ]
  },
  {
   "cell_type": "markdown",
   "metadata": {},
   "source": [
    "So this list is the list of movies that would be recommended by the similar-users-based recommendation system, and that has been top rated by the targeted user.\n",
    "Let's now compare it with the list of the top movies watched by the targeted user and get a proportion out of it."
   ]
  },
  {
   "cell_type": "code",
   "execution_count": 33,
   "metadata": {},
   "outputs": [
    {
     "data": {
      "text/html": [
       "<div>\n",
       "<style scoped>\n",
       "    .dataframe tbody tr th:only-of-type {\n",
       "        vertical-align: middle;\n",
       "    }\n",
       "\n",
       "    .dataframe tbody tr th {\n",
       "        vertical-align: top;\n",
       "    }\n",
       "\n",
       "    .dataframe thead th {\n",
       "        text-align: right;\n",
       "    }\n",
       "</style>\n",
       "<table border=\"1\" class=\"dataframe\">\n",
       "  <thead>\n",
       "    <tr style=\"text-align: right;\">\n",
       "      <th></th>\n",
       "      <th>movie_id</th>\n",
       "      <th>rating</th>\n",
       "    </tr>\n",
       "  </thead>\n",
       "  <tbody>\n",
       "    <tr>\n",
       "      <td>0</td>\n",
       "      <td>0</td>\n",
       "      <td>5</td>\n",
       "    </tr>\n",
       "    <tr>\n",
       "      <td>1</td>\n",
       "      <td>47</td>\n",
       "      <td>5</td>\n",
       "    </tr>\n",
       "    <tr>\n",
       "      <td>2</td>\n",
       "      <td>148</td>\n",
       "      <td>5</td>\n",
       "    </tr>\n",
       "    <tr>\n",
       "      <td>4</td>\n",
       "      <td>523</td>\n",
       "      <td>5</td>\n",
       "    </tr>\n",
       "    <tr>\n",
       "      <td>8</td>\n",
       "      <td>591</td>\n",
       "      <td>5</td>\n",
       "    </tr>\n",
       "    <tr>\n",
       "      <td>17</td>\n",
       "      <td>1009</td>\n",
       "      <td>5</td>\n",
       "    </tr>\n",
       "    <tr>\n",
       "      <td>18</td>\n",
       "      <td>1015</td>\n",
       "      <td>5</td>\n",
       "    </tr>\n",
       "    <tr>\n",
       "      <td>19</td>\n",
       "      <td>1016</td>\n",
       "      <td>5</td>\n",
       "    </tr>\n",
       "    <tr>\n",
       "      <td>20</td>\n",
       "      <td>1022</td>\n",
       "      <td>5</td>\n",
       "    </tr>\n",
       "    <tr>\n",
       "      <td>22</td>\n",
       "      <td>1176</td>\n",
       "      <td>5</td>\n",
       "    </tr>\n",
       "    <tr>\n",
       "      <td>26</td>\n",
       "      <td>1250</td>\n",
       "      <td>5</td>\n",
       "    </tr>\n",
       "    <tr>\n",
       "      <td>27</td>\n",
       "      <td>1267</td>\n",
       "      <td>5</td>\n",
       "    </tr>\n",
       "    <tr>\n",
       "      <td>31</td>\n",
       "      <td>1768</td>\n",
       "      <td>5</td>\n",
       "    </tr>\n",
       "    <tr>\n",
       "      <td>33</td>\n",
       "      <td>1892</td>\n",
       "      <td>5</td>\n",
       "    </tr>\n",
       "    <tr>\n",
       "      <td>36</td>\n",
       "      <td>1959</td>\n",
       "      <td>5</td>\n",
       "    </tr>\n",
       "    <tr>\n",
       "      <td>40</td>\n",
       "      <td>2286</td>\n",
       "      <td>5</td>\n",
       "    </tr>\n",
       "    <tr>\n",
       "      <td>47</td>\n",
       "      <td>2735</td>\n",
       "      <td>5</td>\n",
       "    </tr>\n",
       "    <tr>\n",
       "      <td>49</td>\n",
       "      <td>3036</td>\n",
       "      <td>5</td>\n",
       "    </tr>\n",
       "  </tbody>\n",
       "</table>\n",
       "</div>"
      ],
      "text/plain": [
       "    movie_id  rating\n",
       "0          0       5\n",
       "1         47       5\n",
       "2        148       5\n",
       "4        523       5\n",
       "8        591       5\n",
       "17      1009       5\n",
       "18      1015       5\n",
       "19      1016       5\n",
       "20      1022       5\n",
       "22      1176       5\n",
       "26      1250       5\n",
       "27      1267       5\n",
       "31      1768       5\n",
       "33      1892       5\n",
       "36      1959       5\n",
       "40      2286       5\n",
       "47      2735       5\n",
       "49      3036       5"
      ]
     },
     "execution_count": 33,
     "metadata": {},
     "output_type": "execute_result"
    }
   ],
   "source": [
    "top_movies=GetTopMovies(0,df)\n",
    "top_movies"
   ]
  },
  {
   "cell_type": "markdown",
   "metadata": {},
   "source": [
    "We can see that every one of the recommended movies are in the top movies of `user_id=0`.\n",
    "This is a mark of quality in the recommendation system, but we cannot do the MAPE error function as before. We have to do a proportion instead."
   ]
  },
  {
   "cell_type": "code",
   "execution_count": 34,
   "metadata": {},
   "outputs": [
    {
     "data": {
      "text/plain": [
       "72.22222222222221"
      ]
     },
     "execution_count": 34,
     "metadata": {},
     "output_type": "execute_result"
    }
   ],
   "source": [
    "(len(user_based_recomm_eval)/len(top_movies))*100"
   ]
  },
  {
   "cell_type": "markdown",
   "metadata": {},
   "source": [
    "It means that out of the top movies watched by `user_id=0`, *72.22%* would have been recommended by the similar-users-based recommendation system.\n",
    "\n",
    "It is not an error function, but we can deduce that because *72.22%* would have been recommended by the similar-users-based recommendation system, it means that *27.78*% of the top movies would not have been recommended. We can assume that it is our error evaluation in this user-based recommendation system.\n",
    "\n",
    "Comparing the movie-similarity-based recommendation system to the similar-users-based recommendation system seems to be impossible, as they don't have the same way to function. All of the predictions of the similar-users-based recommendation system are movies that the targeted user would love, but there are a good part of them that are missed. These two recommendation system do not have the same purpose.\n",
    "\n",
    "Let's look at `user_id=150` now:"
   ]
  },
  {
   "cell_type": "code",
   "execution_count": 35,
   "metadata": {},
   "outputs": [
    {
     "data": {
      "text/plain": [
       "33.663366336633665"
      ]
     },
     "execution_count": 35,
     "metadata": {},
     "output_type": "execute_result"
    }
   ],
   "source": [
    "len(UserSimilarityRecommendation_evaluation(150,df,nb_top_movies=5))/len(GetTopMovies(150,df))*100"
   ]
  },
  {
   "cell_type": "markdown",
   "metadata": {},
   "source": [
    "For `user_id=150` around one out of three of the loved movie for the user would have been recommended by this system, which is not a really good accuracy.\n",
    "\n",
    "\n",
    "# Year-based recommendation system\n",
    "\n",
    "As we saw in the EDA, the year feature seems to have a high correlation with the rating target variable. In this section, we will try to exploit this correlation to build a year-based recommendation system.\n"
   ]
  },
  {
   "cell_type": "code",
   "execution_count": 36,
   "metadata": {},
   "outputs": [
    {
     "data": {
      "text/html": [
       "<div>\n",
       "<style scoped>\n",
       "    .dataframe tbody tr th:only-of-type {\n",
       "        vertical-align: middle;\n",
       "    }\n",
       "\n",
       "    .dataframe tbody tr th {\n",
       "        vertical-align: top;\n",
       "    }\n",
       "\n",
       "    .dataframe thead th {\n",
       "        text-align: right;\n",
       "    }\n",
       "</style>\n",
       "<table border=\"1\" class=\"dataframe\">\n",
       "  <thead>\n",
       "    <tr style=\"text-align: right;\">\n",
       "      <th></th>\n",
       "      <th>year</th>\n",
       "      <th>count</th>\n",
       "      <th>avg_rating</th>\n",
       "    </tr>\n",
       "  </thead>\n",
       "  <tbody>\n",
       "    <tr>\n",
       "      <td>2</td>\n",
       "      <td>1941</td>\n",
       "      <td>1</td>\n",
       "      <td>5.000</td>\n",
       "    </tr>\n",
       "    <tr>\n",
       "      <td>5</td>\n",
       "      <td>1950</td>\n",
       "      <td>1</td>\n",
       "      <td>5.000</td>\n",
       "    </tr>\n",
       "    <tr>\n",
       "      <td>7</td>\n",
       "      <td>1959</td>\n",
       "      <td>1</td>\n",
       "      <td>5.000</td>\n",
       "    </tr>\n",
       "    <tr>\n",
       "      <td>10</td>\n",
       "      <td>1965</td>\n",
       "      <td>1</td>\n",
       "      <td>5.000</td>\n",
       "    </tr>\n",
       "    <tr>\n",
       "      <td>11</td>\n",
       "      <td>1975</td>\n",
       "      <td>1</td>\n",
       "      <td>5.000</td>\n",
       "    </tr>\n",
       "    <tr>\n",
       "      <td>15</td>\n",
       "      <td>1983</td>\n",
       "      <td>1</td>\n",
       "      <td>5.000</td>\n",
       "    </tr>\n",
       "    <tr>\n",
       "      <td>16</td>\n",
       "      <td>1985</td>\n",
       "      <td>1</td>\n",
       "      <td>5.000</td>\n",
       "    </tr>\n",
       "    <tr>\n",
       "      <td>21</td>\n",
       "      <td>1990</td>\n",
       "      <td>1</td>\n",
       "      <td>5.000</td>\n",
       "    </tr>\n",
       "    <tr>\n",
       "      <td>22</td>\n",
       "      <td>1991</td>\n",
       "      <td>1</td>\n",
       "      <td>5.000</td>\n",
       "    </tr>\n",
       "    <tr>\n",
       "      <td>25</td>\n",
       "      <td>1995</td>\n",
       "      <td>4</td>\n",
       "      <td>4.500</td>\n",
       "    </tr>\n",
       "    <tr>\n",
       "      <td>19</td>\n",
       "      <td>1988</td>\n",
       "      <td>2</td>\n",
       "      <td>4.500</td>\n",
       "    </tr>\n",
       "    <tr>\n",
       "      <td>24</td>\n",
       "      <td>1993</td>\n",
       "      <td>2</td>\n",
       "      <td>4.500</td>\n",
       "    </tr>\n",
       "    <tr>\n",
       "      <td>28</td>\n",
       "      <td>1998</td>\n",
       "      <td>8</td>\n",
       "      <td>4.125</td>\n",
       "    </tr>\n",
       "    <tr>\n",
       "      <td>9</td>\n",
       "      <td>1964</td>\n",
       "      <td>2</td>\n",
       "      <td>4.000</td>\n",
       "    </tr>\n",
       "    <tr>\n",
       "      <td>20</td>\n",
       "      <td>1989</td>\n",
       "      <td>2</td>\n",
       "      <td>4.000</td>\n",
       "    </tr>\n",
       "    <tr>\n",
       "      <td>27</td>\n",
       "      <td>1997</td>\n",
       "      <td>2</td>\n",
       "      <td>4.000</td>\n",
       "    </tr>\n",
       "    <tr>\n",
       "      <td>0</td>\n",
       "      <td>1937</td>\n",
       "      <td>1</td>\n",
       "      <td>4.000</td>\n",
       "    </tr>\n",
       "    <tr>\n",
       "      <td>1</td>\n",
       "      <td>1939</td>\n",
       "      <td>1</td>\n",
       "      <td>4.000</td>\n",
       "    </tr>\n",
       "    <tr>\n",
       "      <td>3</td>\n",
       "      <td>1942</td>\n",
       "      <td>1</td>\n",
       "      <td>4.000</td>\n",
       "    </tr>\n",
       "    <tr>\n",
       "      <td>4</td>\n",
       "      <td>1947</td>\n",
       "      <td>1</td>\n",
       "      <td>4.000</td>\n",
       "    </tr>\n",
       "    <tr>\n",
       "      <td>6</td>\n",
       "      <td>1958</td>\n",
       "      <td>1</td>\n",
       "      <td>4.000</td>\n",
       "    </tr>\n",
       "    <tr>\n",
       "      <td>8</td>\n",
       "      <td>1962</td>\n",
       "      <td>1</td>\n",
       "      <td>4.000</td>\n",
       "    </tr>\n",
       "    <tr>\n",
       "      <td>12</td>\n",
       "      <td>1977</td>\n",
       "      <td>1</td>\n",
       "      <td>4.000</td>\n",
       "    </tr>\n",
       "    <tr>\n",
       "      <td>13</td>\n",
       "      <td>1980</td>\n",
       "      <td>1</td>\n",
       "      <td>4.000</td>\n",
       "    </tr>\n",
       "    <tr>\n",
       "      <td>14</td>\n",
       "      <td>1982</td>\n",
       "      <td>1</td>\n",
       "      <td>4.000</td>\n",
       "    </tr>\n",
       "    <tr>\n",
       "      <td>17</td>\n",
       "      <td>1986</td>\n",
       "      <td>1</td>\n",
       "      <td>4.000</td>\n",
       "    </tr>\n",
       "    <tr>\n",
       "      <td>23</td>\n",
       "      <td>1992</td>\n",
       "      <td>1</td>\n",
       "      <td>4.000</td>\n",
       "    </tr>\n",
       "    <tr>\n",
       "      <td>30</td>\n",
       "      <td>2000</td>\n",
       "      <td>1</td>\n",
       "      <td>4.000</td>\n",
       "    </tr>\n",
       "    <tr>\n",
       "      <td>29</td>\n",
       "      <td>1999</td>\n",
       "      <td>4</td>\n",
       "      <td>3.750</td>\n",
       "    </tr>\n",
       "    <tr>\n",
       "      <td>26</td>\n",
       "      <td>1996</td>\n",
       "      <td>5</td>\n",
       "      <td>3.600</td>\n",
       "    </tr>\n",
       "    <tr>\n",
       "      <td>18</td>\n",
       "      <td>1987</td>\n",
       "      <td>1</td>\n",
       "      <td>3.000</td>\n",
       "    </tr>\n",
       "  </tbody>\n",
       "</table>\n",
       "</div>"
      ],
      "text/plain": [
       "    year  count  avg_rating\n",
       "2   1941      1       5.000\n",
       "5   1950      1       5.000\n",
       "7   1959      1       5.000\n",
       "10  1965      1       5.000\n",
       "11  1975      1       5.000\n",
       "15  1983      1       5.000\n",
       "16  1985      1       5.000\n",
       "21  1990      1       5.000\n",
       "22  1991      1       5.000\n",
       "25  1995      4       4.500\n",
       "19  1988      2       4.500\n",
       "24  1993      2       4.500\n",
       "28  1998      8       4.125\n",
       "9   1964      2       4.000\n",
       "20  1989      2       4.000\n",
       "27  1997      2       4.000\n",
       "0   1937      1       4.000\n",
       "1   1939      1       4.000\n",
       "3   1942      1       4.000\n",
       "4   1947      1       4.000\n",
       "6   1958      1       4.000\n",
       "8   1962      1       4.000\n",
       "12  1977      1       4.000\n",
       "13  1980      1       4.000\n",
       "14  1982      1       4.000\n",
       "17  1986      1       4.000\n",
       "23  1992      1       4.000\n",
       "30  2000      1       4.000\n",
       "29  1999      4       3.750\n",
       "26  1996      5       3.600\n",
       "18  1987      1       3.000"
      ]
     },
     "execution_count": 36,
     "metadata": {},
     "output_type": "execute_result"
    }
   ],
   "source": [
    "def AverageRatingByYear(df,user_id):\n",
    "    specific_df = df.loc[df['user_id']==user_id].loc[:,['year','rating']]\n",
    "    counts = specific_df.groupby(by='year',as_index=False).count()\n",
    "    averages = specific_df.groupby(by='year',as_index=False).mean()\n",
    "    specific_df= counts.merge(averages,on='year')\n",
    "    specific_df.columns=['year','count','avg_rating']\n",
    "    return specific_df.sort_values(by=['avg_rating','count'],ascending=False)\n",
    "\n",
    "AverageRatingByYear(df,0)"
   ]
  },
  {
   "cell_type": "markdown",
   "metadata": {},
   "source": [
    "By seeing this dataframe, we can ask ourselves if it's only the average rating that matters. For example, if the average rating is of 5, then we might think that the user loves movies that got out this year. But when we check the number of movies he rated for that given year, we realise that it's only 1.\n",
    "\n",
    "So the year might be a bad indication in this case, and we would want to give more importance to the count parameter in the recommendation system we are building."
   ]
  },
  {
   "cell_type": "code",
   "execution_count": 37,
   "metadata": {},
   "outputs": [
    {
     "data": {
      "text/html": [
       "<div>\n",
       "<style scoped>\n",
       "    .dataframe tbody tr th:only-of-type {\n",
       "        vertical-align: middle;\n",
       "    }\n",
       "\n",
       "    .dataframe tbody tr th {\n",
       "        vertical-align: top;\n",
       "    }\n",
       "\n",
       "    .dataframe thead th {\n",
       "        text-align: right;\n",
       "    }\n",
       "</style>\n",
       "<table border=\"1\" class=\"dataframe\">\n",
       "  <thead>\n",
       "    <tr style=\"text-align: right;\">\n",
       "      <th></th>\n",
       "      <th>year</th>\n",
       "      <th>count</th>\n",
       "      <th>avg_rating</th>\n",
       "      <th>normalized_avg_rating</th>\n",
       "      <th>normalized_count</th>\n",
       "      <th>score</th>\n",
       "    </tr>\n",
       "  </thead>\n",
       "  <tbody>\n",
       "    <tr>\n",
       "      <td>28</td>\n",
       "      <td>1998</td>\n",
       "      <td>8</td>\n",
       "      <td>4.125</td>\n",
       "      <td>0.5625</td>\n",
       "      <td>1.000000</td>\n",
       "      <td>1.000000</td>\n",
       "    </tr>\n",
       "    <tr>\n",
       "      <td>2</td>\n",
       "      <td>1941</td>\n",
       "      <td>1</td>\n",
       "      <td>5.000</td>\n",
       "      <td>1.0000</td>\n",
       "      <td>0.000000</td>\n",
       "      <td>0.941176</td>\n",
       "    </tr>\n",
       "    <tr>\n",
       "      <td>5</td>\n",
       "      <td>1950</td>\n",
       "      <td>1</td>\n",
       "      <td>5.000</td>\n",
       "      <td>1.0000</td>\n",
       "      <td>0.000000</td>\n",
       "      <td>0.941176</td>\n",
       "    </tr>\n",
       "    <tr>\n",
       "      <td>7</td>\n",
       "      <td>1959</td>\n",
       "      <td>1</td>\n",
       "      <td>5.000</td>\n",
       "      <td>1.0000</td>\n",
       "      <td>0.000000</td>\n",
       "      <td>0.941176</td>\n",
       "    </tr>\n",
       "    <tr>\n",
       "      <td>10</td>\n",
       "      <td>1965</td>\n",
       "      <td>1</td>\n",
       "      <td>5.000</td>\n",
       "      <td>1.0000</td>\n",
       "      <td>0.000000</td>\n",
       "      <td>0.941176</td>\n",
       "    </tr>\n",
       "    <tr>\n",
       "      <td>11</td>\n",
       "      <td>1975</td>\n",
       "      <td>1</td>\n",
       "      <td>5.000</td>\n",
       "      <td>1.0000</td>\n",
       "      <td>0.000000</td>\n",
       "      <td>0.941176</td>\n",
       "    </tr>\n",
       "    <tr>\n",
       "      <td>15</td>\n",
       "      <td>1983</td>\n",
       "      <td>1</td>\n",
       "      <td>5.000</td>\n",
       "      <td>1.0000</td>\n",
       "      <td>0.000000</td>\n",
       "      <td>0.941176</td>\n",
       "    </tr>\n",
       "    <tr>\n",
       "      <td>16</td>\n",
       "      <td>1985</td>\n",
       "      <td>1</td>\n",
       "      <td>5.000</td>\n",
       "      <td>1.0000</td>\n",
       "      <td>0.000000</td>\n",
       "      <td>0.941176</td>\n",
       "    </tr>\n",
       "    <tr>\n",
       "      <td>21</td>\n",
       "      <td>1990</td>\n",
       "      <td>1</td>\n",
       "      <td>5.000</td>\n",
       "      <td>1.0000</td>\n",
       "      <td>0.000000</td>\n",
       "      <td>0.941176</td>\n",
       "    </tr>\n",
       "    <tr>\n",
       "      <td>22</td>\n",
       "      <td>1991</td>\n",
       "      <td>1</td>\n",
       "      <td>5.000</td>\n",
       "      <td>1.0000</td>\n",
       "      <td>0.000000</td>\n",
       "      <td>0.941176</td>\n",
       "    </tr>\n",
       "    <tr>\n",
       "      <td>25</td>\n",
       "      <td>1995</td>\n",
       "      <td>4</td>\n",
       "      <td>4.500</td>\n",
       "      <td>0.7500</td>\n",
       "      <td>0.428571</td>\n",
       "      <td>0.907563</td>\n",
       "    </tr>\n",
       "  </tbody>\n",
       "</table>\n",
       "</div>"
      ],
      "text/plain": [
       "    year  count  avg_rating  normalized_avg_rating  normalized_count     score\n",
       "28  1998      8       4.125                 0.5625          1.000000  1.000000\n",
       "2   1941      1       5.000                 1.0000          0.000000  0.941176\n",
       "5   1950      1       5.000                 1.0000          0.000000  0.941176\n",
       "7   1959      1       5.000                 1.0000          0.000000  0.941176\n",
       "10  1965      1       5.000                 1.0000          0.000000  0.941176\n",
       "11  1975      1       5.000                 1.0000          0.000000  0.941176\n",
       "15  1983      1       5.000                 1.0000          0.000000  0.941176\n",
       "16  1985      1       5.000                 1.0000          0.000000  0.941176\n",
       "21  1990      1       5.000                 1.0000          0.000000  0.941176\n",
       "22  1991      1       5.000                 1.0000          0.000000  0.941176\n",
       "25  1995      4       4.500                 0.7500          0.428571  0.907563"
      ]
     },
     "execution_count": 37,
     "metadata": {},
     "output_type": "execute_result"
    }
   ],
   "source": [
    "def GetYearScores(df,user_id,nb_diff_scores=None):\n",
    "    \n",
    "    avg_ratings=AverageRatingByYear(df,user_id)\n",
    "    \n",
    "    avg_ratings.loc[:,'normalized_avg_rating']=avg_ratings.loc[:,'avg_rating']-min(avg_ratings.loc[:,'avg_rating']) # normalizing to compute score\n",
    "    avg_ratings.loc[:,'normalized_avg_rating']=avg_ratings.loc[:,'normalized_avg_rating']/max(avg_ratings.loc[:,'normalized_avg_rating'])\n",
    "    \n",
    "    avg_ratings.loc[:,'normalized_count']=avg_ratings.loc[:,'count']-min(avg_ratings.loc[:,'count'])# normalizing to compute score\n",
    "    avg_ratings.loc[:,'normalized_count']=avg_ratings.loc[:,'normalized_count']/max(avg_ratings.loc[:,'normalized_count'])\n",
    "    \n",
    "    avg_ratings.loc[:,'score']=(avg_ratings.loc[:,'normalized_avg_rating']*2)+(avg_ratings.loc[:,'normalized_count'])#formula for the score\n",
    "    \n",
    "    avg_ratings.loc[:,'score']=avg_ratings.loc[:,'score']-min(avg_ratings.loc[:,'score'])# normalizing score\n",
    "    avg_ratings.loc[:,'score']=avg_ratings.loc[:,'score']/max(avg_ratings.loc[:,'score'])\n",
    "    \n",
    "    avg_ratings = avg_ratings.sort_values(by='score',ascending=False)\n",
    "    if nb_diff_scores:\n",
    "        unique_scores=avg_ratings.loc[:,'score'].unique()\n",
    "        if(nb_diff_scores<len(unique_scores)):         \n",
    "            avg_ratings = avg_ratings.loc[avg_ratings['score'].isin(unique_scores[:nb_diff_scores])]   \n",
    "    return avg_ratings\n",
    "\n",
    "GetYearScores(df,0,3)"
   ]
  },
  {
   "cell_type": "code",
   "execution_count": 38,
   "metadata": {},
   "outputs": [
    {
     "data": {
      "text/html": [
       "<div>\n",
       "<style scoped>\n",
       "    .dataframe tbody tr th:only-of-type {\n",
       "        vertical-align: middle;\n",
       "    }\n",
       "\n",
       "    .dataframe tbody tr th {\n",
       "        vertical-align: top;\n",
       "    }\n",
       "\n",
       "    .dataframe thead th {\n",
       "        text-align: right;\n",
       "    }\n",
       "</style>\n",
       "<table border=\"1\" class=\"dataframe\">\n",
       "  <thead>\n",
       "    <tr style=\"text-align: right;\">\n",
       "      <th></th>\n",
       "      <th>movie_id</th>\n",
       "      <th>year</th>\n",
       "      <th>score</th>\n",
       "    </tr>\n",
       "  </thead>\n",
       "  <tbody>\n",
       "    <tr>\n",
       "      <td>220116</td>\n",
       "      <td>1849</td>\n",
       "      <td>1998</td>\n",
       "      <td>5</td>\n",
       "    </tr>\n",
       "    <tr>\n",
       "      <td>226765</td>\n",
       "      <td>1814</td>\n",
       "      <td>1998</td>\n",
       "      <td>5</td>\n",
       "    </tr>\n",
       "    <tr>\n",
       "      <td>226766</td>\n",
       "      <td>1815</td>\n",
       "      <td>1998</td>\n",
       "      <td>5</td>\n",
       "    </tr>\n",
       "    <tr>\n",
       "      <td>226767</td>\n",
       "      <td>1816</td>\n",
       "      <td>1998</td>\n",
       "      <td>5</td>\n",
       "    </tr>\n",
       "    <tr>\n",
       "      <td>226768</td>\n",
       "      <td>1827</td>\n",
       "      <td>1998</td>\n",
       "      <td>5</td>\n",
       "    </tr>\n",
       "    <tr>\n",
       "      <td>...</td>\n",
       "      <td>...</td>\n",
       "      <td>...</td>\n",
       "      <td>...</td>\n",
       "    </tr>\n",
       "    <tr>\n",
       "      <td>257882</td>\n",
       "      <td>3848</td>\n",
       "      <td>1988</td>\n",
       "      <td>4</td>\n",
       "    </tr>\n",
       "    <tr>\n",
       "      <td>260078</td>\n",
       "      <td>2177</td>\n",
       "      <td>1988</td>\n",
       "      <td>4</td>\n",
       "    </tr>\n",
       "    <tr>\n",
       "      <td>259561</td>\n",
       "      <td>2958</td>\n",
       "      <td>1988</td>\n",
       "      <td>4</td>\n",
       "    </tr>\n",
       "    <tr>\n",
       "      <td>263684</td>\n",
       "      <td>140</td>\n",
       "      <td>1988</td>\n",
       "      <td>4</td>\n",
       "    </tr>\n",
       "    <tr>\n",
       "      <td>263692</td>\n",
       "      <td>3618</td>\n",
       "      <td>1988</td>\n",
       "      <td>4</td>\n",
       "    </tr>\n",
       "  </tbody>\n",
       "</table>\n",
       "<p>1150 rows × 3 columns</p>\n",
       "</div>"
      ],
      "text/plain": [
       "        movie_id  year  score\n",
       "220116      1849  1998      5\n",
       "226765      1814  1998      5\n",
       "226766      1815  1998      5\n",
       "226767      1816  1998      5\n",
       "226768      1827  1998      5\n",
       "...          ...   ...    ...\n",
       "257882      3848  1988      4\n",
       "260078      2177  1988      4\n",
       "259561      2958  1988      4\n",
       "263684       140  1988      4\n",
       "263692      3618  1988      4\n",
       "\n",
       "[1150 rows x 3 columns]"
      ]
     },
     "execution_count": 38,
     "metadata": {},
     "output_type": "execute_result"
    }
   ],
   "source": [
    "def ScalingScore(x): #to scale the score from the [0,1] interval to the {1,2,3,4,5} rating set\n",
    "    x=(x*4)+1\n",
    "    if x<1.5:\n",
    "        x=1\n",
    "    elif x<2.5:\n",
    "        x=2\n",
    "    elif x<3.5:\n",
    "        x=3\n",
    "    elif x<4.5:\n",
    "        x=4\n",
    "    else:\n",
    "        x=5\n",
    "    return x\n",
    "\n",
    "def GetYearBasedRecommendations(df,user_id,nb_diff_score=None):\n",
    "    year_scores=GetYearScores(df,user_id,nb_diff_score).loc[:,['year','score']]\n",
    "    df = df.merge(year_scores,on='year')\n",
    "    movies_watched = df.loc[df['user_id']==user_id].loc[:,'movie_id']\n",
    "    recommendations = df.loc[(~df['movie_id'].isin(movies_watched))].loc[:,['movie_id','year','score']].sort_values(by='score',ascending=False).drop_duplicates()\n",
    "    recommendations.loc[:,'score']=recommendations.loc[:,'score'].apply(ScalingScore)\n",
    "    return recommendations\n",
    "\n",
    "year_based_recomm=GetYearBasedRecommendations(df,0,4)\n",
    "year_based_recomm"
   ]
  },
  {
   "cell_type": "code",
   "execution_count": 39,
   "metadata": {},
   "outputs": [
    {
     "data": {
      "text/html": [
       "<div>\n",
       "<style scoped>\n",
       "    .dataframe tbody tr th:only-of-type {\n",
       "        vertical-align: middle;\n",
       "    }\n",
       "\n",
       "    .dataframe tbody tr th {\n",
       "        vertical-align: top;\n",
       "    }\n",
       "\n",
       "    .dataframe thead th {\n",
       "        text-align: right;\n",
       "    }\n",
       "</style>\n",
       "<table border=\"1\" class=\"dataframe\">\n",
       "  <thead>\n",
       "    <tr style=\"text-align: right;\">\n",
       "      <th></th>\n",
       "      <th>movie_id</th>\n",
       "      <th>year</th>\n",
       "      <th>score</th>\n",
       "    </tr>\n",
       "  </thead>\n",
       "  <tbody>\n",
       "    <tr>\n",
       "      <td>133223</td>\n",
       "      <td>1768</td>\n",
       "      <td>1998</td>\n",
       "      <td>5</td>\n",
       "    </tr>\n",
       "    <tr>\n",
       "      <td>133230</td>\n",
       "      <td>2623</td>\n",
       "      <td>1998</td>\n",
       "      <td>5</td>\n",
       "    </tr>\n",
       "    <tr>\n",
       "      <td>133229</td>\n",
       "      <td>2286</td>\n",
       "      <td>1998</td>\n",
       "      <td>5</td>\n",
       "    </tr>\n",
       "    <tr>\n",
       "      <td>133228</td>\n",
       "      <td>2271</td>\n",
       "      <td>1998</td>\n",
       "      <td>5</td>\n",
       "    </tr>\n",
       "    <tr>\n",
       "      <td>133227</td>\n",
       "      <td>2252</td>\n",
       "      <td>1998</td>\n",
       "      <td>5</td>\n",
       "    </tr>\n",
       "    <tr>\n",
       "      <td>133226</td>\n",
       "      <td>2225</td>\n",
       "      <td>1998</td>\n",
       "      <td>5</td>\n",
       "    </tr>\n",
       "    <tr>\n",
       "      <td>133225</td>\n",
       "      <td>1959</td>\n",
       "      <td>1998</td>\n",
       "      <td>5</td>\n",
       "    </tr>\n",
       "    <tr>\n",
       "      <td>133224</td>\n",
       "      <td>1838</td>\n",
       "      <td>1998</td>\n",
       "      <td>5</td>\n",
       "    </tr>\n",
       "    <tr>\n",
       "      <td>128414</td>\n",
       "      <td>1267</td>\n",
       "      <td>1959</td>\n",
       "      <td>5</td>\n",
       "    </tr>\n",
       "    <tr>\n",
       "      <td>201449</td>\n",
       "      <td>2735</td>\n",
       "      <td>1983</td>\n",
       "      <td>5</td>\n",
       "    </tr>\n",
       "    <tr>\n",
       "      <td>215646</td>\n",
       "      <td>3036</td>\n",
       "      <td>1990</td>\n",
       "      <td>5</td>\n",
       "    </tr>\n",
       "    <tr>\n",
       "      <td>103620</td>\n",
       "      <td>1250</td>\n",
       "      <td>1985</td>\n",
       "      <td>5</td>\n",
       "    </tr>\n",
       "    <tr>\n",
       "      <td>95218</td>\n",
       "      <td>1176</td>\n",
       "      <td>1975</td>\n",
       "      <td>5</td>\n",
       "    </tr>\n",
       "    <tr>\n",
       "      <td>91569</td>\n",
       "      <td>1022</td>\n",
       "      <td>1965</td>\n",
       "      <td>5</td>\n",
       "    </tr>\n",
       "    <tr>\n",
       "      <td>88127</td>\n",
       "      <td>1016</td>\n",
       "      <td>1941</td>\n",
       "      <td>5</td>\n",
       "    </tr>\n",
       "    <tr>\n",
       "      <td>85537</td>\n",
       "      <td>1009</td>\n",
       "      <td>1950</td>\n",
       "      <td>5</td>\n",
       "    </tr>\n",
       "    <tr>\n",
       "      <td>60754</td>\n",
       "      <td>591</td>\n",
       "      <td>1991</td>\n",
       "      <td>5</td>\n",
       "    </tr>\n",
       "    <tr>\n",
       "      <td>1</td>\n",
       "      <td>47</td>\n",
       "      <td>1995</td>\n",
       "      <td>5</td>\n",
       "    </tr>\n",
       "    <tr>\n",
       "      <td>3</td>\n",
       "      <td>735</td>\n",
       "      <td>1995</td>\n",
       "      <td>5</td>\n",
       "    </tr>\n",
       "    <tr>\n",
       "      <td>2</td>\n",
       "      <td>148</td>\n",
       "      <td>1995</td>\n",
       "      <td>5</td>\n",
       "    </tr>\n",
       "    <tr>\n",
       "      <td>0</td>\n",
       "      <td>0</td>\n",
       "      <td>1995</td>\n",
       "      <td>5</td>\n",
       "    </tr>\n",
       "  </tbody>\n",
       "</table>\n",
       "</div>"
      ],
      "text/plain": [
       "        movie_id  year  score\n",
       "133223      1768  1998      5\n",
       "133230      2623  1998      5\n",
       "133229      2286  1998      5\n",
       "133228      2271  1998      5\n",
       "133227      2252  1998      5\n",
       "133226      2225  1998      5\n",
       "133225      1959  1998      5\n",
       "133224      1838  1998      5\n",
       "128414      1267  1959      5\n",
       "201449      2735  1983      5\n",
       "215646      3036  1990      5\n",
       "103620      1250  1985      5\n",
       "95218       1176  1975      5\n",
       "91569       1022  1965      5\n",
       "88127       1016  1941      5\n",
       "85537       1009  1950      5\n",
       "60754        591  1991      5\n",
       "1             47  1995      5\n",
       "3            735  1995      5\n",
       "2            148  1995      5\n",
       "0              0  1995      5"
      ]
     },
     "execution_count": 39,
     "metadata": {},
     "output_type": "execute_result"
    }
   ],
   "source": [
    "def GetYearBasedRecommendations_evaluation(df,user_id,nb_diff_score=None):\n",
    "    year_scores=GetYearScores(df,user_id,nb_diff_score).loc[:,['year','score']]\n",
    "    df = df.merge(year_scores,on='year')\n",
    "    movies_watched = df.loc[df['user_id']==user_id].loc[:,'movie_id']\n",
    "    recommendations = df.loc[(df['movie_id'].isin(movies_watched))&(df['user_id']==user_id)].loc[:,['movie_id','year','score']].sort_values(by='score',ascending=False)\n",
    "    recommendations.loc[:,'score']=recommendations.loc[:,'score'].apply(ScalingScore)\n",
    "    return recommendations\n",
    "\n",
    "year_based_recomm_eval=GetYearBasedRecommendations_evaluation(df,0,3)\n",
    "year_based_recomm_eval"
   ]
  },
  {
   "cell_type": "code",
   "execution_count": 40,
   "metadata": {},
   "outputs": [
    {
     "name": "stdout",
     "output_type": "stream",
     "text": [
      "MAPE for user_id=0:  13.095238095238093 %\n",
      "MAPE for user_id=150:  18.333333333333336 %\n"
     ]
    }
   ],
   "source": [
    "def MAPE_YearBased(df,user_id):\n",
    "    mape=0\n",
    "    year_based_recomm_eval=GetYearBasedRecommendations_evaluation(df,user_id,3)\n",
    "    for movie_id in year_based_recomm_eval.loc[:,'movie_id']:\n",
    "        actual_rating=df.loc[(df['movie_id']==movie_id)&(df['user_id']==user_id)].loc[:,'rating'].values[0]\n",
    "        forecasted_rating=year_based_recomm_eval.loc[year_based_recomm_eval['movie_id']==movie_id].loc[:,'score'].values[0]\n",
    "        mape+=abs(actual_rating-forecasted_rating)/actual_rating\n",
    "\n",
    "    mape/=year_based_recomm_eval.shape[0]\n",
    "    return mape\n",
    "\n",
    "print('MAPE for user_id=0: ',str(MAPE_YearBased(df,0)*100),'%')\n",
    "print('MAPE for user_id=150: ',str(MAPE_YearBased(df,150)*100),'%')"
   ]
  },
  {
   "cell_type": "markdown",
   "metadata": {},
   "source": [
    "The year-based recommendation system seems to have satisfying results. As the EDA indicated (through Pearson's correlation coefficient heatmap), the year feature seems to have a big importance in the likeliness of a user to appreciate a movie.\n",
    "\n",
    "The results are better for both `user_id=0` and `user_id=150`."
   ]
  },
  {
   "cell_type": "markdown",
   "metadata": {},
   "source": [
    "# Conclusion:\n",
    "\n",
    "After implementing a fix for the indexing of file **movie.csv** that resulted in mismatches in the first part of the project (movie genres similarity recommendation system), I added a feature to this recommendation system by removing the reciprocity (movie A being similar to movie B does *not* mean that movie B is similar to movie A), and by scaling and normalizing the similarity score to compare it to the actual rating given by the user through a train/test split of the dataset, so that we could have an evaluation method (MAPE) and quantify the errors of the recommendation system.\n",
    "\n",
    "After that, I looked towards implementing a different recommendation system, based on user similarity. I chose to not go on the way of working with the profile of a user (`occupation`,`gender`,`zip_code`,`age`) because the EDA indicated that these features have little to no impact on the target rating variable. Instead, I chose to build a recommendation around the movies that have not been watched by the targeted users, but were rated the maximum by users with very similar tastes to the targeted user. It got great results, as there is basically no error indicated (all the movies recommended by the system were in the top movies of the targeted user) - but rather a problem of movies that were missed, and not recommended, despite being in the top movies of the targeted user.\n",
    "\n",
    "Finally, once again following the advice of the heatmap produced in the EDA, I implemented a year-based recommendation system (as this parameter had a rather high correlation with the rating). I looked for different scoring functions, based on the average rating per year and the number of movies rated for a year by the targeted user. The scoring function is entirely naive, as using machine learning was not the goal here. Implementing a linear or polynomial regression to find the best scoring function might be a great idea to improve this scoring function. \n",
    "In the end, the results are nevertheless better than the original genres-based recommendation system on the two users tested along this project.\n",
    "\n",
    "As leads to make a better recommendation system, we might think of using machine learning or even neural networks, as I believe this would be a great use-case for them, but it was not the goal here."
   ]
  }
 ],
 "metadata": {
  "colab": {
   "collapsed_sections": [],
   "name": "project_internship_mle.ipynb",
   "provenance": [],
   "toc_visible": true
  },
  "kernelspec": {
   "display_name": "Python 3",
   "language": "python",
   "name": "python3"
  },
  "language_info": {
   "codemirror_mode": {
    "name": "ipython",
    "version": 3
   },
   "file_extension": ".py",
   "mimetype": "text/x-python",
   "name": "python",
   "nbconvert_exporter": "python",
   "pygments_lexer": "ipython3",
   "version": "3.7.4"
  }
 },
 "nbformat": 4,
 "nbformat_minor": 4
}
