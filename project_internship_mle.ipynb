{
 "cells": [
  {
   "cell_type": "markdown",
   "metadata": {
    "id": "lp_axZQrhGQz"
   },
   "source": [
    "\n",
    "# Intro\n"
   ]
  },
  {
   "cell_type": "markdown",
   "metadata": {
    "id": "NvQTANJbO92-"
   },
   "source": [
    "**Notes**\n",
    "\n",
    "The main bulk of the material comes from https://developers.google.com/machine-learning/recommendation/overview/candidate-generation. If you want to go further later, you can take a look at http://nicolas-hug.com/blog/matrix_facto_3. It is absolutely not expected to look at these two links for the interviews  or to complete the test."
   ]
  },
  {
   "cell_type": "markdown",
   "metadata": {
    "id": "fWJwwtLUeGn3"
   },
   "source": [
    "**Context**: \n",
    "\n",
    "We want to build a movies' recommender in order to get new movies to watch during the lock down. We will base our work on a variation of the MovieLens dataset. \n",
    "The data consists of movies seen by the users, some informations about the movies, and some informations about the users. The problem consists in predicting which movies a given user might like.\n",
    "\n",
    "We are presenting you here first a naive approach in order to familarize yourself with the problem and show you how it might be solved.\n",
    "\n",
    "**Task**:\n",
    "\n",
    "The code presented is a first implementation but has a number of shortcomings in its structure and features (more on that in the conclusion). Your task consist in producing a refactoring, so as to be one step closer to a \"clean\" code.\n",
    "\n",
    "**Evaluation**:\n",
    "\n",
    "Our goal here is two fold:\n",
    "- See how you understand a problem and adapt to an already given approach to tackle it.\n",
    "- See how you can design new features.\n",
    "- See how you manipulate python code: understanding, ideas to refactor etc ...\n",
    "\n",
    "The projects will be evaluated on the quality of the source code produced."
   ]
  },
  {
   "cell_type": "markdown",
   "metadata": {
    "id": "C09qoiwchTfd"
   },
   "source": [
    "# The data\n",
    "\n",
    "## First, let's load some data."
   ]
  },
  {
   "cell_type": "code",
   "execution_count": 460,
   "metadata": {
    "colab": {
     "base_uri": "https://localhost:8080/",
     "height": 278
    },
    "id": "M4w1EYJrdvVA",
    "outputId": "c53c2a48-ddfc-40c8-e2a1-9130681cfd51"
   },
   "outputs": [
    {
     "name": "stdout",
     "output_type": "stream",
     "text": [
      "(6040, 5)\n"
     ]
    },
    {
     "data": {
      "text/html": [
       "<div>\n",
       "<style scoped>\n",
       "    .dataframe tbody tr th:only-of-type {\n",
       "        vertical-align: middle;\n",
       "    }\n",
       "\n",
       "    .dataframe tbody tr th {\n",
       "        vertical-align: top;\n",
       "    }\n",
       "\n",
       "    .dataframe thead th {\n",
       "        text-align: right;\n",
       "    }\n",
       "</style>\n",
       "<table border=\"1\" class=\"dataframe\">\n",
       "  <thead>\n",
       "    <tr style=\"text-align: right;\">\n",
       "      <th></th>\n",
       "      <th>user_id</th>\n",
       "      <th>gender</th>\n",
       "      <th>age</th>\n",
       "      <th>occupation</th>\n",
       "      <th>zip_code</th>\n",
       "    </tr>\n",
       "  </thead>\n",
       "  <tbody>\n",
       "    <tr>\n",
       "      <td>0</td>\n",
       "      <td>0</td>\n",
       "      <td>F</td>\n",
       "      <td>1</td>\n",
       "      <td>10</td>\n",
       "      <td>48067</td>\n",
       "    </tr>\n",
       "    <tr>\n",
       "      <td>1</td>\n",
       "      <td>1</td>\n",
       "      <td>M</td>\n",
       "      <td>56</td>\n",
       "      <td>16</td>\n",
       "      <td>70072</td>\n",
       "    </tr>\n",
       "    <tr>\n",
       "      <td>2</td>\n",
       "      <td>2</td>\n",
       "      <td>M</td>\n",
       "      <td>25</td>\n",
       "      <td>15</td>\n",
       "      <td>55117</td>\n",
       "    </tr>\n",
       "    <tr>\n",
       "      <td>3</td>\n",
       "      <td>3</td>\n",
       "      <td>M</td>\n",
       "      <td>45</td>\n",
       "      <td>7</td>\n",
       "      <td>02460</td>\n",
       "    </tr>\n",
       "    <tr>\n",
       "      <td>4</td>\n",
       "      <td>4</td>\n",
       "      <td>M</td>\n",
       "      <td>25</td>\n",
       "      <td>20</td>\n",
       "      <td>55455</td>\n",
       "    </tr>\n",
       "  </tbody>\n",
       "</table>\n",
       "</div>"
      ],
      "text/plain": [
       "   user_id gender  age  occupation zip_code\n",
       "0        0      F    1          10    48067\n",
       "1        1      M   56          16    70072\n",
       "2        2      M   25          15    55117\n",
       "3        3      M   45           7    02460\n",
       "4        4      M   25          20    55455"
      ]
     },
     "execution_count": 460,
     "metadata": {},
     "output_type": "execute_result"
    }
   ],
   "source": [
    "import pandas as pd\n",
    "\n",
    "users = pd.read_csv(\"data/users.csv\")\n",
    "print(users.shape)\n",
    "users.head()"
   ]
  },
  {
   "cell_type": "code",
   "execution_count": 461,
   "metadata": {
    "id": "1oGlGDVWfLD5"
   },
   "outputs": [
    {
     "name": "stdout",
     "output_type": "stream",
     "text": [
      "(3883, 21)\n"
     ]
    },
    {
     "data": {
      "text/html": [
       "<div>\n",
       "<style scoped>\n",
       "    .dataframe tbody tr th:only-of-type {\n",
       "        vertical-align: middle;\n",
       "    }\n",
       "\n",
       "    .dataframe tbody tr th {\n",
       "        vertical-align: top;\n",
       "    }\n",
       "\n",
       "    .dataframe thead th {\n",
       "        text-align: right;\n",
       "    }\n",
       "</style>\n",
       "<table border=\"1\" class=\"dataframe\">\n",
       "  <thead>\n",
       "    <tr style=\"text-align: right;\">\n",
       "      <th></th>\n",
       "      <th>movie_id</th>\n",
       "      <th>title</th>\n",
       "      <th>year</th>\n",
       "      <th>Animation</th>\n",
       "      <th>Children's</th>\n",
       "      <th>Comedy</th>\n",
       "      <th>Adventure</th>\n",
       "      <th>Fantasy</th>\n",
       "      <th>Romance</th>\n",
       "      <th>Drama</th>\n",
       "      <th>...</th>\n",
       "      <th>Crime</th>\n",
       "      <th>Thriller</th>\n",
       "      <th>Horror</th>\n",
       "      <th>Sci-Fi</th>\n",
       "      <th>Documentary</th>\n",
       "      <th>War</th>\n",
       "      <th>Musical</th>\n",
       "      <th>Mystery</th>\n",
       "      <th>Film-Noir</th>\n",
       "      <th>Western</th>\n",
       "    </tr>\n",
       "  </thead>\n",
       "  <tbody>\n",
       "    <tr>\n",
       "      <td>0</td>\n",
       "      <td>0</td>\n",
       "      <td>Toy Story</td>\n",
       "      <td>1995</td>\n",
       "      <td>1.0</td>\n",
       "      <td>1.0</td>\n",
       "      <td>1.0</td>\n",
       "      <td>0.0</td>\n",
       "      <td>0.0</td>\n",
       "      <td>0.0</td>\n",
       "      <td>0.0</td>\n",
       "      <td>...</td>\n",
       "      <td>0.0</td>\n",
       "      <td>0.0</td>\n",
       "      <td>0.0</td>\n",
       "      <td>0.0</td>\n",
       "      <td>0.0</td>\n",
       "      <td>0.0</td>\n",
       "      <td>0.0</td>\n",
       "      <td>0.0</td>\n",
       "      <td>0.0</td>\n",
       "      <td>0.0</td>\n",
       "    </tr>\n",
       "    <tr>\n",
       "      <td>1</td>\n",
       "      <td>1</td>\n",
       "      <td>Jumanji</td>\n",
       "      <td>1995</td>\n",
       "      <td>0.0</td>\n",
       "      <td>1.0</td>\n",
       "      <td>0.0</td>\n",
       "      <td>1.0</td>\n",
       "      <td>1.0</td>\n",
       "      <td>0.0</td>\n",
       "      <td>0.0</td>\n",
       "      <td>...</td>\n",
       "      <td>0.0</td>\n",
       "      <td>0.0</td>\n",
       "      <td>0.0</td>\n",
       "      <td>0.0</td>\n",
       "      <td>0.0</td>\n",
       "      <td>0.0</td>\n",
       "      <td>0.0</td>\n",
       "      <td>0.0</td>\n",
       "      <td>0.0</td>\n",
       "      <td>0.0</td>\n",
       "    </tr>\n",
       "    <tr>\n",
       "      <td>2</td>\n",
       "      <td>2</td>\n",
       "      <td>Grumpier Old Men</td>\n",
       "      <td>1995</td>\n",
       "      <td>0.0</td>\n",
       "      <td>0.0</td>\n",
       "      <td>1.0</td>\n",
       "      <td>0.0</td>\n",
       "      <td>0.0</td>\n",
       "      <td>1.0</td>\n",
       "      <td>0.0</td>\n",
       "      <td>...</td>\n",
       "      <td>0.0</td>\n",
       "      <td>0.0</td>\n",
       "      <td>0.0</td>\n",
       "      <td>0.0</td>\n",
       "      <td>0.0</td>\n",
       "      <td>0.0</td>\n",
       "      <td>0.0</td>\n",
       "      <td>0.0</td>\n",
       "      <td>0.0</td>\n",
       "      <td>0.0</td>\n",
       "    </tr>\n",
       "    <tr>\n",
       "      <td>3</td>\n",
       "      <td>3</td>\n",
       "      <td>Waiting to Exhale</td>\n",
       "      <td>1995</td>\n",
       "      <td>0.0</td>\n",
       "      <td>0.0</td>\n",
       "      <td>1.0</td>\n",
       "      <td>0.0</td>\n",
       "      <td>0.0</td>\n",
       "      <td>0.0</td>\n",
       "      <td>1.0</td>\n",
       "      <td>...</td>\n",
       "      <td>0.0</td>\n",
       "      <td>0.0</td>\n",
       "      <td>0.0</td>\n",
       "      <td>0.0</td>\n",
       "      <td>0.0</td>\n",
       "      <td>0.0</td>\n",
       "      <td>0.0</td>\n",
       "      <td>0.0</td>\n",
       "      <td>0.0</td>\n",
       "      <td>0.0</td>\n",
       "    </tr>\n",
       "    <tr>\n",
       "      <td>4</td>\n",
       "      <td>4</td>\n",
       "      <td>Father of the Bride Part II</td>\n",
       "      <td>1995</td>\n",
       "      <td>0.0</td>\n",
       "      <td>0.0</td>\n",
       "      <td>1.0</td>\n",
       "      <td>0.0</td>\n",
       "      <td>0.0</td>\n",
       "      <td>0.0</td>\n",
       "      <td>0.0</td>\n",
       "      <td>...</td>\n",
       "      <td>0.0</td>\n",
       "      <td>0.0</td>\n",
       "      <td>0.0</td>\n",
       "      <td>0.0</td>\n",
       "      <td>0.0</td>\n",
       "      <td>0.0</td>\n",
       "      <td>0.0</td>\n",
       "      <td>0.0</td>\n",
       "      <td>0.0</td>\n",
       "      <td>0.0</td>\n",
       "    </tr>\n",
       "  </tbody>\n",
       "</table>\n",
       "<p>5 rows × 21 columns</p>\n",
       "</div>"
      ],
      "text/plain": [
       "   movie_id                        title  year  Animation  Children's  Comedy  \\\n",
       "0         0                    Toy Story  1995        1.0         1.0     1.0   \n",
       "1         1                      Jumanji  1995        0.0         1.0     0.0   \n",
       "2         2             Grumpier Old Men  1995        0.0         0.0     1.0   \n",
       "3         3            Waiting to Exhale  1995        0.0         0.0     1.0   \n",
       "4         4  Father of the Bride Part II  1995        0.0         0.0     1.0   \n",
       "\n",
       "   Adventure  Fantasy  Romance  Drama  ...  Crime  Thriller  Horror  Sci-Fi  \\\n",
       "0        0.0      0.0      0.0    0.0  ...    0.0       0.0     0.0     0.0   \n",
       "1        1.0      1.0      0.0    0.0  ...    0.0       0.0     0.0     0.0   \n",
       "2        0.0      0.0      1.0    0.0  ...    0.0       0.0     0.0     0.0   \n",
       "3        0.0      0.0      0.0    1.0  ...    0.0       0.0     0.0     0.0   \n",
       "4        0.0      0.0      0.0    0.0  ...    0.0       0.0     0.0     0.0   \n",
       "\n",
       "   Documentary  War  Musical  Mystery  Film-Noir  Western  \n",
       "0          0.0  0.0      0.0      0.0        0.0      0.0  \n",
       "1          0.0  0.0      0.0      0.0        0.0      0.0  \n",
       "2          0.0  0.0      0.0      0.0        0.0      0.0  \n",
       "3          0.0  0.0      0.0      0.0        0.0      0.0  \n",
       "4          0.0  0.0      0.0      0.0        0.0      0.0  \n",
       "\n",
       "[5 rows x 21 columns]"
      ]
     },
     "execution_count": 461,
     "metadata": {},
     "output_type": "execute_result"
    }
   ],
   "source": [
    "movies = pd.read_csv(\"data/movies.csv\")\n",
    "print(movies.shape)\n",
    "movies.head()"
   ]
  },
  {
   "cell_type": "code",
   "execution_count": 462,
   "metadata": {
    "id": "f06rRH9OetFc"
   },
   "outputs": [
    {
     "name": "stdout",
     "output_type": "stream",
     "text": [
      "(1000209, 3)\n"
     ]
    },
    {
     "data": {
      "text/html": [
       "<div>\n",
       "<style scoped>\n",
       "    .dataframe tbody tr th:only-of-type {\n",
       "        vertical-align: middle;\n",
       "    }\n",
       "\n",
       "    .dataframe tbody tr th {\n",
       "        vertical-align: top;\n",
       "    }\n",
       "\n",
       "    .dataframe thead th {\n",
       "        text-align: right;\n",
       "    }\n",
       "</style>\n",
       "<table border=\"1\" class=\"dataframe\">\n",
       "  <thead>\n",
       "    <tr style=\"text-align: right;\">\n",
       "      <th></th>\n",
       "      <th>user_id</th>\n",
       "      <th>movie_id</th>\n",
       "      <th>rating</th>\n",
       "    </tr>\n",
       "  </thead>\n",
       "  <tbody>\n",
       "    <tr>\n",
       "      <td>0</td>\n",
       "      <td>0</td>\n",
       "      <td>1192</td>\n",
       "      <td>5</td>\n",
       "    </tr>\n",
       "    <tr>\n",
       "      <td>1</td>\n",
       "      <td>0</td>\n",
       "      <td>660</td>\n",
       "      <td>3</td>\n",
       "    </tr>\n",
       "    <tr>\n",
       "      <td>2</td>\n",
       "      <td>0</td>\n",
       "      <td>913</td>\n",
       "      <td>3</td>\n",
       "    </tr>\n",
       "    <tr>\n",
       "      <td>3</td>\n",
       "      <td>0</td>\n",
       "      <td>3407</td>\n",
       "      <td>4</td>\n",
       "    </tr>\n",
       "    <tr>\n",
       "      <td>4</td>\n",
       "      <td>0</td>\n",
       "      <td>2354</td>\n",
       "      <td>5</td>\n",
       "    </tr>\n",
       "  </tbody>\n",
       "</table>\n",
       "</div>"
      ],
      "text/plain": [
       "   user_id  movie_id  rating\n",
       "0        0      1192       5\n",
       "1        0       660       3\n",
       "2        0       913       3\n",
       "3        0      3407       4\n",
       "4        0      2354       5"
      ]
     },
     "execution_count": 462,
     "metadata": {},
     "output_type": "execute_result"
    }
   ],
   "source": [
    "ratings = pd.read_csv(\"data/ratings.csv\")\n",
    "print(ratings.shape) # Over 1M ratings\n",
    "ratings.head()"
   ]
  },
  {
   "cell_type": "markdown",
   "metadata": {},
   "source": [
    "## EDA :\n",
    "\n",
    "Before anything else, I think it is important and relevant to do some exploratory data analysis to know what we are working with and to maybe detect some anomalies in the dataset (presence of *NaN* values, negative ratings, no movie genre assigned, etc...)\n",
    "\n",
    "\n",
    "### Number of occurences for each movie genre :"
   ]
  },
  {
   "cell_type": "code",
   "execution_count": 463,
   "metadata": {},
   "outputs": [
    {
     "data": {
      "text/plain": [
       "Text(0, 0.5, 'Occurences of each genres')"
      ]
     },
     "execution_count": 463,
     "metadata": {},
     "output_type": "execute_result"
    },
    {
     "data": {
      "image/png": "[encoded data removed]",
      "text/plain": [
       "<Figure size 1296x1152 with 1 Axes>"
      ]
     },
     "metadata": {
      "needs_background": "light"
     },
     "output_type": "display_data"
    }
   ],
   "source": [
    "import matplotlib.pyplot as plt\n",
    "import numpy as np\n",
    "\n",
    "genre_cols = [\"Animation\", \"Children's\", \n",
    "       'Comedy', 'Adventure', 'Fantasy', 'Romance', 'Drama',\n",
    "       'Action', 'Crime', 'Thriller', 'Horror', 'Sci-Fi', 'Documentary', 'War',\n",
    "       'Musical', 'Mystery', 'Film-Noir', 'Western']\n",
    "\n",
    "occurences_of_each_genre = movies[genre_cols].sum()\n",
    "\n",
    "plt.figure(figsize=(18,16))\n",
    "plt.bar(np.arange(len(occurences_of_each_genre)),occurences_of_each_genre.to_list())\n",
    "plt.xticks(np.arange(len(occurences_of_each_genre)),genre_cols)\n",
    "plt.xlabel('Genres')\n",
    "plt.ylabel('Occurences of each genres')"
   ]
  },
  {
   "cell_type": "markdown",
   "metadata": {},
   "source": [
    "This bar chart allows us to see the distribution of each movie genre present in the dataset. \n",
    "Drama and Comedy are obviously the two most prominent genres in this study.\n",
    "\n",
    "### Count of occurences for the different number of genres for movies"
   ]
  },
  {
   "cell_type": "code",
   "execution_count": 464,
   "metadata": {},
   "outputs": [
    {
     "data": {
      "text/plain": [
       "Text(0.5, 0, 'Number of genres for a movie')"
      ]
     },
     "execution_count": 464,
     "metadata": {},
     "output_type": "execute_result"
    },
    {
     "data": {
      "image/png": "[encoded data removed]",
      "text/plain": [
       "<Figure size 432x288 with 1 Axes>"
      ]
     },
     "metadata": {
      "needs_background": "light"
     },
     "output_type": "display_data"
    }
   ],
   "source": [
    "nb_gender_per_movies = movies[genre_cols]\n",
    "nb_gender_per_movies.loc[:,'count']=movies[genre_cols].sum(axis=1)\n",
    "\n",
    "nb_gender_set=list(set(nb_gender_per_movies['count']))\n",
    "\n",
    "counts_nb_gender = list()\n",
    "for i in nb_gender_set:\n",
    "    counts_nb_gender.append(nb_gender_per_movies.loc[nb_gender_per_movies['count']==i].shape[0])\n",
    "    \n",
    "plt.bar(nb_gender_set,counts_nb_gender)\n",
    "plt.xticks(nb_gender_set,nb_gender_set)\n",
    "plt.ylabel('Occurences of the number of genres')\n",
    "plt.xlabel('Number of genres for a movie')"
   ]
  },
  {
   "cell_type": "markdown",
   "metadata": {},
   "source": [
    "We can see two relevant informations on this bar chart :\n",
    "\n",
    "1. No movie has 0 genre assigned, which is good to know for the rest of the study.\n",
    "\n",
    "2. Most movies are concentrated in the first two bars, which means that a large majority of them is assigned to one or two genres. This will also reveal to be relevant in what's comming next.\n",
    "\n",
    "We might now want to explore in details the most common movie genre to see how they compose with other genres.\n",
    "\n",
    "### Drama and comedy genres study"
   ]
  },
  {
   "cell_type": "code",
   "execution_count": 465,
   "metadata": {},
   "outputs": [
    {
     "data": {
      "text/plain": [
       "Text(0.5, 0, 'Number of genres for a comedy movie')"
      ]
     },
     "execution_count": 465,
     "metadata": {},
     "output_type": "execute_result"
    },
    {
     "data": {
      "image/png": "[encoded data removed]",
      "text/plain": [
       "<Figure size 432x288 with 1 Axes>"
      ]
     },
     "metadata": {
      "needs_background": "light"
     },
     "output_type": "display_data"
    },
    {
     "data": {
      "image/png": "[encoded data removed]",
      "text/plain": [
       "<Figure size 432x288 with 1 Axes>"
      ]
     },
     "metadata": {
      "needs_background": "light"
     },
     "output_type": "display_data"
    }
   ],
   "source": [
    "nb_gender_per_drama_movies = movies[genre_cols].loc[nb_gender_per_movies['Drama']==1]\n",
    "nb_gender_per_drama_movies.loc[:,'count']=movies[genre_cols].loc[nb_gender_per_movies['Drama']==1].sum(axis=1)\n",
    "\n",
    "nb_gender_per_comedy_movies = movies[genre_cols].loc[nb_gender_per_movies['Comedy']==1]\n",
    "nb_gender_per_comedy_movies.loc[:,'count']=movies[genre_cols].loc[nb_gender_per_movies['Comedy']==1].sum(axis=1)\n",
    "\n",
    "nb_gender_drama_set=list(set(nb_gender_per_drama_movies['count']))\n",
    "nb_gender_comedy_set=list(set(nb_gender_per_comedy_movies['count']))\n",
    "\n",
    "counts_nb_gender_drama = list()\n",
    "counts_nb_gender_comedy = list()\n",
    "\n",
    "for i in nb_gender_drama_set:\n",
    "    counts_nb_gender_drama.append(nb_gender_per_drama_movies.loc[nb_gender_per_drama_movies['count']==i].shape[0])\n",
    "    \n",
    "for i in nb_gender_comedy_set:\n",
    "    counts_nb_gender_comedy.append(nb_gender_per_comedy_movies.loc[nb_gender_per_comedy_movies['count']==i].shape[0])\n",
    "    \n",
    "plt.bar(nb_gender_drama_set,counts_nb_gender_drama)\n",
    "plt.xticks(nb_gender_drama_set,nb_gender_drama_set)\n",
    "plt.ylabel('Occurences of the number of genres')\n",
    "plt.xlabel('Number of genres for a drama movie')\n",
    "\n",
    "plt.figure(2)\n",
    "plt.bar(nb_gender_comedy_set,counts_nb_gender_comedy)\n",
    "plt.xticks(nb_gender_comedy_set,nb_gender_comedy_set)\n",
    "plt.ylabel('Occurences of the number of genres')\n",
    "plt.xlabel('Number of genres for a comedy movie')"
   ]
  },
  {
   "cell_type": "markdown",
   "metadata": {},
   "source": [
    "This informs us that drama and comedy genres follows the general trend of movies: most of them have 1 or 2 genres assigned.\n",
    "    \n",
    "### Ratings distribution"
   ]
  },
  {
   "cell_type": "code",
   "execution_count": 466,
   "metadata": {},
   "outputs": [
    {
     "data": {
      "text/plain": [
       "Text(0, 0.5, 'Occurences of each rating')"
      ]
     },
     "execution_count": 466,
     "metadata": {},
     "output_type": "execute_result"
    },
    {
     "data": {
      "image/png": "[encoded data removed]",
      "text/plain": [
       "<Figure size 432x288 with 1 Axes>"
      ]
     },
     "metadata": {
      "needs_background": "light"
     },
     "output_type": "display_data"
    }
   ],
   "source": [
    "ratings_counts = []\n",
    "ratings_set = list(set(ratings['rating']))\n",
    "\n",
    "for i in ratings_set:\n",
    "    ratings_counts.append(ratings.loc[ratings['rating']==i].shape[0])\n",
    "    \n",
    "plt.bar(ratings_set,ratings_counts)\n",
    "plt.xticks(ratings_set,ratings_set)\n",
    "plt.xlabel('Ratings')\n",
    "plt.ylabel('Occurences of each rating')"
   ]
  },
  {
   "cell_type": "markdown",
   "metadata": {},
   "source": [
    "This chart teaches us two important things :\n",
    "\n",
    "1. The ratings are discrete and entirely in the {1,2,3,4,5} set (no 0, negative, or NaN rating).\n",
    "2. Most ratings are concentrated between 3 and 5."
   ]
  },
  {
   "cell_type": "markdown",
   "metadata": {},
   "source": [
    "### Dataframe merging for correlation heatmap studies (find relevant features)\n",
    "\n",
    "Here, we are going to merge the data with the foreign keys included in the dataset (`movie_id` and `user_id`) :\n"
   ]
  },
  {
   "cell_type": "code",
   "execution_count": 467,
   "metadata": {},
   "outputs": [],
   "source": [
    "import seaborn as sns\n",
    "\n",
    "\n",
    "columns = genre_cols+['movie_id','user_id','occupation','zip_code','year','gender','age','rating']\n",
    "df = movies.merge(ratings,left_on='movie_id',right_on='movie_id').merge(users,left_on='user_id',right_on='user_id')[columns]\n",
    "\n",
    "df = pd.concat([df,pd.get_dummies(df['gender'],prefix='gender')],axis=1).drop(['gender'],axis=1) # one-hot encode the gender feature\n",
    "df = pd.concat([df,pd.get_dummies(df['occupation'],prefix='occupation')],axis=1).drop(['occupation'],axis=1) # one-hot encode the occupation feature\n",
    "corr_pearson = df.corr().loc['rating'].apply(abs)"
   ]
  },
  {
   "cell_type": "code",
   "execution_count": 468,
   "metadata": {},
   "outputs": [
    {
     "data": {
      "text/plain": [
       "<matplotlib.axes._subplots.AxesSubplot at 0x2251e7e6888>"
      ]
     },
     "execution_count": 468,
     "metadata": {},
     "output_type": "execute_result"
    },
    {
     "data": {
      "image/png": "[encoded data removed]",
      "text/plain": [
       "<Figure size 720x720 with 2 Axes>"
      ]
     },
     "metadata": {
      "needs_background": "light"
     },
     "output_type": "display_data"
    }
   ],
   "source": [
    "fig, ax = plt.subplots(figsize=(10,10)) \n",
    "sns.heatmap(pd.DataFrame(corr_pearson),center=0)"
   ]
  },
  {
   "cell_type": "markdown",
   "metadata": {},
   "source": [
    "From this heatmap of correlation, we can conclude one main thing : the profile of a user (age, occupation, gender) does not seem to have an effect on their rating. \n",
    "\n",
    "Therefore, if we want to include a feature where a user get recommendations based on other similar users, it would have to be more about their tastes in movies rather than their profile. \n",
    "\n",
    "### EDA Conclusion\n",
    "\n",
    "From this exploratory data analysis we learned a few relevant information. \n",
    "\n",
    "First, and a very important one, is that all the data is in the expected shape. Every movie has atleast one genre assigned, every rating is between 1 and 5. This will allow us to work on the data without the fear of having to deal with unconform data.\n",
    "\n",
    "Second, we now know that most movies have 1 or 2 genres assigned, and that is also true for `Drama` and `Comedy` genres which are the most popular. Also, the ratings are mostly comprised of *3,4 and 5* ratings.\n",
    "\n",
    "Third, in the case of implementation of a recommendation based on similar users, it would not be relevant to use the profile (gender, occupation or age), but rather go for tastes in common."
   ]
  },
  {
   "cell_type": "markdown",
   "metadata": {
    "id": "YZVOENCtl83E"
   },
   "source": [
    "# Content-based Filtering\n",
    "\n",
    "Content-based filtering uses item features to recommend other items similar to what the user likes, based on their previous actions or explicit feedback. We dont use other users information !\n",
    "\n",
    "For example, if user `A` liked `Harry Potter 1`, he/she will like `Harry Potter 2`"
   ]
  },
  {
   "cell_type": "code",
   "execution_count": 469,
   "metadata": {
    "colab": {
     "base_uri": "https://localhost:8080/",
     "height": 322
    },
    "id": "FZ4yhO-4Zx15",
    "jupyter": {
     "source_hidden": true
    },
    "outputId": "5739f88e-b73d-497d-928d-3608df9cd724"
   },
   "outputs": [
    {
     "data": {
      "text/html": [
       "<img src='https://miro.medium.com/max/1642/1*BME1JjIlBEAI9BV5pOO5Mg.png' height=\"300\" width=\"250\"/>\n"
      ],
      "text/plain": [
       "<IPython.core.display.HTML object>"
      ]
     },
     "metadata": {},
     "output_type": "display_data"
    }
   ],
   "source": [
    "%%html\n",
    "<img src='https://miro.medium.com/max/1642/1*BME1JjIlBEAI9BV5pOO5Mg.png' height=\"300\" width=\"250\"/>"
   ]
  },
  {
   "cell_type": "markdown",
   "metadata": {
    "id": "PfVv_CVWagIo"
   },
   "source": [
    "What are similar movies ? In order to answer to this question we need to build a similiarity measure. \n",
    "\n",
    "## Features\n",
    "\n",
    "This measure will operate on the characteristics (**features**) of the movies to determine which are close. In our case, we have access to the genres of the movies. For example, the genres of `Toy Story` are: `Animation`, `Children's` and `Comedy`. This is represented as follow in our dataset:"
   ]
  },
  {
   "cell_type": "code",
   "execution_count": 470,
   "metadata": {
    "id": "1noUwSktbEUJ"
   },
   "outputs": [
    {
     "data": {
      "text/html": [
       "<div>\n",
       "<style scoped>\n",
       "    .dataframe tbody tr th:only-of-type {\n",
       "        vertical-align: middle;\n",
       "    }\n",
       "\n",
       "    .dataframe tbody tr th {\n",
       "        vertical-align: top;\n",
       "    }\n",
       "\n",
       "    .dataframe thead th {\n",
       "        text-align: right;\n",
       "    }\n",
       "</style>\n",
       "<table border=\"1\" class=\"dataframe\">\n",
       "  <thead>\n",
       "    <tr style=\"text-align: right;\">\n",
       "      <th></th>\n",
       "      <th>title</th>\n",
       "      <th>Animation</th>\n",
       "      <th>Children's</th>\n",
       "      <th>Comedy</th>\n",
       "      <th>Adventure</th>\n",
       "      <th>Fantasy</th>\n",
       "      <th>Romance</th>\n",
       "      <th>Drama</th>\n",
       "      <th>Action</th>\n",
       "      <th>Crime</th>\n",
       "      <th>Thriller</th>\n",
       "      <th>Horror</th>\n",
       "      <th>Sci-Fi</th>\n",
       "      <th>Documentary</th>\n",
       "      <th>War</th>\n",
       "      <th>Musical</th>\n",
       "      <th>Mystery</th>\n",
       "      <th>Film-Noir</th>\n",
       "      <th>Western</th>\n",
       "    </tr>\n",
       "  </thead>\n",
       "  <tbody>\n",
       "    <tr>\n",
       "      <td>0</td>\n",
       "      <td>Toy Story</td>\n",
       "      <td>1.0</td>\n",
       "      <td>1.0</td>\n",
       "      <td>1.0</td>\n",
       "      <td>0.0</td>\n",
       "      <td>0.0</td>\n",
       "      <td>0.0</td>\n",
       "      <td>0.0</td>\n",
       "      <td>0.0</td>\n",
       "      <td>0.0</td>\n",
       "      <td>0.0</td>\n",
       "      <td>0.0</td>\n",
       "      <td>0.0</td>\n",
       "      <td>0.0</td>\n",
       "      <td>0.0</td>\n",
       "      <td>0.0</td>\n",
       "      <td>0.0</td>\n",
       "      <td>0.0</td>\n",
       "      <td>0.0</td>\n",
       "    </tr>\n",
       "    <tr>\n",
       "      <td>1</td>\n",
       "      <td>Jumanji</td>\n",
       "      <td>0.0</td>\n",
       "      <td>1.0</td>\n",
       "      <td>0.0</td>\n",
       "      <td>1.0</td>\n",
       "      <td>1.0</td>\n",
       "      <td>0.0</td>\n",
       "      <td>0.0</td>\n",
       "      <td>0.0</td>\n",
       "      <td>0.0</td>\n",
       "      <td>0.0</td>\n",
       "      <td>0.0</td>\n",
       "      <td>0.0</td>\n",
       "      <td>0.0</td>\n",
       "      <td>0.0</td>\n",
       "      <td>0.0</td>\n",
       "      <td>0.0</td>\n",
       "      <td>0.0</td>\n",
       "      <td>0.0</td>\n",
       "    </tr>\n",
       "    <tr>\n",
       "      <td>2</td>\n",
       "      <td>Grumpier Old Men</td>\n",
       "      <td>0.0</td>\n",
       "      <td>0.0</td>\n",
       "      <td>1.0</td>\n",
       "      <td>0.0</td>\n",
       "      <td>0.0</td>\n",
       "      <td>1.0</td>\n",
       "      <td>0.0</td>\n",
       "      <td>0.0</td>\n",
       "      <td>0.0</td>\n",
       "      <td>0.0</td>\n",
       "      <td>0.0</td>\n",
       "      <td>0.0</td>\n",
       "      <td>0.0</td>\n",
       "      <td>0.0</td>\n",
       "      <td>0.0</td>\n",
       "      <td>0.0</td>\n",
       "      <td>0.0</td>\n",
       "      <td>0.0</td>\n",
       "    </tr>\n",
       "    <tr>\n",
       "      <td>3</td>\n",
       "      <td>Waiting to Exhale</td>\n",
       "      <td>0.0</td>\n",
       "      <td>0.0</td>\n",
       "      <td>1.0</td>\n",
       "      <td>0.0</td>\n",
       "      <td>0.0</td>\n",
       "      <td>0.0</td>\n",
       "      <td>1.0</td>\n",
       "      <td>0.0</td>\n",
       "      <td>0.0</td>\n",
       "      <td>0.0</td>\n",
       "      <td>0.0</td>\n",
       "      <td>0.0</td>\n",
       "      <td>0.0</td>\n",
       "      <td>0.0</td>\n",
       "      <td>0.0</td>\n",
       "      <td>0.0</td>\n",
       "      <td>0.0</td>\n",
       "      <td>0.0</td>\n",
       "    </tr>\n",
       "    <tr>\n",
       "      <td>4</td>\n",
       "      <td>Father of the Bride Part II</td>\n",
       "      <td>0.0</td>\n",
       "      <td>0.0</td>\n",
       "      <td>1.0</td>\n",
       "      <td>0.0</td>\n",
       "      <td>0.0</td>\n",
       "      <td>0.0</td>\n",
       "      <td>0.0</td>\n",
       "      <td>0.0</td>\n",
       "      <td>0.0</td>\n",
       "      <td>0.0</td>\n",
       "      <td>0.0</td>\n",
       "      <td>0.0</td>\n",
       "      <td>0.0</td>\n",
       "      <td>0.0</td>\n",
       "      <td>0.0</td>\n",
       "      <td>0.0</td>\n",
       "      <td>0.0</td>\n",
       "      <td>0.0</td>\n",
       "    </tr>\n",
       "  </tbody>\n",
       "</table>\n",
       "</div>"
      ],
      "text/plain": [
       "                         title  Animation  Children's  Comedy  Adventure  \\\n",
       "0                    Toy Story        1.0         1.0     1.0        0.0   \n",
       "1                      Jumanji        0.0         1.0     0.0        1.0   \n",
       "2             Grumpier Old Men        0.0         0.0     1.0        0.0   \n",
       "3            Waiting to Exhale        0.0         0.0     1.0        0.0   \n",
       "4  Father of the Bride Part II        0.0         0.0     1.0        0.0   \n",
       "\n",
       "   Fantasy  Romance  Drama  Action  Crime  Thriller  Horror  Sci-Fi  \\\n",
       "0      0.0      0.0    0.0     0.0    0.0       0.0     0.0     0.0   \n",
       "1      1.0      0.0    0.0     0.0    0.0       0.0     0.0     0.0   \n",
       "2      0.0      1.0    0.0     0.0    0.0       0.0     0.0     0.0   \n",
       "3      0.0      0.0    1.0     0.0    0.0       0.0     0.0     0.0   \n",
       "4      0.0      0.0    0.0     0.0    0.0       0.0     0.0     0.0   \n",
       "\n",
       "   Documentary  War  Musical  Mystery  Film-Noir  Western  \n",
       "0          0.0  0.0      0.0      0.0        0.0      0.0  \n",
       "1          0.0  0.0      0.0      0.0        0.0      0.0  \n",
       "2          0.0  0.0      0.0      0.0        0.0      0.0  \n",
       "3          0.0  0.0      0.0      0.0        0.0      0.0  \n",
       "4          0.0  0.0      0.0      0.0        0.0      0.0  "
      ]
     },
     "execution_count": 470,
     "metadata": {},
     "output_type": "execute_result"
    }
   ],
   "source": [
    "genre_and_title_cols = ['title'] + genre_cols \n",
    "\n",
    "movies[genre_and_title_cols].head()"
   ]
  },
  {
   "cell_type": "markdown",
   "metadata": {
    "id": "f-jorqHSb8LA"
   },
   "source": [
    "## Similarity\n",
    "\n",
    "Now that we have some features, we will try to find a function that performs a similiarity measure. The Similarity function will take two items (two list of features) and return a number proportional to their similarity. \n",
    "\n",
    "For the following we will consider that the Similarity between two movies is the number of genres they have in common.\n",
    "\n",
    "Here is an example with `Toy Story` and `E.T`"
   ]
  },
  {
   "cell_type": "code",
   "execution_count": 471,
   "metadata": {
    "colab": {
     "base_uri": "https://localhost:8080/"
    },
    "id": "YBBh17Rfc6SJ",
    "outputId": "f854fe57-36b7-4f3c-9c8b-2d3e97726863"
   },
   "outputs": [
    {
     "data": {
      "text/plain": [
       "Animation      1.0\n",
       "Children's     1.0\n",
       "Comedy         1.0\n",
       "Adventure      0.0\n",
       "Fantasy        0.0\n",
       "Romance        0.0\n",
       "Drama          0.0\n",
       "Action         0.0\n",
       "Crime          0.0\n",
       "Thriller       0.0\n",
       "Horror         0.0\n",
       "Sci-Fi         0.0\n",
       "Documentary    0.0\n",
       "War            0.0\n",
       "Musical        0.0\n",
       "Mystery        0.0\n",
       "Film-Noir      0.0\n",
       "Western        0.0\n",
       "Name: 0, dtype: float64"
      ]
     },
     "execution_count": 471,
     "metadata": {},
     "output_type": "execute_result"
    }
   ],
   "source": [
    "toy_story_genres = movies[genre_and_title_cols].loc[movies.title == 'Toy Story'][genre_cols].iloc[0]\n",
    "toy_story_genres"
   ]
  },
  {
   "cell_type": "code",
   "execution_count": 472,
   "metadata": {
    "colab": {
     "base_uri": "https://localhost:8080/"
    },
    "id": "o6ieFMXGb7Rx",
    "outputId": "a30a5499-c875-4ef5-b4f1-9a633064a7a4"
   },
   "outputs": [
    {
     "data": {
      "text/plain": [
       "Animation      0.0\n",
       "Children's     1.0\n",
       "Comedy         0.0\n",
       "Adventure      0.0\n",
       "Fantasy        1.0\n",
       "Romance        0.0\n",
       "Drama          1.0\n",
       "Action         0.0\n",
       "Crime          0.0\n",
       "Thriller       0.0\n",
       "Horror         0.0\n",
       "Sci-Fi         1.0\n",
       "Documentary    0.0\n",
       "War            0.0\n",
       "Musical        0.0\n",
       "Mystery        0.0\n",
       "Film-Noir      0.0\n",
       "Western        0.0\n",
       "Name: 1081, dtype: float64"
      ]
     },
     "execution_count": 472,
     "metadata": {},
     "output_type": "execute_result"
    }
   ],
   "source": [
    "et_genres = movies[genre_and_title_cols].loc[movies.title == 'E.T. the Extra-Terrestrial'][genre_cols].iloc[0]\n",
    "et_genres"
   ]
  },
  {
   "cell_type": "code",
   "execution_count": 473,
   "metadata": {
    "colab": {
     "base_uri": "https://localhost:8080/"
    },
    "id": "BZ82Q6GPYa7J",
    "outputId": "1f223d04-16b6-47c8-d526-6ef2adb90ac8"
   },
   "outputs": [
    {
     "data": {
      "text/plain": [
       "Animation      0.0\n",
       "Children's     1.0\n",
       "Comedy         0.0\n",
       "Adventure      0.0\n",
       "Fantasy        0.0\n",
       "Romance        0.0\n",
       "Drama          0.0\n",
       "Action         0.0\n",
       "Crime          0.0\n",
       "Thriller       0.0\n",
       "Horror         0.0\n",
       "Sci-Fi         0.0\n",
       "Documentary    0.0\n",
       "War            0.0\n",
       "Musical        0.0\n",
       "Mystery        0.0\n",
       "Film-Noir      0.0\n",
       "Western        0.0\n",
       "Name: 0, dtype: float64"
      ]
     },
     "execution_count": 473,
     "metadata": {},
     "output_type": "execute_result"
    }
   ],
   "source": [
    "et_genres.values * toy_story_genres"
   ]
  },
  {
   "cell_type": "code",
   "execution_count": 474,
   "metadata": {
    "colab": {
     "base_uri": "https://localhost:8080/"
    },
    "id": "kqD2q2_Se12z",
    "outputId": "43d355f6-c654-4e2e-cd3c-f852e2fd234f"
   },
   "outputs": [
    {
     "data": {
      "text/plain": [
       "0.3333333333333333"
      ]
     },
     "execution_count": 474,
     "metadata": {},
     "output_type": "execute_result"
    }
   ],
   "source": [
    "(et_genres.values * toy_story_genres).sum()/(toy_story_genres.values.sum()) # scalar product divided by the number of genres of Toy Story"
   ]
  },
  {
   "cell_type": "markdown",
   "metadata": {},
   "source": [
    "So our similarity measure returns `0.3333333333333333` for these two movies - because one out of three of the genres of Toy Story is shared with E.T (`Children`).\n",
    "\n",
    "Let's see another example where we compare `Toy Stories` and `Pocahontas`"
   ]
  },
  {
   "cell_type": "code",
   "execution_count": 475,
   "metadata": {},
   "outputs": [
    {
     "data": {
      "text/plain": [
       "Animation      1.0\n",
       "Children's     1.0\n",
       "Comedy         0.0\n",
       "Adventure      0.0\n",
       "Fantasy        0.0\n",
       "Romance        1.0\n",
       "Drama          0.0\n",
       "Action         0.0\n",
       "Crime          0.0\n",
       "Thriller       0.0\n",
       "Horror         0.0\n",
       "Sci-Fi         0.0\n",
       "Documentary    0.0\n",
       "War            0.0\n",
       "Musical        1.0\n",
       "Mystery        0.0\n",
       "Film-Noir      0.0\n",
       "Western        0.0\n",
       "Name: 47, dtype: float64"
      ]
     },
     "execution_count": 475,
     "metadata": {},
     "output_type": "execute_result"
    }
   ],
   "source": [
    "pocahontas_genres = movies[genre_and_title_cols].loc[movies.title == 'Pocahontas'][genre_cols].iloc[0]\n",
    "pocahontas_genres"
   ]
  },
  {
   "cell_type": "code",
   "execution_count": 476,
   "metadata": {},
   "outputs": [
    {
     "data": {
      "text/plain": [
       "0.6666666666666666"
      ]
     },
     "execution_count": 476,
     "metadata": {},
     "output_type": "execute_result"
    }
   ],
   "source": [
    "(pocahontas_genres.values * toy_story_genres).sum()/(toy_story_genres.values.sum())"
   ]
  },
  {
   "cell_type": "markdown",
   "metadata": {},
   "source": [
    "This tells us that `Pocahontas` is closer to `Toy Stories` than `E.T.` which makes sense - two out of the three genres of Toy Story is found in Pocahontas (`Animation` and `Children`).\n",
    "\n",
    "I took the decision of normalizing the similarity between 0 and 1, because this way we have shared boundaries of similarity for every movie.\n",
    "Top similarity is 1, bottom similarity is 0."
   ]
  },
  {
   "cell_type": "markdown",
   "metadata": {
    "id": "X8ofE1Saoy0E"
   },
   "source": [
    "## Scaling up\n",
    "\n",
    "Ok, that's a nice measure. Now we are going to scale it up to all movies of our dataset. To do so smartly, let's take a look at the operation we just did, but from a mathematical point of view. To do so, we will think of the list of features of a movie as a vector `V`. Then, our similarity measure between `Toy Story` and `E.T.` becomes:\n",
    "$ V_{ToyStory} \\cdot V_{ET}^{T}$\n",
    "\n",
    "More generally the similarity measure between a movie `i` and another movie `j` is : $ V_{i} \\cdot V_{j}^{T}$\n",
    "\n",
    "Now we can think of `movies` as a matrix containing all features vectors describing the movies. Here is how our similiarity measure looks in this context:"
   ]
  },
  {
   "cell_type": "markdown",
   "metadata": {
    "id": "IhMxm6S1SrPb"
   },
   "source": [
    "![](imgs/dot_product_matrices.png)"
   ]
  },
  {
   "cell_type": "markdown",
   "metadata": {},
   "source": [
    "To obtain the similiarity between all movies of our dataset we have to perform the dot product of the `movies` matrix with the transposed of the `movies` matrix.\n",
    "The `lambda` function allows to divide each row by the sum of the row. This way, the resulting similarity matrix is normalized between 0 and 1."
   ]
  },
  {
   "cell_type": "code",
   "execution_count": 477,
   "metadata": {
    "colab": {
     "base_uri": "https://localhost:8080/"
    },
    "id": "Sc0c4IOie14q",
    "outputId": "b53c89d7-a1b5-495a-e94e-00df0f144cc6"
   },
   "outputs": [
    {
     "data": {
      "text/html": [
       "<div>\n",
       "<style scoped>\n",
       "    .dataframe tbody tr th:only-of-type {\n",
       "        vertical-align: middle;\n",
       "    }\n",
       "\n",
       "    .dataframe tbody tr th {\n",
       "        vertical-align: top;\n",
       "    }\n",
       "\n",
       "    .dataframe thead th {\n",
       "        text-align: right;\n",
       "    }\n",
       "</style>\n",
       "<table border=\"1\" class=\"dataframe\">\n",
       "  <thead>\n",
       "    <tr style=\"text-align: right;\">\n",
       "      <th>movie_id</th>\n",
       "      <th>0</th>\n",
       "      <th>1</th>\n",
       "      <th>2</th>\n",
       "      <th>3</th>\n",
       "      <th>4</th>\n",
       "      <th>5</th>\n",
       "      <th>6</th>\n",
       "      <th>7</th>\n",
       "      <th>8</th>\n",
       "      <th>9</th>\n",
       "      <th>...</th>\n",
       "      <th>3942</th>\n",
       "      <th>3943</th>\n",
       "      <th>3944</th>\n",
       "      <th>3945</th>\n",
       "      <th>3946</th>\n",
       "      <th>3947</th>\n",
       "      <th>3948</th>\n",
       "      <th>3949</th>\n",
       "      <th>3950</th>\n",
       "      <th>3951</th>\n",
       "    </tr>\n",
       "    <tr>\n",
       "      <th>movie_id</th>\n",
       "      <th></th>\n",
       "      <th></th>\n",
       "      <th></th>\n",
       "      <th></th>\n",
       "      <th></th>\n",
       "      <th></th>\n",
       "      <th></th>\n",
       "      <th></th>\n",
       "      <th></th>\n",
       "      <th></th>\n",
       "      <th></th>\n",
       "      <th></th>\n",
       "      <th></th>\n",
       "      <th></th>\n",
       "      <th></th>\n",
       "      <th></th>\n",
       "      <th></th>\n",
       "      <th></th>\n",
       "      <th></th>\n",
       "      <th></th>\n",
       "      <th></th>\n",
       "    </tr>\n",
       "  </thead>\n",
       "  <tbody>\n",
       "    <tr>\n",
       "      <td>0</td>\n",
       "      <td>1.000000</td>\n",
       "      <td>0.333333</td>\n",
       "      <td>0.333333</td>\n",
       "      <td>0.333333</td>\n",
       "      <td>0.333333</td>\n",
       "      <td>0.0</td>\n",
       "      <td>0.333333</td>\n",
       "      <td>0.333333</td>\n",
       "      <td>0.0</td>\n",
       "      <td>0.000000</td>\n",
       "      <td>...</td>\n",
       "      <td>0.333333</td>\n",
       "      <td>0.333333</td>\n",
       "      <td>0.666667</td>\n",
       "      <td>0.0</td>\n",
       "      <td>0.0</td>\n",
       "      <td>0.333333</td>\n",
       "      <td>0.0</td>\n",
       "      <td>0.0</td>\n",
       "      <td>0.0</td>\n",
       "      <td>0.0</td>\n",
       "    </tr>\n",
       "    <tr>\n",
       "      <td>1</td>\n",
       "      <td>0.333333</td>\n",
       "      <td>1.000000</td>\n",
       "      <td>0.000000</td>\n",
       "      <td>0.000000</td>\n",
       "      <td>0.000000</td>\n",
       "      <td>0.0</td>\n",
       "      <td>0.000000</td>\n",
       "      <td>0.666667</td>\n",
       "      <td>0.0</td>\n",
       "      <td>0.333333</td>\n",
       "      <td>...</td>\n",
       "      <td>0.000000</td>\n",
       "      <td>0.000000</td>\n",
       "      <td>0.666667</td>\n",
       "      <td>0.0</td>\n",
       "      <td>0.0</td>\n",
       "      <td>0.000000</td>\n",
       "      <td>0.0</td>\n",
       "      <td>0.0</td>\n",
       "      <td>0.0</td>\n",
       "      <td>0.0</td>\n",
       "    </tr>\n",
       "    <tr>\n",
       "      <td>2</td>\n",
       "      <td>0.500000</td>\n",
       "      <td>0.000000</td>\n",
       "      <td>1.000000</td>\n",
       "      <td>0.500000</td>\n",
       "      <td>0.500000</td>\n",
       "      <td>0.0</td>\n",
       "      <td>1.000000</td>\n",
       "      <td>0.000000</td>\n",
       "      <td>0.0</td>\n",
       "      <td>0.000000</td>\n",
       "      <td>...</td>\n",
       "      <td>0.500000</td>\n",
       "      <td>0.500000</td>\n",
       "      <td>0.000000</td>\n",
       "      <td>0.0</td>\n",
       "      <td>0.0</td>\n",
       "      <td>0.500000</td>\n",
       "      <td>0.0</td>\n",
       "      <td>0.0</td>\n",
       "      <td>0.0</td>\n",
       "      <td>0.0</td>\n",
       "    </tr>\n",
       "    <tr>\n",
       "      <td>3</td>\n",
       "      <td>0.500000</td>\n",
       "      <td>0.000000</td>\n",
       "      <td>0.500000</td>\n",
       "      <td>1.000000</td>\n",
       "      <td>0.500000</td>\n",
       "      <td>0.0</td>\n",
       "      <td>0.500000</td>\n",
       "      <td>0.000000</td>\n",
       "      <td>0.0</td>\n",
       "      <td>0.000000</td>\n",
       "      <td>...</td>\n",
       "      <td>0.500000</td>\n",
       "      <td>1.000000</td>\n",
       "      <td>0.000000</td>\n",
       "      <td>0.5</td>\n",
       "      <td>0.0</td>\n",
       "      <td>0.500000</td>\n",
       "      <td>0.5</td>\n",
       "      <td>0.5</td>\n",
       "      <td>0.5</td>\n",
       "      <td>0.5</td>\n",
       "    </tr>\n",
       "    <tr>\n",
       "      <td>4</td>\n",
       "      <td>1.000000</td>\n",
       "      <td>0.000000</td>\n",
       "      <td>1.000000</td>\n",
       "      <td>1.000000</td>\n",
       "      <td>1.000000</td>\n",
       "      <td>0.0</td>\n",
       "      <td>1.000000</td>\n",
       "      <td>0.000000</td>\n",
       "      <td>0.0</td>\n",
       "      <td>0.000000</td>\n",
       "      <td>...</td>\n",
       "      <td>1.000000</td>\n",
       "      <td>1.000000</td>\n",
       "      <td>0.000000</td>\n",
       "      <td>0.0</td>\n",
       "      <td>0.0</td>\n",
       "      <td>1.000000</td>\n",
       "      <td>0.0</td>\n",
       "      <td>0.0</td>\n",
       "      <td>0.0</td>\n",
       "      <td>0.0</td>\n",
       "    </tr>\n",
       "    <tr>\n",
       "      <td>...</td>\n",
       "      <td>...</td>\n",
       "      <td>...</td>\n",
       "      <td>...</td>\n",
       "      <td>...</td>\n",
       "      <td>...</td>\n",
       "      <td>...</td>\n",
       "      <td>...</td>\n",
       "      <td>...</td>\n",
       "      <td>...</td>\n",
       "      <td>...</td>\n",
       "      <td>...</td>\n",
       "      <td>...</td>\n",
       "      <td>...</td>\n",
       "      <td>...</td>\n",
       "      <td>...</td>\n",
       "      <td>...</td>\n",
       "      <td>...</td>\n",
       "      <td>...</td>\n",
       "      <td>...</td>\n",
       "      <td>...</td>\n",
       "      <td>...</td>\n",
       "    </tr>\n",
       "    <tr>\n",
       "      <td>3947</td>\n",
       "      <td>1.000000</td>\n",
       "      <td>0.000000</td>\n",
       "      <td>1.000000</td>\n",
       "      <td>1.000000</td>\n",
       "      <td>1.000000</td>\n",
       "      <td>0.0</td>\n",
       "      <td>1.000000</td>\n",
       "      <td>0.000000</td>\n",
       "      <td>0.0</td>\n",
       "      <td>0.000000</td>\n",
       "      <td>...</td>\n",
       "      <td>1.000000</td>\n",
       "      <td>1.000000</td>\n",
       "      <td>0.000000</td>\n",
       "      <td>0.0</td>\n",
       "      <td>0.0</td>\n",
       "      <td>1.000000</td>\n",
       "      <td>0.0</td>\n",
       "      <td>0.0</td>\n",
       "      <td>0.0</td>\n",
       "      <td>0.0</td>\n",
       "    </tr>\n",
       "    <tr>\n",
       "      <td>3948</td>\n",
       "      <td>0.000000</td>\n",
       "      <td>0.000000</td>\n",
       "      <td>0.000000</td>\n",
       "      <td>1.000000</td>\n",
       "      <td>0.000000</td>\n",
       "      <td>0.0</td>\n",
       "      <td>0.000000</td>\n",
       "      <td>0.000000</td>\n",
       "      <td>0.0</td>\n",
       "      <td>0.000000</td>\n",
       "      <td>...</td>\n",
       "      <td>0.000000</td>\n",
       "      <td>1.000000</td>\n",
       "      <td>0.000000</td>\n",
       "      <td>1.0</td>\n",
       "      <td>0.0</td>\n",
       "      <td>0.000000</td>\n",
       "      <td>1.0</td>\n",
       "      <td>1.0</td>\n",
       "      <td>1.0</td>\n",
       "      <td>1.0</td>\n",
       "    </tr>\n",
       "    <tr>\n",
       "      <td>3949</td>\n",
       "      <td>0.000000</td>\n",
       "      <td>0.000000</td>\n",
       "      <td>0.000000</td>\n",
       "      <td>1.000000</td>\n",
       "      <td>0.000000</td>\n",
       "      <td>0.0</td>\n",
       "      <td>0.000000</td>\n",
       "      <td>0.000000</td>\n",
       "      <td>0.0</td>\n",
       "      <td>0.000000</td>\n",
       "      <td>...</td>\n",
       "      <td>0.000000</td>\n",
       "      <td>1.000000</td>\n",
       "      <td>0.000000</td>\n",
       "      <td>1.0</td>\n",
       "      <td>0.0</td>\n",
       "      <td>0.000000</td>\n",
       "      <td>1.0</td>\n",
       "      <td>1.0</td>\n",
       "      <td>1.0</td>\n",
       "      <td>1.0</td>\n",
       "    </tr>\n",
       "    <tr>\n",
       "      <td>3950</td>\n",
       "      <td>0.000000</td>\n",
       "      <td>0.000000</td>\n",
       "      <td>0.000000</td>\n",
       "      <td>1.000000</td>\n",
       "      <td>0.000000</td>\n",
       "      <td>0.0</td>\n",
       "      <td>0.000000</td>\n",
       "      <td>0.000000</td>\n",
       "      <td>0.0</td>\n",
       "      <td>0.000000</td>\n",
       "      <td>...</td>\n",
       "      <td>0.000000</td>\n",
       "      <td>1.000000</td>\n",
       "      <td>0.000000</td>\n",
       "      <td>1.0</td>\n",
       "      <td>0.0</td>\n",
       "      <td>0.000000</td>\n",
       "      <td>1.0</td>\n",
       "      <td>1.0</td>\n",
       "      <td>1.0</td>\n",
       "      <td>1.0</td>\n",
       "    </tr>\n",
       "    <tr>\n",
       "      <td>3951</td>\n",
       "      <td>0.000000</td>\n",
       "      <td>0.000000</td>\n",
       "      <td>0.000000</td>\n",
       "      <td>0.500000</td>\n",
       "      <td>0.000000</td>\n",
       "      <td>0.5</td>\n",
       "      <td>0.000000</td>\n",
       "      <td>0.000000</td>\n",
       "      <td>0.0</td>\n",
       "      <td>0.500000</td>\n",
       "      <td>...</td>\n",
       "      <td>0.000000</td>\n",
       "      <td>0.500000</td>\n",
       "      <td>0.000000</td>\n",
       "      <td>1.0</td>\n",
       "      <td>0.5</td>\n",
       "      <td>0.000000</td>\n",
       "      <td>0.5</td>\n",
       "      <td>0.5</td>\n",
       "      <td>0.5</td>\n",
       "      <td>1.0</td>\n",
       "    </tr>\n",
       "  </tbody>\n",
       "</table>\n",
       "<p>3883 rows × 3883 columns</p>\n",
       "</div>"
      ],
      "text/plain": [
       "movie_id      0         1         2         3         4     5         6     \\\n",
       "movie_id                                                                     \n",
       "0         1.000000  0.333333  0.333333  0.333333  0.333333   0.0  0.333333   \n",
       "1         0.333333  1.000000  0.000000  0.000000  0.000000   0.0  0.000000   \n",
       "2         0.500000  0.000000  1.000000  0.500000  0.500000   0.0  1.000000   \n",
       "3         0.500000  0.000000  0.500000  1.000000  0.500000   0.0  0.500000   \n",
       "4         1.000000  0.000000  1.000000  1.000000  1.000000   0.0  1.000000   \n",
       "...            ...       ...       ...       ...       ...   ...       ...   \n",
       "3947      1.000000  0.000000  1.000000  1.000000  1.000000   0.0  1.000000   \n",
       "3948      0.000000  0.000000  0.000000  1.000000  0.000000   0.0  0.000000   \n",
       "3949      0.000000  0.000000  0.000000  1.000000  0.000000   0.0  0.000000   \n",
       "3950      0.000000  0.000000  0.000000  1.000000  0.000000   0.0  0.000000   \n",
       "3951      0.000000  0.000000  0.000000  0.500000  0.000000   0.5  0.000000   \n",
       "\n",
       "movie_id      7     8         9     ...      3942      3943      3944  3945  \\\n",
       "movie_id                            ...                                       \n",
       "0         0.333333   0.0  0.000000  ...  0.333333  0.333333  0.666667   0.0   \n",
       "1         0.666667   0.0  0.333333  ...  0.000000  0.000000  0.666667   0.0   \n",
       "2         0.000000   0.0  0.000000  ...  0.500000  0.500000  0.000000   0.0   \n",
       "3         0.000000   0.0  0.000000  ...  0.500000  1.000000  0.000000   0.5   \n",
       "4         0.000000   0.0  0.000000  ...  1.000000  1.000000  0.000000   0.0   \n",
       "...            ...   ...       ...  ...       ...       ...       ...   ...   \n",
       "3947      0.000000   0.0  0.000000  ...  1.000000  1.000000  0.000000   0.0   \n",
       "3948      0.000000   0.0  0.000000  ...  0.000000  1.000000  0.000000   1.0   \n",
       "3949      0.000000   0.0  0.000000  ...  0.000000  1.000000  0.000000   1.0   \n",
       "3950      0.000000   0.0  0.000000  ...  0.000000  1.000000  0.000000   1.0   \n",
       "3951      0.000000   0.0  0.500000  ...  0.000000  0.500000  0.000000   1.0   \n",
       "\n",
       "movie_id  3946      3947  3948  3949  3950  3951  \n",
       "movie_id                                          \n",
       "0          0.0  0.333333   0.0   0.0   0.0   0.0  \n",
       "1          0.0  0.000000   0.0   0.0   0.0   0.0  \n",
       "2          0.0  0.500000   0.0   0.0   0.0   0.0  \n",
       "3          0.0  0.500000   0.5   0.5   0.5   0.5  \n",
       "4          0.0  1.000000   0.0   0.0   0.0   0.0  \n",
       "...        ...       ...   ...   ...   ...   ...  \n",
       "3947       0.0  1.000000   0.0   0.0   0.0   0.0  \n",
       "3948       0.0  0.000000   1.0   1.0   1.0   1.0  \n",
       "3949       0.0  0.000000   1.0   1.0   1.0   1.0  \n",
       "3950       0.0  0.000000   1.0   1.0   1.0   1.0  \n",
       "3951       0.5  0.000000   0.5   0.5   0.5   1.0  \n",
       "\n",
       "[3883 rows x 3883 columns]"
      ]
     },
     "execution_count": 477,
     "metadata": {},
     "output_type": "execute_result"
    }
   ],
   "source": [
    "similarity = pd.DataFrame(data=movies[genre_cols].apply(lambda x : x/sum(x),axis=1).values.dot(movies[genre_cols].values.T),index=movies.loc[:,'movie_id'],columns=movies.loc[:,'movie_id'])\n",
    "similarity #has to be read through lines : similarity.loc[0,2]!=similarity.loc[2,0]\n",
    "#it means that movie_id=0 has one of his three genres shared with movie_id=2\n",
    "#and movie_id=2 has one of his two genres shared with movie_id=0"
   ]
  },
  {
   "cell_type": "markdown",
   "metadata": {},
   "source": [
    "We can now get the similarity between `Toy Story` and any other movie of our dataset"
   ]
  },
  {
   "cell_type": "code",
   "execution_count": 478,
   "metadata": {
    "colab": {
     "base_uri": "https://localhost:8080/"
    },
    "id": "7NQwxobBlJ1N",
    "outputId": "81bd2069-9b05-449e-986c-2608eb04d90b"
   },
   "outputs": [
    {
     "data": {
      "text/plain": [
       "movie_id\n",
       "0       1.000000\n",
       "1       0.333333\n",
       "2       0.333333\n",
       "3       0.333333\n",
       "4       0.333333\n",
       "          ...   \n",
       "3947    0.333333\n",
       "3948    0.000000\n",
       "3949    0.000000\n",
       "3950    0.000000\n",
       "3951    0.000000\n",
       "Name: 0, Length: 3883, dtype: float64"
      ]
     },
     "execution_count": 478,
     "metadata": {},
     "output_type": "execute_result"
    }
   ],
   "source": [
    "similarity_with_toy_story = similarity.loc[0,:] # 0 is Toy Story\n",
    "similarity_with_toy_story"
   ]
  },
  {
   "cell_type": "code",
   "execution_count": 479,
   "metadata": {
    "colab": {
     "base_uri": "https://localhost:8080/"
    },
    "id": "TpTkvXGflZhc",
    "outputId": "e688d431-2953-419e-a14d-af1428a7e95a"
   },
   "outputs": [
    {
     "name": "stdout",
     "output_type": "stream",
     "text": [
      "Similarity between Toy story and Toy Story (index 0) is 1.0\n",
      "Similarity between Toy story and Jumanji (index 1) is 0.3333333333333333\n",
      "Similarity between Toy story and Grumpier Old Men (index 2) is 0.3333333333333333\n",
      "Similarity between Toy story and Waiting to Exhale (index 3) is 0.3333333333333333\n",
      "Similarity between Toy story and Father of the Bride Part II (index 4) is 0.3333333333333333\n",
      "Similarity between Toy story and Heat (index 5) is 0.0\n",
      "Similarity between Toy story and Sabrina (index 6) is 0.3333333333333333\n",
      "Similarity between Toy story and Tom and Huck (index 7) is 0.3333333333333333\n",
      "Similarity between Toy story and Sudden Death (index 8) is 0.0\n",
      "Similarity between Toy story and GoldenEye (index 9) is 0.0\n"
     ]
    }
   ],
   "source": [
    "for i in range(10):\n",
    "    print(f\"Similarity between Toy story and {movies.iloc[i]['title']} (index {i}) is {similarity_with_toy_story[i]}\")"
   ]
  },
  {
   "cell_type": "markdown",
   "metadata": {},
   "source": [
    "## A bit of polishing"
   ]
  },
  {
   "cell_type": "markdown",
   "metadata": {
    "id": "eGaBP8Y2pCBF"
   },
   "source": [
    "### Helpers:\n",
    "\n",
    "We also built some helpers to handle the movies dataset:"
   ]
  },
  {
   "cell_type": "code",
   "execution_count": 480,
   "metadata": {
    "id": "g1PpvXUOofHE"
   },
   "outputs": [
    {
     "name": "stdout",
     "output_type": "stream",
     "text": [
      "0\n",
      "1023\n",
      "Toy Story\n",
      "Parent Trap, The\n",
      "1961\n"
     ]
    }
   ],
   "source": [
    "from content_based_filtering.helpers.movies import get_movie_id, get_movie_name, get_movie_year\n",
    "    \n",
    "print (get_movie_id(movies, 'Toy Story'))\n",
    "print (get_movie_id(movies, 'Die Hard'))\n",
    "\n",
    "print (get_movie_name(movies, 0))\n",
    "print (get_movie_name(movies, 1000))\n",
    "print (get_movie_year(movies, 1000))"
   ]
  },
  {
   "cell_type": "markdown",
   "metadata": {
    "id": "osEKhTEz2-IR"
   },
   "source": [
    "### Finding similar movies:\n",
    "Here is a method giving us the movie the most similar to another movie:"
   ]
  },
  {
   "cell_type": "code",
   "execution_count": 481,
   "metadata": {
    "id": "KvKxJsLi2858"
   },
   "outputs": [],
   "source": [
    "def get_most_similar(similarity, movie_name, year=None, top=similarity.shape[0]): \n",
    "    #I changed the default top to the similarity's number of rows. To get the similarity with all other movies.\n",
    "    index_movie = get_movie_id(movies, movie_name, year)\n",
    "    best = list(similarity.loc[index_movie,:].sort_values(ascending=False).index)\n",
    "    return [(ind, movies[movies['movie_id']==ind].title.values[0], similarity.loc[index_movie, ind]) for ind in best[:top] if ind != index_movie]"
   ]
  },
  {
   "cell_type": "code",
   "execution_count": 482,
   "metadata": {
    "colab": {
     "base_uri": "https://localhost:8080/"
    },
    "id": "McgT_CoxgM8d",
    "outputId": "755202de-fec9-476a-8725-0f04b1869c64"
   },
   "outputs": [
    {
     "data": {
      "text/plain": [
       "[(672, 'Space Jam', 1.0),\n",
       " (3753, 'Adventures of Rocky and Bullwinkle, The', 1.0),\n",
       " (3750, 'Chicken Run', 1.0),\n",
       " (2077, 'Jungle Book, The', 1.0),\n",
       " (2079, 'Lady and the Tramp', 1.0),\n",
       " (2080, 'Little Mermaid, The', 1.0),\n",
       " (2101, 'Steamboat Willie', 1.0),\n",
       " (2140, 'American Tail, An', 1.0),\n",
       " (2141, 'American Tail: Fievel Goes West, An', 1.0),\n",
       " (3610, 'Saludos Amigos', 1.0)]"
      ]
     },
     "execution_count": 482,
     "metadata": {},
     "output_type": "execute_result"
    }
   ],
   "source": [
    "get_most_similar(similarity,'Toy Story')[:10]"
   ]
  },
  {
   "cell_type": "code",
   "execution_count": 483,
   "metadata": {
    "colab": {
     "base_uri": "https://localhost:8080/"
    },
    "id": "mq_uQJkstgo_",
    "outputId": "20259fc7-e55a-46ed-9efa-7154791cdaec"
   },
   "outputs": [
    {
     "data": {
      "text/plain": [
       "[(0, 'Toy Story', 1.0),\n",
       " (866, 'Carpool', 1.0),\n",
       " (904, 'It Happened One Night', 1.0),\n",
       " (900, 'Funny Face', 1.0),\n",
       " (2656, 'Rocky Horror Picture Show, The', 1.0),\n",
       " (2658, 'It Came from Hollywood', 1.0),\n",
       " (897, 'Philadelphia Story, The', 1.0),\n",
       " (891, 'Twelfth Night', 1.0),\n",
       " (2670, 'Notting Hill', 1.0),\n",
       " (2674, 'Twice Upon a Yesterday', 1.0)]"
      ]
     },
     "execution_count": 483,
     "metadata": {},
     "output_type": "execute_result"
    }
   ],
   "source": [
    "get_most_similar(similarity, 'Psycho', 1960)[:10]"
   ]
  },
  {
   "cell_type": "markdown",
   "metadata": {},
   "source": [
    "### Giving a recommendation:\n",
    "\n",
    "And finally, let's find some movies to recommend based on previously liked movies:"
   ]
  },
  {
   "cell_type": "code",
   "execution_count": 491,
   "metadata": {},
   "outputs": [
    {
     "name": "stdout",
     "output_type": "stream",
     "text": [
      "Movie id: 1192, Rated: 5, Computed Similarity: [1.]\n",
      "Movie id: 660, Rated: 3, Computed Similarity: [1.]\n",
      "Movie id: 2803, Rated: 5, Computed Similarity: [1.]\n",
      "Movie id: 594, Rated: 5, Computed Similarity: [1.]\n",
      "Movie id: 2917, Rated: 4, Computed Similarity: [0.33333333]\n",
      "Movie id: 2790, Rated: 4, Computed Similarity: [0.33333333]\n",
      "Movie id: 2686, Rated: 3, Computed Similarity: [0.66666667]\n",
      "Movie id: 2017, Rated: 4, Computed Similarity: [0.66666667]\n",
      "Movie id: 3104, Rated: 5, Computed Similarity: [1.]\n",
      "Movie id: 47, Rated: 5, Computed Similarity: [1.]\n",
      "Movie id: 1096, Rated: 4, Computed Similarity: [1.]\n",
      "Movie id: 744, Rated: 3, Computed Similarity: [0.66666667]\n",
      "Movie id: 3185, Rated: 4, Computed Similarity: [1.]\n",
      "Movie id: 2761, Rated: 4, Computed Similarity: [0.]\n",
      "Movie id: 2691, Rated: 4, Computed Similarity: [0.33333333]\n",
      "Movie id: 1245, Rated: 4, Computed Similarity: [1.]\n"
     ]
    },
    {
     "data": {
      "text/html": [
       "<div>\n",
       "<style scoped>\n",
       "    .dataframe tbody tr th:only-of-type {\n",
       "        vertical-align: middle;\n",
       "    }\n",
       "\n",
       "    .dataframe tbody tr th {\n",
       "        vertical-align: top;\n",
       "    }\n",
       "\n",
       "    .dataframe thead th {\n",
       "        text-align: right;\n",
       "    }\n",
       "</style>\n",
       "<table border=\"1\" class=\"dataframe\">\n",
       "  <thead>\n",
       "    <tr style=\"text-align: right;\">\n",
       "      <th></th>\n",
       "      <th>movie_id</th>\n",
       "      <th>title</th>\n",
       "      <th>similarity</th>\n",
       "    </tr>\n",
       "  </thead>\n",
       "  <tbody>\n",
       "    <tr>\n",
       "      <td>0</td>\n",
       "      <td>0</td>\n",
       "      <td>Toy Story</td>\n",
       "      <td>1.0</td>\n",
       "    </tr>\n",
       "    <tr>\n",
       "      <td>2027</td>\n",
       "      <td>2095</td>\n",
       "      <td>Sleeping Beauty</td>\n",
       "      <td>1.0</td>\n",
       "    </tr>\n",
       "    <tr>\n",
       "      <td>2010</td>\n",
       "      <td>2078</td>\n",
       "      <td>Kidnapped</td>\n",
       "      <td>1.0</td>\n",
       "    </tr>\n",
       "    <tr>\n",
       "      <td>2011</td>\n",
       "      <td>2079</td>\n",
       "      <td>Lady and the Tramp</td>\n",
       "      <td>1.0</td>\n",
       "    </tr>\n",
       "    <tr>\n",
       "      <td>2012</td>\n",
       "      <td>2080</td>\n",
       "      <td>Little Mermaid, The</td>\n",
       "      <td>1.0</td>\n",
       "    </tr>\n",
       "  </tbody>\n",
       "</table>\n",
       "</div>"
      ],
      "text/plain": [
       "      movie_id                title  similarity\n",
       "0            0            Toy Story         1.0\n",
       "2027      2095      Sleeping Beauty         1.0\n",
       "2010      2078            Kidnapped         1.0\n",
       "2011      2079   Lady and the Tramp         1.0\n",
       "2012      2080  Little Mermaid, The         1.0"
      ]
     },
     "execution_count": 491,
     "metadata": {},
     "output_type": "execute_result"
    }
   ],
   "source": [
    "def get_recommendations(user_id,nb_top_movies=3,nb_movies_return=5):\n",
    "    \n",
    "    train=ratings[ratings['user_id']==user_id].sample(frac=0.7).reset_index(drop=True)\n",
    "    test=pd.concat([ratings[ratings['user_id']==user_id],train]).drop_duplicates(keep=False)\n",
    "    #Introducing a train and test split to evaluate the recommendation system (70%-30%)\n",
    "    \n",
    "    top_movies = train[train['user_id'] == user_id].sort_values(by='rating', ascending=False).head(nb_top_movies)['movie_id']\n",
    "    index=['movie_id', 'title', 'similarity']\n",
    "\n",
    "    most_similars = []\n",
    "    for top_movie in top_movies:\n",
    "        most_similars += get_most_similar(similarity, get_movie_name(movies, top_movie), get_movie_year(movies, top_movie))\n",
    "\n",
    "    res = pd.DataFrame(most_similars, columns=index).groupby('movie_id',as_index=False).max().sort_values(by='similarity', ascending=False) \n",
    "    # I changed the drop_duplicates to a groupby to remove the duplicates, but keeping the maximum between the duplicates\n",
    "    \n",
    "    for index,row in test.iterrows():\n",
    "       print(f\"Movie id: {row['movie_id']}, Rated: {row['rating']}, Computed Similarity: {res[res['movie_id']==row['movie_id']]['similarity'].values}\")\n",
    "        \n",
    "    return res.head(nb_movies_return)\n",
    "\n",
    "get_recommendations(user_id=0,nb_top_movies=10)\n"
   ]
  },
  {
   "cell_type": "code",
   "execution_count": 495,
   "metadata": {},
   "outputs": [
    {
     "name": "stdout",
     "output_type": "stream",
     "text": [
      "Movie id: 1174, Rated: 5, Computed Similarity: [1.]\n",
      "Movie id: 3860, Rated: 4, Computed Similarity: [0.33333333]\n",
      "Movie id: 1319, Rated: 4, Computed Similarity: [1.]\n",
      "Movie id: 3862, Rated: 3, Computed Similarity: [1.]\n",
      "Movie id: 2124, Rated: 2, Computed Similarity: [1.]\n",
      "Movie id: 3792, Rated: 4, Computed Similarity: [1.]\n",
      "Movie id: 1256, Rated: 4, Computed Similarity: [0.33333333]\n",
      "Movie id: 2996, Rated: 5, Computed Similarity: [0.33333333]\n",
      "Movie id: 652, Rated: 2, Computed Similarity: [0.5]\n",
      "Movie id: 586, Rated: 4, Computed Similarity: [1.]\n",
      "Movie id: 3004, Rated: 2, Computed Similarity: [0.33333333]\n",
      "Movie id: 5, Rated: 4, Computed Similarity: [0.66666667]\n",
      "Movie id: 6, Rated: 2, Computed Similarity: [1.]\n",
      "Movie id: 1192, Rated: 4, Computed Similarity: [1.]\n",
      "Movie id: 732, Rated: 5, Computed Similarity: [0.66666667]\n",
      "Movie id: 1196, Rated: 5, Computed Similarity: [1.]\n",
      "Movie id: 735, Rated: 3, Computed Similarity: [1.]\n",
      "Movie id: 1198, Rated: 5, Computed Similarity: [1.]\n",
      "Movie id: 592, Rated: 4, Computed Similarity: [1.]\n",
      "Movie id: 3881, Rated: 4, Computed Similarity: [0.33333333]\n",
      "Movie id: 1275, Rated: 3, Computed Similarity: [1.]\n",
      "Movie id: 670, Rated: 4, Computed Similarity: [1.]\n",
      "Movie id: 1352, Rated: 3, Computed Similarity: [1.]\n",
      "Movie id: 3895, Rated: 5, Computed Similarity: [0.33333333]\n",
      "Movie id: 3896, Rated: 5, Computed Similarity: [1.]\n",
      "Movie id: 1499, Rated: 5, Computed Similarity: [0.33333333]\n",
      "Movie id: 1289, Rated: 5, Computed Similarity: [1.]\n",
      "Movie id: 2315, Rated: 2, Computed Similarity: [1.]\n",
      "Movie id: 1440, Rated: 3, Computed Similarity: [1.]\n",
      "Movie id: 1374, Rated: 3, Computed Similarity: [1.]\n",
      "Movie id: 1448, Rated: 4, Computed Similarity: [0.33333333]\n",
      "Movie id: 2320, Rated: 4, Computed Similarity: [0.33333333]\n",
      "Movie id: 1380, Rated: 2, Computed Similarity: [1.]\n",
      "Movie id: 851, Rated: 3, Computed Similarity: [1.]\n",
      "Movie id: 784, Rated: 4, Computed Similarity: [0.33333333]\n",
      "Movie id: 2404, Rated: 3, Computed Similarity: [1.]\n",
      "Movie id: 2406, Rated: 4, Computed Similarity: [1.]\n",
      "Movie id: 1604, Rated: 4, Computed Similarity: [1.]\n",
      "Movie id: 1390, Rated: 4, Computed Similarity: [1.]\n",
      "Movie id: 1393, Rated: 4, Computed Similarity: [0.33333333]\n",
      "Movie id: 3209, Rated: 3, Computed Similarity: [0.33333333]\n",
      "Movie id: 2339, Rated: 3, Computed Similarity: [1.]\n",
      "Movie id: 3069, Rated: 1, Computed Similarity: [1.]\n",
      "Movie id: 1611, Rated: 3, Computed Similarity: [0.33333333]\n",
      "Movie id: 3071, Rated: 4, Computed Similarity: [0.33333333]\n",
      "Movie id: 1613, Rated: 4, Computed Similarity: [0.33333333]\n",
      "Movie id: 1540, Rated: 4, Computed Similarity: [1.]\n",
      "Movie id: 1478, Rated: 3, Computed Similarity: [1.]\n",
      "Movie id: 3154, Rated: 3, Computed Similarity: [1.]\n",
      "Movie id: 1628, Rated: 4, Computed Similarity: [1.]\n",
      "Movie id: 3088, Rated: 4, Computed Similarity: [1.]\n",
      "Movie id: 3301, Rated: 5, Computed Similarity: [0.33333333]\n",
      "Movie id: 2505, Rated: 4, Computed Similarity: [1.]\n",
      "Movie id: 1563, Rated: 3, Computed Similarity: [1.]\n",
      "Movie id: 967, Rated: 3, Computed Similarity: [1.]\n",
      "Movie id: 1640, Rated: 5, Computed Similarity: [0.33333333]\n",
      "Movie id: 2517, Rated: 4, Computed Similarity: [0.33333333]\n",
      "Movie id: 1642, Rated: 4, Computed Similarity: [1.]\n",
      "Movie id: 100, Rated: 3, Computed Similarity: [0.33333333]\n",
      "Movie id: 2526, Rated: 3, Computed Similarity: [1.]\n",
      "Movie id: 2454, Rated: 4, Computed Similarity: [1.]\n",
      "Movie id: 1652, Rated: 5, Computed Similarity: [1.]\n",
      "Movie id: 2528, Rated: 4, Computed Similarity: [1.]\n",
      "Movie id: 1583, Rated: 4, Computed Similarity: [1.]\n",
      "Movie id: 986, Rated: 3, Computed Similarity: [1.]\n",
      "Movie id: 3260, Rated: 3, Computed Similarity: [1.]\n",
      "Movie id: 3407, Rated: 5, Computed Similarity: [1.]\n",
      "Movie id: 2462, Rated: 3, Computed Similarity: [0.33333333]\n",
      "Movie id: 2394, Rated: 4, Computed Similarity: [0.33333333]\n",
      "Movie id: 1596, Rated: 2, Computed Similarity: [1.]\n",
      "Movie id: 2541, Rated: 5, Computed Similarity: [0.33333333]\n",
      "Movie id: 1746, Rated: 3, Computed Similarity: [1.]\n",
      "Movie id: 1675, Rated: 2, Computed Similarity: [1.]\n",
      "Movie id: 1679, Rated: 5, Computed Similarity: [1.]\n",
      "Movie id: 139, Rated: 3, Computed Similarity: [1.]\n",
      "Movie id: 143, Rated: 3, Computed Similarity: [0.33333333]\n",
      "Movie id: 3360, Rated: 4, Computed Similarity: [0.33333333]\n",
      "Movie id: 2705, Rated: 5, Computed Similarity: [0.33333333]\n",
      "Movie id: 1903, Rated: 5, Computed Similarity: [1.]\n",
      "Movie id: 3435, Rated: 3, Computed Similarity: [1.]\n",
      "Movie id: 1766, Rated: 2, Computed Similarity: [1.]\n",
      "Movie id: 223, Rated: 4, Computed Similarity: [1.]\n",
      "Movie id: 156, Rated: 3, Computed Similarity: [0.33333333]\n",
      "Movie id: 2571, Rated: 4, Computed Similarity: [1.]\n",
      "Movie id: 1922, Rated: 5, Computed Similarity: [0.33333333]\n",
      "Movie id: 171, Rated: 2, Computed Similarity: [1.]\n",
      "Movie id: 318, Rated: 5, Computed Similarity: [0.33333333]\n",
      "Movie id: 248, Rated: 2, Computed Similarity: [1.]\n",
      "Movie id: 178, Rated: 1, Computed Similarity: [1.]\n",
      "Movie id: 2801, Rated: 3, Computed Similarity: [1.]\n",
      "Movie id: 2803, Rated: 5, Computed Similarity: [1.]\n",
      "Movie id: 3533, Rated: 4, Computed Similarity: [0.33333333]\n",
      "Movie id: 2804, Rated: 4, Computed Similarity: [1.]\n",
      "Movie id: 2735, Rated: 3, Computed Similarity: [0.33333333]\n",
      "Movie id: 255, Rated: 3, Computed Similarity: [1.]\n",
      "Movie id: 2670, Rated: 3, Computed Similarity: [1.]\n",
      "Movie id: 2671, Rated: 1, Computed Similarity: [1.]\n",
      "Movie id: 2746, Rated: 3, Computed Similarity: [0.33333333]\n",
      "Movie id: 1875, Rated: 4, Computed Similarity: [1.]\n",
      "Movie id: 265, Rated: 3, Computed Similarity: [1.]\n",
      "Movie id: 344, Rated: 4, Computed Similarity: [1.]\n",
      "Movie id: 24, Rated: 5, Computed Similarity: [1.]\n",
      "Movie id: 28, Rated: 4, Computed Similarity: [1.]\n",
      "Movie id: 3700, Rated: 3, Computed Similarity: [1.]\n",
      "Movie id: 3701, Rated: 4, Computed Similarity: [1.]\n",
      "Movie id: 3702, Rated: 5, Computed Similarity: [1.]\n",
      "Movie id: 3703, Rated: 2, Computed Similarity: [1.]\n",
      "Movie id: 3704, Rated: 3, Computed Similarity: [1.]\n",
      "Movie id: 424, Rated: 4, Computed Similarity: [1.]\n",
      "Movie id: 426, Rated: 2, Computed Similarity: [1.]\n",
      "Movie id: 356, Rated: 5, Computed Similarity: [1.]\n",
      "Movie id: 34, Rated: 3, Computed Similarity: [1.]\n",
      "Movie id: 3716, Rated: 3, Computed Similarity: [0.5]\n",
      "Movie id: 2857, Rated: 5, Computed Similarity: [1.]\n",
      "Movie id: 439, Rated: 4, Computed Similarity: [1.]\n",
      "Movie id: 57, Rated: 4, Computed Similarity: [1.]\n",
      "Movie id: 3801, Rated: 2, Computed Similarity: [1.]\n",
      "Movie id: 3808, Rated: 4, Computed Similarity: [0.33333333]\n",
      "Movie id: 1126, Rated: 4, Computed Similarity: [1.]\n",
      "Movie id: 1199, Rated: 5, Computed Similarity: [1.]\n",
      "Movie id: 1059, Rated: 5, Computed Similarity: [1.]\n",
      "Movie id: 3748, Rated: 2, Computed Similarity: [1.]\n",
      "Movie id: 607, Rated: 5, Computed Similarity: [1.]\n",
      "Movie id: 467, Rated: 3, Computed Similarity: [1.]\n",
      "Movie id: 73, Rated: 3, Computed Similarity: [1.]\n",
      "Movie id: 1210, Rated: 5, Computed Similarity: [1.]\n",
      "Movie id: 3825, Rated: 2, Computed Similarity: [1.]\n",
      "Movie id: 3826, Rated: 1, Computed Similarity: [1.]\n",
      "Movie id: 1147, Rated: 4, Computed Similarity: [0.33333333]\n",
      "Movie id: 1220, Rated: 3, Computed Similarity: [1.]\n",
      "Movie id: 1224, Rated: 5, Computed Similarity: [1.]\n",
      "Movie id: 2027, Rated: 5, Computed Similarity: [1.]\n",
      "Movie id: 1080, Rated: 4, Computed Similarity: [0.66666667]\n",
      "Movie id: 549, Rated: 2, Computed Similarity: [1.]\n",
      "Movie id: 1088, Rated: 5, Computed Similarity: [0.33333333]\n",
      "Movie id: 3909, Rated: 4, Computed Similarity: [1.]\n",
      "Movie id: 3910, Rated: 4, Computed Similarity: [0.33333333]\n",
      "Movie id: 496, Rated: 4, Computed Similarity: [1.]\n",
      "Movie id: 497, Rated: 3, Computed Similarity: [1.]\n",
      "Movie id: 1242, Rated: 5, Computed Similarity: [1.]\n",
      "Movie id: 2984, Rated: 5, Computed Similarity: [1.]\n"
     ]
    },
    {
     "data": {
      "text/html": [
       "<div>\n",
       "<style scoped>\n",
       "    .dataframe tbody tr th:only-of-type {\n",
       "        vertical-align: middle;\n",
       "    }\n",
       "\n",
       "    .dataframe tbody tr th {\n",
       "        vertical-align: top;\n",
       "    }\n",
       "\n",
       "    .dataframe thead th {\n",
       "        text-align: right;\n",
       "    }\n",
       "</style>\n",
       "<table border=\"1\" class=\"dataframe\">\n",
       "  <thead>\n",
       "    <tr style=\"text-align: right;\">\n",
       "      <th></th>\n",
       "      <th>movie_id</th>\n",
       "      <th>title</th>\n",
       "      <th>similarity</th>\n",
       "    </tr>\n",
       "  </thead>\n",
       "  <tbody>\n",
       "    <tr>\n",
       "      <td>1941</td>\n",
       "      <td>2009</td>\n",
       "      <td>Metropolis</td>\n",
       "      <td>1.0</td>\n",
       "    </tr>\n",
       "    <tr>\n",
       "      <td>2193</td>\n",
       "      <td>2261</td>\n",
       "      <td>About Last Night...</td>\n",
       "      <td>1.0</td>\n",
       "    </tr>\n",
       "    <tr>\n",
       "      <td>2176</td>\n",
       "      <td>2244</td>\n",
       "      <td>Working Girl</td>\n",
       "      <td>1.0</td>\n",
       "    </tr>\n",
       "    <tr>\n",
       "      <td>2179</td>\n",
       "      <td>2247</td>\n",
       "      <td>Say Anything...</td>\n",
       "      <td>1.0</td>\n",
       "    </tr>\n",
       "    <tr>\n",
       "      <td>2181</td>\n",
       "      <td>2249</td>\n",
       "      <td>Men Don't Leave</td>\n",
       "      <td>1.0</td>\n",
       "    </tr>\n",
       "  </tbody>\n",
       "</table>\n",
       "</div>"
      ],
      "text/plain": [
       "      movie_id                title  similarity\n",
       "1941      2009           Metropolis         1.0\n",
       "2193      2261  About Last Night...         1.0\n",
       "2176      2244         Working Girl         1.0\n",
       "2179      2247      Say Anything...         1.0\n",
       "2181      2249      Men Don't Leave         1.0"
      ]
     },
     "execution_count": 495,
     "metadata": {},
     "output_type": "execute_result"
    }
   ],
   "source": [
    "get_recommendations(user_id=150,nb_top_movies=10)"
   ]
  },
  {
   "cell_type": "markdown",
   "metadata": {
    "id": "BOeXGuBqt-j1"
   },
   "source": [
    "With the testing system implemented, we can see that sometimes the recommendation system can function well (Similarity = 1 for a rating of 5), but can also sometimes fail (Similarity of 0.333 for a rating of 5 | but a similarity of 1 for a rating of 1)\n",
    "\n",
    "\n",
    "# Conclusion:\n",
    "\n",
    "The code presented is a first implementation but has a number of shortcomings preventing the collaboration of multiple MLE and Data Scientists:\n",
    "- It is not possible to introduce easily new features mainly because the code is just a bunch of functions in one file.\n",
    "- The code can not be scaled to other datasets or variations of the tasks.\n",
    "- There is no evaluation of the performances.\n",
    "- There is no testing\n",
    "\n",
    "Additionaly a number we could think of some features to add, for example, what about looking at similar users to find a recommendation for our targeted user ?"
   ]
  }
 ],
 "metadata": {
  "colab": {
   "collapsed_sections": [],
   "name": "project_internship_mle.ipynb",
   "provenance": [],
   "toc_visible": true
  },
  "kernelspec": {
   "display_name": "Python 3",
   "language": "python",
   "name": "python3"
  },
  "language_info": {
   "codemirror_mode": {
    "name": "ipython",
    "version": 3
   },
   "file_extension": ".py",
   "mimetype": "text/x-python",
   "name": "python",
   "nbconvert_exporter": "python",
   "pygments_lexer": "ipython3",
   "version": "3.7.4"
  }
 },
 "nbformat": 4,
 "nbformat_minor": 4
}
